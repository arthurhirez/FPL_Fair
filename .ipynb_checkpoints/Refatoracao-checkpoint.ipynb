{
 "cells": [
  {
   "cell_type": "code",
   "execution_count": 1,
   "id": "cee724d9-46f4-4458-bc1f-4f1b01edbea6",
   "metadata": {
    "jupyter": {
     "is_executing": true
    }
   },
   "outputs": [],
   "source": [
    "from Tbx_Sample import *"
   ]
  },
  {
   "cell_type": "code",
   "execution_count": 2,
   "id": "6264f3d6b6152f2e",
   "metadata": {
    "ExecuteTime": {
     "end_time": "2025-03-27T15:04:05.861653Z",
     "start_time": "2025-03-27T15:03:44.095441Z"
    }
   },
   "outputs": [],
   "source": [
    "import os\n",
    "import sys\n",
    "import socket\n",
    "import torch.multiprocessing\n",
    "\n",
    "import copy\n",
    "\n",
    "torch.multiprocessing.set_sharing_strategy('file_system')\n",
    "import warnings\n",
    "\n",
    "warnings.filterwarnings(\"ignore\")\n",
    "\n",
    "conf_path = os.getcwd()\n",
    "sys.path.append(conf_path)\n",
    "sys.path.append(conf_path + '/datasets')\n",
    "sys.path.append(conf_path + '/backbone')\n",
    "sys.path.append(conf_path + '/models')\n",
    "from datasets import Priv_NAMES as DATASET_NAMES\n",
    "from models import get_all_models\n",
    "from argparse import ArgumentParser\n",
    "from utils.args import add_management_args\n",
    "from datasets import get_prive_dataset\n",
    "from models import get_model\n",
    "from utils.training import train\n",
    "from utils.best_args import best_args\n",
    "from utils.conf import set_random_seed\n",
    "import setproctitle\n",
    "\n",
    "import torch\n",
    "import uuid\n",
    "import datetime"
   ]
  },
  {
   "cell_type": "code",
   "execution_count": 3,
   "id": "f3ce64cccf6816b5",
   "metadata": {
    "ExecuteTime": {
     "end_time": "2025-03-27T15:04:05.891179Z",
     "start_time": "2025-03-27T15:04:05.880900Z"
    }
   },
   "outputs": [],
   "source": [
    "def parse_args():\n",
    "    parser = ArgumentParser(description='You Only Need Me', allow_abbrev=False)\n",
    "    parser.add_argument('--device_id', type=int, default=0, help='The Device Id for Experiment')\n",
    "\n",
    "    parser.add_argument('--communication_epoch', type=int, default=20, help='The Communication Epoch in Federated Learning')\n",
    "    parser.add_argument('--local_epoch', type=int, default=10, help='The Local Epoch for each Participant')\n",
    "    parser.add_argument('--parti_num', type=int, default=20, help='The Number for Participants')\n",
    "\n",
    "    parser.add_argument('--seed', type=int, default=0, help='The random seed.')\n",
    "    parser.add_argument('--rand_dataset', type=dict, default={'mnist': 1, 'usps': 1, 'svhn': 1, 'syn': 2}, help='The random seed.')\n",
    "\n",
    "    parser.add_argument('--model', type=str, default='fpl',  # moon fedinfonce\n",
    "                        help='Model name.', choices=get_all_models())\n",
    "    parser.add_argument('--structure', type=str, default='homogeneity')\n",
    "    parser.add_argument('--dataset', type=str, default='fl_digits',  # fl_officecaltech fl_digits\n",
    "                        choices=DATASET_NAMES, help='Which scenario to perform experiments on.')\n",
    "\n",
    "    parser.add_argument('--pri_aug', type=str, default='weak',  # weak strong\n",
    "                        help='Augmentation for Private Data')\n",
    "    parser.add_argument('--online_ratio', type=float, default=1, help='The Ratio for Online Clients')\n",
    "    parser.add_argument('--learning_decay', type=bool, default=False, help='The Option for Learning Rate Decay')\n",
    "    parser.add_argument('--averaing', type=str, default='weight', help='The Option for averaging strategy')\n",
    "\n",
    "    parser.add_argument('--infoNCET', type=float, default=0.02, help='The InfoNCE temperature')\n",
    "    parser.add_argument('--T', type=float, default=0.05, help='The Knowledge distillation temperature')\n",
    "    parser.add_argument('--weight', type=int, default=1, help='The Wegith for the distillation loss')\n",
    "\n",
    "    parser.add_argument('--reserv_ratio', type=float, default=0.1, help='Reserve ratio for prototypes')\n",
    "\n",
    "    torch.set_num_threads(4)\n",
    "    def add_management_args(parser: ArgumentParser) -> None:\n",
    "        parser.add_argument('--csv_log', action='store_true',\n",
    "                            help='Enable csv logging',default=False)\n",
    "    \n",
    "    add_management_args(parser)\n",
    "    \n",
    "    args, unknown = parser.parse_known_args()\n",
    "\n",
    "    best = best_args[args.dataset][args.model]\n",
    "\n",
    "    for key, value in best.items():\n",
    "        setattr(args, key, value)\n",
    "\n",
    "    if args.seed is not None:\n",
    "        set_random_seed(args.seed)\n",
    "    return args"
   ]
  },
  {
   "cell_type": "code",
   "execution_count": 4,
   "id": "414a8e8ba6505699",
   "metadata": {
    "ExecuteTime": {
     "end_time": "2025-03-27T15:04:06.035162Z",
     "start_time": "2025-03-27T15:04:05.973184Z"
    }
   },
   "outputs": [],
   "source": [
    "args = parse_args()\n",
    "\n",
    "priv_dataset = get_prive_dataset(args)"
   ]
  },
  {
   "cell_type": "code",
   "execution_count": 5,
   "id": "aec745eed4e39c71",
   "metadata": {
    "ExecuteTime": {
     "end_time": "2025-03-27T15:04:06.068560Z",
     "start_time": "2025-03-27T15:04:06.060450Z"
    }
   },
   "outputs": [
    {
     "data": {
      "text/plain": [
       "[]"
      ]
     },
     "execution_count": 5,
     "metadata": {},
     "output_type": "execute_result"
    }
   ],
   "source": [
    "priv_dataset.train_loaders"
   ]
  },
  {
   "cell_type": "code",
   "execution_count": 6,
   "id": "f6ff383b14ea618d",
   "metadata": {
    "ExecuteTime": {
     "end_time": "2025-03-27T15:04:06.139059Z",
     "start_time": "2025-03-27T15:04:06.130661Z"
    }
   },
   "outputs": [
    {
     "name": "stdout",
     "output_type": "stream",
     "text": [
      "{'train_loaders': [], 'test_loader': [], 'args': Namespace(device_id=0, communication_epoch=20, local_epoch=10, parti_num=20, seed=0, rand_dataset={'mnist': 1, 'usps': 1, 'svhn': 1, 'syn': 2}, model='fpl', structure='homogeneity', dataset='fl_digits', pri_aug='weak', online_ratio=1, learning_decay=False, averaing='weight', infoNCET=0.02, T=0.05, weight=1, reserv_ratio=0.1, csv_log=False, local_lr=0.01, local_batch_size=64, Note='+ MSE')}\n"
     ]
    }
   ],
   "source": [
    "print(vars(priv_dataset))"
   ]
  },
  {
   "cell_type": "code",
   "execution_count": 7,
   "id": "a7f6fd933adc36ed",
   "metadata": {
    "ExecuteTime": {
     "end_time": "2025-03-27T15:04:06.323448Z",
     "start_time": "2025-03-27T15:04:06.189316Z"
    }
   },
   "outputs": [],
   "source": [
    "backbones_list = priv_dataset.get_backbone(args.parti_num, None)"
   ]
  },
  {
   "cell_type": "code",
   "execution_count": 8,
   "id": "a17d4759e5d8ddf7",
   "metadata": {
    "ExecuteTime": {
     "end_time": "2025-03-27T15:04:07.346534Z",
     "start_time": "2025-03-27T15:04:06.323448Z"
    }
   },
   "outputs": [],
   "source": [
    "model = get_model(backbones_list, args, priv_dataset.get_transform())"
   ]
  },
  {
   "cell_type": "code",
   "execution_count": 9,
   "id": "332c8539360a2faa",
   "metadata": {
    "ExecuteTime": {
     "end_time": "2025-03-27T15:04:07.360822Z",
     "start_time": "2025-03-27T15:04:07.356815Z"
    }
   },
   "outputs": [],
   "source": [
    "# print(vars(model))"
   ]
  },
  {
   "cell_type": "code",
   "execution_count": 10,
   "id": "4973153dd284fbde",
   "metadata": {
    "ExecuteTime": {
     "end_time": "2025-03-27T15:04:07.375293Z",
     "start_time": "2025-03-27T15:04:07.370691Z"
    }
   },
   "outputs": [],
   "source": [
    "# model.nets_list[0]"
   ]
  },
  {
   "cell_type": "code",
   "execution_count": 11,
   "id": "7ac7536e9dd411d8",
   "metadata": {
    "ExecuteTime": {
     "end_time": "2025-03-27T15:04:07.420033Z",
     "start_time": "2025-03-27T15:04:07.401265Z"
    }
   },
   "outputs": [],
   "source": [
    "import torch\n",
    "from argparse import Namespace\n",
    "from models.utils.federated_model import FederatedModel\n",
    "from datasets.utils.federated_dataset import FederatedDataset\n",
    "from typing import Tuple\n",
    "from torch.utils.data import DataLoader\n",
    "import numpy as np\n",
    "from utils.logger import CsvWriter\n",
    "from collections import Counter\n",
    "\n",
    "\n",
    "def global_evaluate(model: FederatedModel, test_dl: DataLoader, setting: str, name: str) -> Tuple[list, list]:\n",
    "    accs = []\n",
    "    net = model.global_net\n",
    "    status = net.training\n",
    "    net.eval()\n",
    "    for j, dl in enumerate(test_dl):\n",
    "        correct, total, top1, top5 = 0.0, 0.0, 0.0, 0.0\n",
    "        for batch_idx, (images, labels) in enumerate(dl):\n",
    "            with torch.no_grad():\n",
    "                images, labels = images.to(model.device), labels.to(model.device)\n",
    "                outputs = net(images)\n",
    "                _, max5 = torch.topk(outputs, 5, dim=-1)\n",
    "                labels = labels.view(-1, 1)\n",
    "                top1 += (labels == max5[:, 0:1]).sum().item()\n",
    "                top5 += (labels == max5).sum().item()\n",
    "                total += labels.size(0)\n",
    "        top1acc = round(100 * top1 / total, 2)\n",
    "        top5acc = round(100 * top5 / total, 2)\n",
    "        # if name in ['fl_digits','fl_officecaltech']:\n",
    "        accs.append(top1acc)\n",
    "        # elif name in ['fl_office31','fl_officehome']:\n",
    "        #     accs.append(top5acc)\n",
    "    net.train(status)\n",
    "    return accs\n",
    "\n",
    "\n",
    "def train(model: FederatedModel, private_dataset: FederatedDataset, args: Namespace) -> None:\n",
    "    if args.csv_log:\n",
    "        csv_writer = CsvWriter(args, private_dataset)\n",
    "\n",
    "    model.N_CLASS = private_dataset.N_CLASS\n",
    "    domains_list = private_dataset.DOMAINS_LIST\n",
    "    domains_len = len(domains_list)\n",
    "\n",
    "    if args.rand_dataset:\n",
    "        max_num = 10\n",
    "        is_ok = False\n",
    "\n",
    "        while not is_ok:\n",
    "            if model.args.dataset == 'fl_officecaltech':\n",
    "                selected_domain_list = np.random.choice(domains_list, size=args.parti_num - domains_len, replace=True, p=None)\n",
    "                selected_domain_list = list(selected_domain_list) + domains_list\n",
    "            elif model.args.dataset == 'fl_digits':\n",
    "                selected_domain_list = np.random.choice(domains_list, size=args.parti_num, replace=True, p=None)\n",
    "\n",
    "            result = dict(Counter(selected_domain_list))\n",
    "\n",
    "            for k in result:\n",
    "                if result[k] > max_num:\n",
    "                    is_ok = False\n",
    "                    break\n",
    "            else:\n",
    "                is_ok = True\n",
    "    else:\n",
    "        selected_domain_dict = {'mnist': 6, 'usps': 4, 'svhn': 3, 'syn': 7}  # base\n",
    "        selected_domain_dict = {'mnist': 3, 'usps': 7, 'svhn': 6, 'syn': 4}  # article\n",
    "\n",
    "        # selected_domain_dict = {'mnist': 1, 'usps': 1, 'svhn': 9, 'syn': 9}  # 20\n",
    "\n",
    "        # selected_domain_dict = {'mnist': 3, 'usps': 2, 'svhn': 1, 'syn': 4}  # 10\n",
    "\n",
    "        selected_domain_list = []\n",
    "        for k in selected_domain_dict:\n",
    "            domain_num = selected_domain_dict[k]\n",
    "            for i in range(domain_num):\n",
    "                selected_domain_list.append(k)\n",
    "\n",
    "        selected_domain_list = np.random.permutation(selected_domain_list)\n",
    "\n",
    "        result = Counter(selected_domain_list)\n",
    "    print(result)\n",
    "\n",
    "    print(selected_domain_list)\n",
    "    pri_train_loaders, test_loaders, label_dict, train_dataset_list, test_dataset_list = private_dataset.get_data_loaders(selected_domain_list)\n",
    "    model.trainloaders = pri_train_loaders\n",
    "    if hasattr(model, 'ini'):\n",
    "        model.ini()\n",
    "\n",
    "    accs_dict = {}\n",
    "    mean_accs_list = []\n",
    "\n",
    "    Epoch = args.communication_epoch\n",
    "    for epoch_index in range(Epoch):\n",
    "        model.epoch_index = epoch_index\n",
    "        if hasattr(model, 'loc_update'):\n",
    "            epoch_loc_loss_dict = model.loc_update(pri_train_loaders)\n",
    "\n",
    "        accs = global_evaluate(model, test_loaders, private_dataset.SETTING, private_dataset.NAME)\n",
    "        mean_acc = round(np.mean(accs, axis=0), 3)\n",
    "        mean_accs_list.append(mean_acc)\n",
    "        for i in range(len(accs)):\n",
    "            if i in accs_dict:\n",
    "                accs_dict[i].append(accs[i])\n",
    "            else:\n",
    "                accs_dict[i] = [accs[i]]\n",
    "\n",
    "        print('The ' + str(epoch_index) + ' Communcation Accuracy:', str(mean_acc), 'Method:', model.args.model)\n",
    "        print(accs)\n",
    "\n",
    "    if args.csv_log:\n",
    "        csv_writer.write_acc(accs_dict, mean_accs_list)\n",
    "        \n",
    "    return label_dict, train_dataset_list, test_dataset_list\n"
   ]
  },
  {
   "cell_type": "code",
   "execution_count": null,
   "id": "93f367930073d3e2",
   "metadata": {
    "ExecuteTime": {
     "end_time": "2025-03-27T15:04:07.438927Z",
     "start_time": "2025-03-27T15:04:07.435184Z"
    }
   },
   "outputs": [],
   "source": []
  },
  {
   "cell_type": "code",
   "execution_count": 12,
   "id": "f93fd351555f3c36",
   "metadata": {
    "ExecuteTime": {
     "end_time": "2025-03-16T21:57:18.877264Z",
     "start_time": "2025-03-16T21:57:18.863137Z"
    }
   },
   "outputs": [],
   "source": [
    "# The 49 Communcation Accuracy: 74.34 Method: fpl\n",
    "# [97.63, 88.94, 68.75, 42.04]\n",
    "\n",
    "# batch 256\n",
    "\n",
    "# The 49 Communcation Accuracy: 80.12 Method: fpl\n",
    "# [98.08, 90.33, 79.53, 52.54]\n",
    "# batch 64"
   ]
  },
  {
   "cell_type": "code",
   "execution_count": 13,
   "id": "cb8e3389e68f6739",
   "metadata": {
    "ExecuteTime": {
     "start_time": "2025-03-27T15:04:07.470478Z"
    },
    "jupyter": {
     "is_executing": true
    }
   },
   "outputs": [
    {
     "name": "stdout",
     "output_type": "stream",
     "text": [
      "{'mnist': 6, 'syn': 7, 'usps': 4, 'svhn': 3}\n",
      "['mnist' 'syn' 'usps' 'mnist' 'syn' 'syn' 'syn' 'syn' 'usps' 'syn' 'usps'\n",
      " 'svhn' 'mnist' 'syn' 'svhn' 'mnist' 'mnist' 'mnist' 'svhn' 'usps']\n"
     ]
    },
    {
     "name": "stderr",
     "output_type": "stream",
     "text": [
      "Local Pariticipant 1 CE = 1.344,InfoNCE = 0.000: 100%|██████████| 10/10 [00:05<00:00,  1.84it/s]\n",
      "Local Pariticipant 9 CE = 1.531,InfoNCE = 0.000: 100%|██████████| 10/10 [00:04<00:00,  2.13it/s]\n",
      "Local Pariticipant 18 CE = 2.121,InfoNCE = 0.000: 100%|██████████| 10/10 [00:34<00:00,  3.42s/it]\n",
      "Local Pariticipant 7 CE = 1.510,InfoNCE = 0.000: 100%|██████████| 10/10 [00:07<00:00,  1.33it/s]\n",
      "Local Pariticipant 2 CE = 1.955,InfoNCE = 0.000: 100%|██████████| 10/10 [00:11<00:00,  1.14s/it]\n",
      "Local Pariticipant 19 CE = 1.299,InfoNCE = 0.000: 100%|██████████| 10/10 [00:06<00:00,  1.64it/s]\n",
      "Local Pariticipant 4 CE = 1.496,InfoNCE = 0.000: 100%|██████████| 10/10 [00:20<00:00,  2.10s/it]\n",
      "Local Pariticipant 10 CE = 2.054,InfoNCE = 0.000: 100%|██████████| 10/10 [00:05<00:00,  1.82it/s]\n",
      "Local Pariticipant 16 CE = 0.391,InfoNCE = 0.000: 100%|██████████| 10/10 [00:43<00:00,  4.34s/it]\n",
      "Local Pariticipant 6 CE = 1.589,InfoNCE = 0.000: 100%|██████████| 10/10 [00:12<00:00,  1.26s/it]\n",
      "Local Pariticipant 12 CE = 0.392,InfoNCE = 0.000: 100%|██████████| 10/10 [00:59<00:00,  5.95s/it]\n",
      "Local Pariticipant 5 CE = 1.600,InfoNCE = 0.000: 100%|██████████| 10/10 [00:08<00:00,  1.19it/s]\n",
      "Local Pariticipant 0 CE = 0.317,InfoNCE = 0.000: 100%|██████████| 10/10 [01:11<00:00,  7.11s/it]\n",
      "Local Pariticipant 11 CE = 1.789,InfoNCE = 0.000: 100%|██████████| 10/10 [01:20<00:00,  8.00s/it]\n",
      "Local Pariticipant 14 CE = 2.187,InfoNCE = 0.000:  70%|███████   | 7/10 [01:02<00:26,  8.86s/it]\n",
      "\n",
      "KeyboardInterrupt\n",
      "\n"
     ]
    }
   ],
   "source": [
    "federation, train_dataset_list, test_dataset_list = train(model, priv_dataset, args)"
   ]
  },
  {
   "cell_type": "code",
   "execution_count": 126,
   "id": "638c4c31-bb4f-46f3-9214-9008f6abdab3",
   "metadata": {},
   "outputs": [],
   "source": [
    "original_data = copy.deepcopy(avaliable_indexes[domain])\n",
    "\n",
    "teste = copy.deepcopy(avaliable_indexes[domain])"
   ]
  },
  {
   "cell_type": "code",
   "execution_count": null,
   "id": "f90599b0-75aa-4515-b7b0-27f5620d34a0",
   "metadata": {},
   "outputs": [],
   "source": []
  },
  {
   "cell_type": "code",
   "execution_count": 18,
   "id": "54a23eb8-97a9-404a-a78b-79eaf83e1ef7",
   "metadata": {},
   "outputs": [
    {
     "name": "stdout",
     "output_type": "stream",
     "text": [
      "Added new participant with 6 labels to the federation.\n"
     ]
    }
   ],
   "source": [
    "# Define federation list\n",
    "federation = []\n",
    "\n",
    "# Client A\n",
    "init_pop = 50\n",
    "init_steps = 20\n",
    "init_period = int(0.2 * init_pop)\n",
    "init_freq = 1\n",
    "max_comb = 6\n",
    "init_rate = None\n",
    "init_angular = None\n",
    "domain = 'mnist'\n",
    "\n",
    "add_participant_to_federation(\n",
    "    federation=federation,\n",
    "    available_indexes=avaliable_indexes[domain],\n",
    "    init_pop=init_pop,\n",
    "    init_steps=init_steps,\n",
    "    init_freq=init_freq,\n",
    "    init_period=init_period,\n",
    "    init_rate = init_rate,\n",
    "    init_angular = init_angular,\n",
    "    max_comb=max_comb\n",
    ")"
   ]
  },
  {
   "cell_type": "code",
   "execution_count": 19,
   "id": "6172ee44-c3ca-4388-8941-5cb69f3a9165",
   "metadata": {},
   "outputs": [
    {
     "name": "stdout",
     "output_type": "stream",
     "text": [
      "Added new participant with 5 labels to the federation.\n"
     ]
    }
   ],
   "source": [
    "# Client B\n",
    "init_pop = 50\n",
    "init_steps = 20\n",
    "init_period = int(0.2 * init_pop)\n",
    "init_freq = None\n",
    "max_comb = 5\n",
    "init_rate = None\n",
    "init_angular = None\n",
    "domain = 'mnist'\n",
    "\n",
    "add_participant_to_federation(\n",
    "    federation=federation,\n",
    "    available_indexes=avaliable_indexes[domain],\n",
    "    init_pop=init_pop,\n",
    "    init_steps=init_steps,\n",
    "    init_freq=init_freq,\n",
    "    init_period=init_period,\n",
    "    init_rate = init_rate,\n",
    "    init_angular = init_angular,\n",
    "    max_comb=max_comb\n",
    ")"
   ]
  },
  {
   "cell_type": "code",
   "execution_count": 20,
   "id": "698d8c25-fc61-4c08-a1c1-ccead5f1e6b2",
   "metadata": {},
   "outputs": [
    {
     "name": "stdout",
     "output_type": "stream",
     "text": [
      "Added new participant with 8 labels to the federation.\n"
     ]
    }
   ],
   "source": [
    "# Client C\n",
    "init_pop = 50\n",
    "init_steps = 20\n",
    "init_period = None\n",
    "init_freq = 1\n",
    "max_comb = 8\n",
    "init_rate = None\n",
    "init_angular = None\n",
    "domain = 'mnist'\n",
    "\n",
    "add_participant_to_federation(\n",
    "    federation=federation,\n",
    "    available_indexes=avaliable_indexes[domain],\n",
    "    init_pop=init_pop,\n",
    "    init_steps=init_steps,\n",
    "    init_freq=init_freq,\n",
    "    init_period=init_period,\n",
    "    init_rate = init_rate,\n",
    "    init_angular = init_angular,\n",
    "    max_comb=max_comb\n",
    ")"
   ]
  },
  {
   "cell_type": "code",
   "execution_count": 21,
   "id": "2aa281fe-c665-4233-acbd-d81edb04d56d",
   "metadata": {},
   "outputs": [
    {
     "name": "stdout",
     "output_type": "stream",
     "text": [
      "Added new participant with 8 labels to the federation.\n"
     ]
    }
   ],
   "source": [
    "# Client D\n",
    "init_pop = 50\n",
    "init_steps = 20\n",
    "init_period = None\n",
    "init_freq = None\n",
    "max_comb = 8\n",
    "init_rate = None\n",
    "init_angular = None\n",
    "domain = 'mnist'\n",
    "\n",
    "add_participant_to_federation(\n",
    "    federation=federation,\n",
    "    available_indexes=avaliable_indexes[domain],\n",
    "    init_pop=init_pop,\n",
    "    init_steps=init_steps,\n",
    "    init_freq=init_freq,\n",
    "    init_period=init_period,\n",
    "    init_rate = init_rate,\n",
    "    init_angular = init_angular,\n",
    "    max_comb=max_comb\n",
    ")"
   ]
  },
  {
   "cell_type": "code",
   "execution_count": 22,
   "id": "f398fb67-542e-4f63-9c49-06c0f674bbc5",
   "metadata": {},
   "outputs": [
    {
     "name": "stdout",
     "output_type": "stream",
     "text": [
      "Added new participant with 8 labels to the federation.\n"
     ]
    }
   ],
   "source": [
    "# Client E\n",
    "init_pop = 600\n",
    "init_steps = 20\n",
    "init_period = 0.0000001\n",
    "init_freq = 0.0000001\n",
    "max_comb = 8\n",
    "init_rate = 0.00000001\n",
    "init_angular = 0.00000001\n",
    "domain = 'mnist'\n",
    "\n",
    "add_participant_to_federation(\n",
    "    federation=federation,\n",
    "    available_indexes=avaliable_indexes[domain],\n",
    "    init_pop=init_pop,\n",
    "    init_steps=init_steps,\n",
    "    init_freq=init_freq,\n",
    "    init_period=init_period,\n",
    "    init_rate = init_rate,\n",
    "    init_angular = init_angular,\n",
    "    max_comb=max_comb\n",
    ")"
   ]
  },
  {
   "cell_type": "code",
   "execution_count": 15,
   "id": "f039d6e8-e2ec-4632-b73d-274107b8c2a4",
   "metadata": {},
   "outputs": [
    {
     "data": {
      "text/plain": [
       "(630, 4)"
      ]
     },
     "execution_count": 15,
     "metadata": {},
     "output_type": "execute_result"
    }
   ],
   "source": [
    "aux_plot = []\n",
    "for i, part in enumerate(label_dict):\n",
    "    aux_part = part.report_data()\n",
    "    aux_part['Participant'] = f'Part_{i}'\n",
    "    aux_part.rename(columns = {'id' : 'Digit'}, inplace = True)\n",
    "    aux_plot.append(aux_part)\n",
    "\n",
    "df_plot = pd.concat(aux_plot)\n",
    "\n",
    "# Melt the DataFrame\n",
    "df_plot = df_plot.melt(id_vars=['Digit', 'Participant'], \n",
    "                     var_name='Time', \n",
    "                     value_name='Count')\n",
    "\n",
    "# Convert 'Time' to numerical values (e.g., value_1 → 1, value_2 → 2, etc.)\n",
    "df_plot['Time'] = df_plot['Time'].str.extract('(\\d+)').astype(int) - 1\n",
    "\n",
    "df_plot.shape"
   ]
  },
  {
   "cell_type": "code",
   "execution_count": null,
   "id": "4ba8aebda6c40ca8",
   "metadata": {},
   "outputs": [],
   "source": []
  },
  {
   "cell_type": "code",
   "execution_count": 16,
   "id": "c364379c-59b6-4317-96e4-22765aa53161",
   "metadata": {},
   "outputs": [
    {
     "data": {
      "text/html": [
       "\n",
       "<style>\n",
       "  #altair-viz-67fefa4efde446eea9869b17e00f59f0.vega-embed {\n",
       "    width: 100%;\n",
       "    display: flex;\n",
       "  }\n",
       "\n",
       "  #altair-viz-67fefa4efde446eea9869b17e00f59f0.vega-embed details,\n",
       "  #altair-viz-67fefa4efde446eea9869b17e00f59f0.vega-embed details summary {\n",
       "    position: relative;\n",
       "  }\n",
       "</style>\n",
       "<div id=\"altair-viz-67fefa4efde446eea9869b17e00f59f0\"></div>\n",
       "<script type=\"text/javascript\">\n",
       "  var VEGA_DEBUG = (typeof VEGA_DEBUG == \"undefined\") ? {} : VEGA_DEBUG;\n",
       "  (function(spec, embedOpt){\n",
       "    let outputDiv = document.currentScript.previousElementSibling;\n",
       "    if (outputDiv.id !== \"altair-viz-67fefa4efde446eea9869b17e00f59f0\") {\n",
       "      outputDiv = document.getElementById(\"altair-viz-67fefa4efde446eea9869b17e00f59f0\");\n",
       "    }\n",
       "    const paths = {\n",
       "      \"vega\": \"https://cdn.jsdelivr.net/npm/vega@5?noext\",\n",
       "      \"vega-lib\": \"https://cdn.jsdelivr.net/npm/vega-lib?noext\",\n",
       "      \"vega-lite\": \"https://cdn.jsdelivr.net/npm/vega-lite@5.20.1?noext\",\n",
       "      \"vega-embed\": \"https://cdn.jsdelivr.net/npm/vega-embed@6?noext\",\n",
       "    };\n",
       "\n",
       "    function maybeLoadScript(lib, version) {\n",
       "      var key = `${lib.replace(\"-\", \"\")}_version`;\n",
       "      return (VEGA_DEBUG[key] == version) ?\n",
       "        Promise.resolve(paths[lib]) :\n",
       "        new Promise(function(resolve, reject) {\n",
       "          var s = document.createElement('script');\n",
       "          document.getElementsByTagName(\"head\")[0].appendChild(s);\n",
       "          s.async = true;\n",
       "          s.onload = () => {\n",
       "            VEGA_DEBUG[key] = version;\n",
       "            return resolve(paths[lib]);\n",
       "          };\n",
       "          s.onerror = () => reject(`Error loading script: ${paths[lib]}`);\n",
       "          s.src = paths[lib];\n",
       "        });\n",
       "    }\n",
       "\n",
       "    function showError(err) {\n",
       "      outputDiv.innerHTML = `<div class=\"error\" style=\"color:red;\">${err}</div>`;\n",
       "      throw err;\n",
       "    }\n",
       "\n",
       "    function displayChart(vegaEmbed) {\n",
       "      vegaEmbed(outputDiv, spec, embedOpt)\n",
       "        .catch(err => showError(`Javascript Error: ${err.message}<br>This usually means there's a typo in your chart specification. See the javascript console for the full traceback.`));\n",
       "    }\n",
       "\n",
       "    if(typeof define === \"function\" && define.amd) {\n",
       "      requirejs.config({paths});\n",
       "      require([\"vega-embed\"], displayChart, err => showError(`Error loading script: ${err.message}`));\n",
       "    } else {\n",
       "      maybeLoadScript(\"vega\", \"5\")\n",
       "        .then(() => maybeLoadScript(\"vega-lite\", \"5.20.1\"))\n",
       "        .then(() => maybeLoadScript(\"vega-embed\", \"6\"))\n",
       "        .catch(showError)\n",
       "        .then(() => displayChart(vegaEmbed));\n",
       "    }\n",
       "  })({\"config\": {\"view\": {\"continuousWidth\": 300, \"continuousHeight\": 300}}, \"hconcat\": [{\"mark\": {\"type\": \"bar\"}, \"encoding\": {\"color\": {\"condition\": {\"param\": \"param_2\", \"value\": \"steelblue\"}, \"value\": \"grey\"}, \"x\": {\"field\": \"Participant\", \"type\": \"nominal\"}, \"y\": {\"aggregate\": \"sum\", \"field\": \"Count\", \"type\": \"quantitative\"}}, \"height\": 250, \"name\": \"view_2\", \"transform\": [{\"filter\": {\"param\": \"param_1\"}}], \"width\": 140.0}, {\"layer\": [{\"mark\": {\"type\": \"rect\"}, \"encoding\": {\"color\": {\"condition\": {\"param\": \"param_2\", \"field\": \"Count\", \"legend\": {\"orient\": \"top\"}, \"scale\": {\"scheme\": \"greenblue\"}, \"title\": \"Total Count\", \"type\": \"quantitative\"}, \"value\": \"grey\"}, \"tooltip\": [{\"field\": \"Digit\", \"title\": \"Digit\", \"type\": \"ordinal\"}, {\"field\": \"Participant\", \"title\": \"Participant\", \"type\": \"nominal\"}, {\"field\": \"Count\", \"title\": \"Total Count\", \"type\": \"quantitative\"}], \"x\": {\"field\": \"Digit\", \"title\": \"MNIST Digit (0-9)\", \"type\": \"ordinal\"}, \"y\": {\"field\": \"Participant\", \"title\": \"Participants\", \"type\": \"nominal\"}}, \"name\": \"view_1\", \"transform\": [{\"filter\": {\"param\": \"param_1\"}}]}, {\"mark\": {\"type\": \"point\"}, \"encoding\": {\"color\": {\"value\": \"black\"}, \"size\": {\"field\": \"Count\", \"title\": \"Selected Images\", \"type\": \"quantitative\"}, \"tooltip\": [{\"field\": \"Digit\", \"title\": \"Digit\", \"type\": \"ordinal\"}, {\"field\": \"Participant\", \"title\": \"Participant\", \"type\": \"nominal\"}, {\"field\": \"Count\", \"title\": \"Total Count\", \"type\": \"quantitative\"}], \"x\": {\"field\": \"Digit\", \"title\": \"MNIST Digit (0-9)\", \"type\": \"ordinal\"}, \"y\": {\"field\": \"Participant\", \"title\": \"Participants\", \"type\": \"nominal\"}}, \"transform\": [{\"filter\": {\"param\": \"param_1\"}}, {\"filter\": {\"param\": \"param_2\"}}, {\"filter\": {\"param\": \"param_3\"}}]}], \"height\": 250, \"width\": 210.0}, {\"layer\": [{\"mark\": {\"type\": \"line\"}, \"encoding\": {\"color\": {\"field\": \"Digit\", \"title\": \"Stoc.Process\", \"type\": \"ordinal\"}, \"tooltip\": [{\"field\": \"Digit\", \"type\": \"quantitative\"}, {\"field\": \"Time\", \"type\": \"quantitative\"}, {\"field\": \"Count\", \"type\": \"quantitative\"}], \"x\": {\"field\": \"Time\", \"type\": \"ordinal\"}, \"y\": {\"field\": \"Count\", \"type\": \"quantitative\"}}, \"title\": \"Process over Time\", \"transform\": [{\"filter\": {\"param\": \"param_2\"}}, {\"filter\": {\"param\": \"param_3\"}}]}, {\"mark\": {\"type\": \"circle\", \"size\": 50}, \"encoding\": {\"color\": {\"field\": \"Digit\", \"title\": \"Stoc.Process\", \"type\": \"ordinal\"}, \"tooltip\": [{\"field\": \"Digit\", \"type\": \"quantitative\"}, {\"field\": \"Time\", \"type\": \"quantitative\"}, {\"field\": \"Count\", \"type\": \"quantitative\"}], \"x\": {\"field\": \"Time\", \"type\": \"ordinal\"}, \"y\": {\"field\": \"Count\", \"type\": \"quantitative\"}}, \"transform\": [{\"filter\": {\"param\": \"param_2\"}}, {\"filter\": {\"param\": \"param_3\"}}]}], \"height\": 250, \"width\": 300}], \"data\": {\"name\": \"data-5a42b67d771ae2203a1d86db139b984a\"}, \"params\": [{\"name\": \"param_2\", \"select\": {\"type\": \"point\", \"encodings\": [\"x\"]}, \"views\": [\"view_2\", \"view_1\"]}, {\"name\": \"param_3\", \"select\": {\"type\": \"point\", \"encodings\": [\"y\"]}, \"views\": [\"view_1\"]}, {\"name\": \"param_1\", \"select\": {\"type\": \"point\", \"fields\": [\"Time\"]}, \"bind\": {\"input\": \"range\", \"max\": 20, \"min\": 0, \"name\": \"Select Time: \", \"step\": 1}, \"value\": 0, \"views\": [\"view_1\"]}], \"resolve\": {\"legend\": {\"color\": \"independent\", \"size\": \"independent\"}}, \"$schema\": \"https://vega.github.io/schema/vega-lite/v5.20.1.json\", \"datasets\": {\"data-5a42b67d771ae2203a1d86db139b984a\": [{\"Digit\": 8, \"Participant\": \"Part_0\", \"Time\": 0, \"Count\": 60}, {\"Digit\": 4, \"Participant\": \"Part_0\", \"Time\": 0, \"Count\": 60}, {\"Digit\": 1, \"Participant\": \"Part_0\", \"Time\": 0, \"Count\": 60}, {\"Digit\": 9, \"Participant\": \"Part_0\", \"Time\": 0, \"Count\": 60}, {\"Digit\": 2, \"Participant\": \"Part_0\", \"Time\": 0, \"Count\": 60}, {\"Digit\": 6, \"Participant\": \"Part_0\", \"Time\": 0, \"Count\": 60}, {\"Digit\": 7, \"Participant\": \"Part_0\", \"Time\": 0, \"Count\": 60}, {\"Digit\": 5, \"Participant\": \"Part_0\", \"Time\": 0, \"Count\": 60}, {\"Digit\": 3, \"Participant\": \"Part_0\", \"Time\": 0, \"Count\": 60}, {\"Digit\": 0, \"Participant\": \"Part_0\", \"Time\": 0, \"Count\": 60}, {\"Digit\": 3, \"Participant\": \"Part_1\", \"Time\": 0, \"Count\": 10}, {\"Digit\": 2, \"Participant\": \"Part_1\", \"Time\": 0, \"Count\": 10}, {\"Digit\": 4, \"Participant\": \"Part_1\", \"Time\": 0, \"Count\": 10}, {\"Digit\": 8, \"Participant\": \"Part_1\", \"Time\": 0, \"Count\": 10}, {\"Digit\": 9, \"Participant\": \"Part_1\", \"Time\": 0, \"Count\": 10}, {\"Digit\": 0, \"Participant\": \"Part_1\", \"Time\": 0, \"Count\": 10}, {\"Digit\": 1, \"Participant\": \"Part_1\", \"Time\": 0, \"Count\": 10}, {\"Digit\": 6, \"Participant\": \"Part_1\", \"Time\": 0, \"Count\": 10}, {\"Digit\": 7, \"Participant\": \"Part_1\", \"Time\": 0, \"Count\": 10}, {\"Digit\": 5, \"Participant\": \"Part_1\", \"Time\": 0, \"Count\": 10}, {\"Digit\": 0, \"Participant\": \"Part_2\", \"Time\": 0, \"Count\": 7}, {\"Digit\": 7, \"Participant\": \"Part_2\", \"Time\": 0, \"Count\": 7}, {\"Digit\": 4, \"Participant\": \"Part_2\", \"Time\": 0, \"Count\": 7}, {\"Digit\": 1, \"Participant\": \"Part_2\", \"Time\": 0, \"Count\": 7}, {\"Digit\": 5, \"Participant\": \"Part_2\", \"Time\": 0, \"Count\": 7}, {\"Digit\": 3, \"Participant\": \"Part_2\", \"Time\": 0, \"Count\": 7}, {\"Digit\": 9, \"Participant\": \"Part_2\", \"Time\": 0, \"Count\": 7}, {\"Digit\": 2, \"Participant\": \"Part_2\", \"Time\": 0, \"Count\": 7}, {\"Digit\": 8, \"Participant\": \"Part_2\", \"Time\": 0, \"Count\": 7}, {\"Digit\": 6, \"Participant\": \"Part_2\", \"Time\": 0, \"Count\": 7}, {\"Digit\": 8, \"Participant\": \"Part_0\", \"Time\": 1, \"Count\": 58}, {\"Digit\": 4, \"Participant\": \"Part_0\", \"Time\": 1, \"Count\": 60}, {\"Digit\": 1, \"Participant\": \"Part_0\", \"Time\": 1, \"Count\": 60}, {\"Digit\": 9, \"Participant\": \"Part_0\", \"Time\": 1, \"Count\": 60}, {\"Digit\": 2, \"Participant\": \"Part_0\", \"Time\": 1, \"Count\": 59}, {\"Digit\": 6, \"Participant\": \"Part_0\", \"Time\": 1, \"Count\": 59}, {\"Digit\": 7, \"Participant\": \"Part_0\", \"Time\": 1, \"Count\": 60}, {\"Digit\": 5, \"Participant\": \"Part_0\", \"Time\": 1, \"Count\": 58}, {\"Digit\": 3, \"Participant\": \"Part_0\", \"Time\": 1, \"Count\": 60}, {\"Digit\": 0, \"Participant\": \"Part_0\", \"Time\": 1, \"Count\": 60}, {\"Digit\": 3, \"Participant\": \"Part_1\", \"Time\": 1, \"Count\": 9}, {\"Digit\": 2, \"Participant\": \"Part_1\", \"Time\": 1, \"Count\": 9}, {\"Digit\": 4, \"Participant\": \"Part_1\", \"Time\": 1, \"Count\": 9}, {\"Digit\": 8, \"Participant\": \"Part_1\", \"Time\": 1, \"Count\": 9}, {\"Digit\": 9, \"Participant\": \"Part_1\", \"Time\": 1, \"Count\": 9}, {\"Digit\": 0, \"Participant\": \"Part_1\", \"Time\": 1, \"Count\": 10}, {\"Digit\": 1, \"Participant\": \"Part_1\", \"Time\": 1, \"Count\": 9}, {\"Digit\": 6, \"Participant\": \"Part_1\", \"Time\": 1, \"Count\": 9}, {\"Digit\": 7, \"Participant\": \"Part_1\", \"Time\": 1, \"Count\": 10}, {\"Digit\": 5, \"Participant\": \"Part_1\", \"Time\": 1, \"Count\": 9}, {\"Digit\": 0, \"Participant\": \"Part_2\", \"Time\": 1, \"Count\": 6}, {\"Digit\": 7, \"Participant\": \"Part_2\", \"Time\": 1, \"Count\": 6}, {\"Digit\": 4, \"Participant\": \"Part_2\", \"Time\": 1, \"Count\": 6}, {\"Digit\": 1, \"Participant\": \"Part_2\", \"Time\": 1, \"Count\": 6}, {\"Digit\": 5, \"Participant\": \"Part_2\", \"Time\": 1, \"Count\": 6}, {\"Digit\": 3, \"Participant\": \"Part_2\", \"Time\": 1, \"Count\": 6}, {\"Digit\": 9, \"Participant\": \"Part_2\", \"Time\": 1, \"Count\": 6}, {\"Digit\": 2, \"Participant\": \"Part_2\", \"Time\": 1, \"Count\": 6}, {\"Digit\": 8, \"Participant\": \"Part_2\", \"Time\": 1, \"Count\": 6}, {\"Digit\": 6, \"Participant\": \"Part_2\", \"Time\": 1, \"Count\": 7}, {\"Digit\": 8, \"Participant\": \"Part_0\", \"Time\": 2, \"Count\": 58}, {\"Digit\": 4, \"Participant\": \"Part_0\", \"Time\": 2, \"Count\": 60}, {\"Digit\": 1, \"Participant\": \"Part_0\", \"Time\": 2, \"Count\": 60}, {\"Digit\": 9, \"Participant\": \"Part_0\", \"Time\": 2, \"Count\": 60}, {\"Digit\": 2, \"Participant\": \"Part_0\", \"Time\": 2, \"Count\": 59}, {\"Digit\": 6, \"Participant\": \"Part_0\", \"Time\": 2, \"Count\": 59}, {\"Digit\": 7, \"Participant\": \"Part_0\", \"Time\": 2, \"Count\": 60}, {\"Digit\": 5, \"Participant\": \"Part_0\", \"Time\": 2, \"Count\": 58}, {\"Digit\": 3, \"Participant\": \"Part_0\", \"Time\": 2, \"Count\": 60}, {\"Digit\": 0, \"Participant\": \"Part_0\", \"Time\": 2, \"Count\": 60}, {\"Digit\": 3, \"Participant\": \"Part_1\", \"Time\": 2, \"Count\": 9}, {\"Digit\": 2, \"Participant\": \"Part_1\", \"Time\": 2, \"Count\": 9}, {\"Digit\": 4, \"Participant\": \"Part_1\", \"Time\": 2, \"Count\": 9}, {\"Digit\": 8, \"Participant\": \"Part_1\", \"Time\": 2, \"Count\": 9}, {\"Digit\": 9, \"Participant\": \"Part_1\", \"Time\": 2, \"Count\": 9}, {\"Digit\": 0, \"Participant\": \"Part_1\", \"Time\": 2, \"Count\": 10}, {\"Digit\": 1, \"Participant\": \"Part_1\", \"Time\": 2, \"Count\": 9}, {\"Digit\": 6, \"Participant\": \"Part_1\", \"Time\": 2, \"Count\": 9}, {\"Digit\": 7, \"Participant\": \"Part_1\", \"Time\": 2, \"Count\": 10}, {\"Digit\": 5, \"Participant\": \"Part_1\", \"Time\": 2, \"Count\": 9}, {\"Digit\": 0, \"Participant\": \"Part_2\", \"Time\": 2, \"Count\": 6}, {\"Digit\": 7, \"Participant\": \"Part_2\", \"Time\": 2, \"Count\": 6}, {\"Digit\": 4, \"Participant\": \"Part_2\", \"Time\": 2, \"Count\": 6}, {\"Digit\": 1, \"Participant\": \"Part_2\", \"Time\": 2, \"Count\": 6}, {\"Digit\": 5, \"Participant\": \"Part_2\", \"Time\": 2, \"Count\": 6}, {\"Digit\": 3, \"Participant\": \"Part_2\", \"Time\": 2, \"Count\": 6}, {\"Digit\": 9, \"Participant\": \"Part_2\", \"Time\": 2, \"Count\": 6}, {\"Digit\": 2, \"Participant\": \"Part_2\", \"Time\": 2, \"Count\": 6}, {\"Digit\": 8, \"Participant\": \"Part_2\", \"Time\": 2, \"Count\": 6}, {\"Digit\": 6, \"Participant\": \"Part_2\", \"Time\": 2, \"Count\": 7}, {\"Digit\": 8, \"Participant\": \"Part_0\", \"Time\": 3, \"Count\": 58}, {\"Digit\": 4, \"Participant\": \"Part_0\", \"Time\": 3, \"Count\": 60}, {\"Digit\": 1, \"Participant\": \"Part_0\", \"Time\": 3, \"Count\": 60}, {\"Digit\": 9, \"Participant\": \"Part_0\", \"Time\": 3, \"Count\": 60}, {\"Digit\": 2, \"Participant\": \"Part_0\", \"Time\": 3, \"Count\": 59}, {\"Digit\": 6, \"Participant\": \"Part_0\", \"Time\": 3, \"Count\": 59}, {\"Digit\": 7, \"Participant\": \"Part_0\", \"Time\": 3, \"Count\": 60}, {\"Digit\": 5, \"Participant\": \"Part_0\", \"Time\": 3, \"Count\": 58}, {\"Digit\": 3, \"Participant\": \"Part_0\", \"Time\": 3, \"Count\": 60}, {\"Digit\": 0, \"Participant\": \"Part_0\", \"Time\": 3, \"Count\": 60}, {\"Digit\": 3, \"Participant\": \"Part_1\", \"Time\": 3, \"Count\": 9}, {\"Digit\": 2, \"Participant\": \"Part_1\", \"Time\": 3, \"Count\": 9}, {\"Digit\": 4, \"Participant\": \"Part_1\", \"Time\": 3, \"Count\": 9}, {\"Digit\": 8, \"Participant\": \"Part_1\", \"Time\": 3, \"Count\": 9}, {\"Digit\": 9, \"Participant\": \"Part_1\", \"Time\": 3, \"Count\": 9}, {\"Digit\": 0, \"Participant\": \"Part_1\", \"Time\": 3, \"Count\": 10}, {\"Digit\": 1, \"Participant\": \"Part_1\", \"Time\": 3, \"Count\": 9}, {\"Digit\": 6, \"Participant\": \"Part_1\", \"Time\": 3, \"Count\": 9}, {\"Digit\": 7, \"Participant\": \"Part_1\", \"Time\": 3, \"Count\": 10}, {\"Digit\": 5, \"Participant\": \"Part_1\", \"Time\": 3, \"Count\": 9}, {\"Digit\": 0, \"Participant\": \"Part_2\", \"Time\": 3, \"Count\": 6}, {\"Digit\": 7, \"Participant\": \"Part_2\", \"Time\": 3, \"Count\": 6}, {\"Digit\": 4, \"Participant\": \"Part_2\", \"Time\": 3, \"Count\": 6}, {\"Digit\": 1, \"Participant\": \"Part_2\", \"Time\": 3, \"Count\": 6}, {\"Digit\": 5, \"Participant\": \"Part_2\", \"Time\": 3, \"Count\": 6}, {\"Digit\": 3, \"Participant\": \"Part_2\", \"Time\": 3, \"Count\": 6}, {\"Digit\": 9, \"Participant\": \"Part_2\", \"Time\": 3, \"Count\": 6}, {\"Digit\": 2, \"Participant\": \"Part_2\", \"Time\": 3, \"Count\": 6}, {\"Digit\": 8, \"Participant\": \"Part_2\", \"Time\": 3, \"Count\": 6}, {\"Digit\": 6, \"Participant\": \"Part_2\", \"Time\": 3, \"Count\": 7}, {\"Digit\": 8, \"Participant\": \"Part_0\", \"Time\": 4, \"Count\": 58}, {\"Digit\": 4, \"Participant\": \"Part_0\", \"Time\": 4, \"Count\": 60}, {\"Digit\": 1, \"Participant\": \"Part_0\", \"Time\": 4, \"Count\": 60}, {\"Digit\": 9, \"Participant\": \"Part_0\", \"Time\": 4, \"Count\": 60}, {\"Digit\": 2, \"Participant\": \"Part_0\", \"Time\": 4, \"Count\": 59}, {\"Digit\": 6, \"Participant\": \"Part_0\", \"Time\": 4, \"Count\": 59}, {\"Digit\": 7, \"Participant\": \"Part_0\", \"Time\": 4, \"Count\": 60}, {\"Digit\": 5, \"Participant\": \"Part_0\", \"Time\": 4, \"Count\": 58}, {\"Digit\": 3, \"Participant\": \"Part_0\", \"Time\": 4, \"Count\": 60}, {\"Digit\": 0, \"Participant\": \"Part_0\", \"Time\": 4, \"Count\": 60}, {\"Digit\": 3, \"Participant\": \"Part_1\", \"Time\": 4, \"Count\": 9}, {\"Digit\": 2, \"Participant\": \"Part_1\", \"Time\": 4, \"Count\": 9}, {\"Digit\": 4, \"Participant\": \"Part_1\", \"Time\": 4, \"Count\": 9}, {\"Digit\": 8, \"Participant\": \"Part_1\", \"Time\": 4, \"Count\": 9}, {\"Digit\": 9, \"Participant\": \"Part_1\", \"Time\": 4, \"Count\": 9}, {\"Digit\": 0, \"Participant\": \"Part_1\", \"Time\": 4, \"Count\": 10}, {\"Digit\": 1, \"Participant\": \"Part_1\", \"Time\": 4, \"Count\": 9}, {\"Digit\": 6, \"Participant\": \"Part_1\", \"Time\": 4, \"Count\": 9}, {\"Digit\": 7, \"Participant\": \"Part_1\", \"Time\": 4, \"Count\": 10}, {\"Digit\": 5, \"Participant\": \"Part_1\", \"Time\": 4, \"Count\": 9}, {\"Digit\": 0, \"Participant\": \"Part_2\", \"Time\": 4, \"Count\": 6}, {\"Digit\": 7, \"Participant\": \"Part_2\", \"Time\": 4, \"Count\": 6}, {\"Digit\": 4, \"Participant\": \"Part_2\", \"Time\": 4, \"Count\": 6}, {\"Digit\": 1, \"Participant\": \"Part_2\", \"Time\": 4, \"Count\": 6}, {\"Digit\": 5, \"Participant\": \"Part_2\", \"Time\": 4, \"Count\": 6}, {\"Digit\": 3, \"Participant\": \"Part_2\", \"Time\": 4, \"Count\": 6}, {\"Digit\": 9, \"Participant\": \"Part_2\", \"Time\": 4, \"Count\": 6}, {\"Digit\": 2, \"Participant\": \"Part_2\", \"Time\": 4, \"Count\": 6}, {\"Digit\": 8, \"Participant\": \"Part_2\", \"Time\": 4, \"Count\": 6}, {\"Digit\": 6, \"Participant\": \"Part_2\", \"Time\": 4, \"Count\": 7}, {\"Digit\": 8, \"Participant\": \"Part_0\", \"Time\": 5, \"Count\": 58}, {\"Digit\": 4, \"Participant\": \"Part_0\", \"Time\": 5, \"Count\": 60}, {\"Digit\": 1, \"Participant\": \"Part_0\", \"Time\": 5, \"Count\": 60}, {\"Digit\": 9, \"Participant\": \"Part_0\", \"Time\": 5, \"Count\": 60}, {\"Digit\": 2, \"Participant\": \"Part_0\", \"Time\": 5, \"Count\": 59}, {\"Digit\": 6, \"Participant\": \"Part_0\", \"Time\": 5, \"Count\": 59}, {\"Digit\": 7, \"Participant\": \"Part_0\", \"Time\": 5, \"Count\": 60}, {\"Digit\": 5, \"Participant\": \"Part_0\", \"Time\": 5, \"Count\": 58}, {\"Digit\": 3, \"Participant\": \"Part_0\", \"Time\": 5, \"Count\": 60}, {\"Digit\": 0, \"Participant\": \"Part_0\", \"Time\": 5, \"Count\": 60}, {\"Digit\": 3, \"Participant\": \"Part_1\", \"Time\": 5, \"Count\": 9}, {\"Digit\": 2, \"Participant\": \"Part_1\", \"Time\": 5, \"Count\": 9}, {\"Digit\": 4, \"Participant\": \"Part_1\", \"Time\": 5, \"Count\": 9}, {\"Digit\": 8, \"Participant\": \"Part_1\", \"Time\": 5, \"Count\": 9}, {\"Digit\": 9, \"Participant\": \"Part_1\", \"Time\": 5, \"Count\": 9}, {\"Digit\": 0, \"Participant\": \"Part_1\", \"Time\": 5, \"Count\": 10}, {\"Digit\": 1, \"Participant\": \"Part_1\", \"Time\": 5, \"Count\": 9}, {\"Digit\": 6, \"Participant\": \"Part_1\", \"Time\": 5, \"Count\": 9}, {\"Digit\": 7, \"Participant\": \"Part_1\", \"Time\": 5, \"Count\": 10}, {\"Digit\": 5, \"Participant\": \"Part_1\", \"Time\": 5, \"Count\": 9}, {\"Digit\": 0, \"Participant\": \"Part_2\", \"Time\": 5, \"Count\": 6}, {\"Digit\": 7, \"Participant\": \"Part_2\", \"Time\": 5, \"Count\": 6}, {\"Digit\": 4, \"Participant\": \"Part_2\", \"Time\": 5, \"Count\": 6}, {\"Digit\": 1, \"Participant\": \"Part_2\", \"Time\": 5, \"Count\": 6}, {\"Digit\": 5, \"Participant\": \"Part_2\", \"Time\": 5, \"Count\": 6}, {\"Digit\": 3, \"Participant\": \"Part_2\", \"Time\": 5, \"Count\": 6}, {\"Digit\": 9, \"Participant\": \"Part_2\", \"Time\": 5, \"Count\": 6}, {\"Digit\": 2, \"Participant\": \"Part_2\", \"Time\": 5, \"Count\": 6}, {\"Digit\": 8, \"Participant\": \"Part_2\", \"Time\": 5, \"Count\": 6}, {\"Digit\": 6, \"Participant\": \"Part_2\", \"Time\": 5, \"Count\": 7}, {\"Digit\": 8, \"Participant\": \"Part_0\", \"Time\": 6, \"Count\": 58}, {\"Digit\": 4, \"Participant\": \"Part_0\", \"Time\": 6, \"Count\": 60}, {\"Digit\": 1, \"Participant\": \"Part_0\", \"Time\": 6, \"Count\": 60}, {\"Digit\": 9, \"Participant\": \"Part_0\", \"Time\": 6, \"Count\": 60}, {\"Digit\": 2, \"Participant\": \"Part_0\", \"Time\": 6, \"Count\": 59}, {\"Digit\": 6, \"Participant\": \"Part_0\", \"Time\": 6, \"Count\": 59}, {\"Digit\": 7, \"Participant\": \"Part_0\", \"Time\": 6, \"Count\": 60}, {\"Digit\": 5, \"Participant\": \"Part_0\", \"Time\": 6, \"Count\": 58}, {\"Digit\": 3, \"Participant\": \"Part_0\", \"Time\": 6, \"Count\": 60}, {\"Digit\": 0, \"Participant\": \"Part_0\", \"Time\": 6, \"Count\": 60}, {\"Digit\": 3, \"Participant\": \"Part_1\", \"Time\": 6, \"Count\": 9}, {\"Digit\": 2, \"Participant\": \"Part_1\", \"Time\": 6, \"Count\": 9}, {\"Digit\": 4, \"Participant\": \"Part_1\", \"Time\": 6, \"Count\": 9}, {\"Digit\": 8, \"Participant\": \"Part_1\", \"Time\": 6, \"Count\": 9}, {\"Digit\": 9, \"Participant\": \"Part_1\", \"Time\": 6, \"Count\": 9}, {\"Digit\": 0, \"Participant\": \"Part_1\", \"Time\": 6, \"Count\": 10}, {\"Digit\": 1, \"Participant\": \"Part_1\", \"Time\": 6, \"Count\": 9}, {\"Digit\": 6, \"Participant\": \"Part_1\", \"Time\": 6, \"Count\": 9}, {\"Digit\": 7, \"Participant\": \"Part_1\", \"Time\": 6, \"Count\": 10}, {\"Digit\": 5, \"Participant\": \"Part_1\", \"Time\": 6, \"Count\": 9}, {\"Digit\": 0, \"Participant\": \"Part_2\", \"Time\": 6, \"Count\": 6}, {\"Digit\": 7, \"Participant\": \"Part_2\", \"Time\": 6, \"Count\": 6}, {\"Digit\": 4, \"Participant\": \"Part_2\", \"Time\": 6, \"Count\": 6}, {\"Digit\": 1, \"Participant\": \"Part_2\", \"Time\": 6, \"Count\": 6}, {\"Digit\": 5, \"Participant\": \"Part_2\", \"Time\": 6, \"Count\": 6}, {\"Digit\": 3, \"Participant\": \"Part_2\", \"Time\": 6, \"Count\": 6}, {\"Digit\": 9, \"Participant\": \"Part_2\", \"Time\": 6, \"Count\": 6}, {\"Digit\": 2, \"Participant\": \"Part_2\", \"Time\": 6, \"Count\": 6}, {\"Digit\": 8, \"Participant\": \"Part_2\", \"Time\": 6, \"Count\": 6}, {\"Digit\": 6, \"Participant\": \"Part_2\", \"Time\": 6, \"Count\": 7}, {\"Digit\": 8, \"Participant\": \"Part_0\", \"Time\": 7, \"Count\": 58}, {\"Digit\": 4, \"Participant\": \"Part_0\", \"Time\": 7, \"Count\": 60}, {\"Digit\": 1, \"Participant\": \"Part_0\", \"Time\": 7, \"Count\": 60}, {\"Digit\": 9, \"Participant\": \"Part_0\", \"Time\": 7, \"Count\": 60}, {\"Digit\": 2, \"Participant\": \"Part_0\", \"Time\": 7, \"Count\": 59}, {\"Digit\": 6, \"Participant\": \"Part_0\", \"Time\": 7, \"Count\": 59}, {\"Digit\": 7, \"Participant\": \"Part_0\", \"Time\": 7, \"Count\": 60}, {\"Digit\": 5, \"Participant\": \"Part_0\", \"Time\": 7, \"Count\": 58}, {\"Digit\": 3, \"Participant\": \"Part_0\", \"Time\": 7, \"Count\": 60}, {\"Digit\": 0, \"Participant\": \"Part_0\", \"Time\": 7, \"Count\": 60}, {\"Digit\": 3, \"Participant\": \"Part_1\", \"Time\": 7, \"Count\": 9}, {\"Digit\": 2, \"Participant\": \"Part_1\", \"Time\": 7, \"Count\": 9}, {\"Digit\": 4, \"Participant\": \"Part_1\", \"Time\": 7, \"Count\": 9}, {\"Digit\": 8, \"Participant\": \"Part_1\", \"Time\": 7, \"Count\": 9}, {\"Digit\": 9, \"Participant\": \"Part_1\", \"Time\": 7, \"Count\": 9}, {\"Digit\": 0, \"Participant\": \"Part_1\", \"Time\": 7, \"Count\": 10}, {\"Digit\": 1, \"Participant\": \"Part_1\", \"Time\": 7, \"Count\": 9}, {\"Digit\": 6, \"Participant\": \"Part_1\", \"Time\": 7, \"Count\": 9}, {\"Digit\": 7, \"Participant\": \"Part_1\", \"Time\": 7, \"Count\": 10}, {\"Digit\": 5, \"Participant\": \"Part_1\", \"Time\": 7, \"Count\": 9}, {\"Digit\": 0, \"Participant\": \"Part_2\", \"Time\": 7, \"Count\": 6}, {\"Digit\": 7, \"Participant\": \"Part_2\", \"Time\": 7, \"Count\": 6}, {\"Digit\": 4, \"Participant\": \"Part_2\", \"Time\": 7, \"Count\": 6}, {\"Digit\": 1, \"Participant\": \"Part_2\", \"Time\": 7, \"Count\": 6}, {\"Digit\": 5, \"Participant\": \"Part_2\", \"Time\": 7, \"Count\": 6}, {\"Digit\": 3, \"Participant\": \"Part_2\", \"Time\": 7, \"Count\": 6}, {\"Digit\": 9, \"Participant\": \"Part_2\", \"Time\": 7, \"Count\": 6}, {\"Digit\": 2, \"Participant\": \"Part_2\", \"Time\": 7, \"Count\": 6}, {\"Digit\": 8, \"Participant\": \"Part_2\", \"Time\": 7, \"Count\": 6}, {\"Digit\": 6, \"Participant\": \"Part_2\", \"Time\": 7, \"Count\": 7}, {\"Digit\": 8, \"Participant\": \"Part_0\", \"Time\": 8, \"Count\": 58}, {\"Digit\": 4, \"Participant\": \"Part_0\", \"Time\": 8, \"Count\": 60}, {\"Digit\": 1, \"Participant\": \"Part_0\", \"Time\": 8, \"Count\": 60}, {\"Digit\": 9, \"Participant\": \"Part_0\", \"Time\": 8, \"Count\": 60}, {\"Digit\": 2, \"Participant\": \"Part_0\", \"Time\": 8, \"Count\": 59}, {\"Digit\": 6, \"Participant\": \"Part_0\", \"Time\": 8, \"Count\": 59}, {\"Digit\": 7, \"Participant\": \"Part_0\", \"Time\": 8, \"Count\": 60}, {\"Digit\": 5, \"Participant\": \"Part_0\", \"Time\": 8, \"Count\": 58}, {\"Digit\": 3, \"Participant\": \"Part_0\", \"Time\": 8, \"Count\": 60}, {\"Digit\": 0, \"Participant\": \"Part_0\", \"Time\": 8, \"Count\": 60}, {\"Digit\": 3, \"Participant\": \"Part_1\", \"Time\": 8, \"Count\": 9}, {\"Digit\": 2, \"Participant\": \"Part_1\", \"Time\": 8, \"Count\": 9}, {\"Digit\": 4, \"Participant\": \"Part_1\", \"Time\": 8, \"Count\": 9}, {\"Digit\": 8, \"Participant\": \"Part_1\", \"Time\": 8, \"Count\": 9}, {\"Digit\": 9, \"Participant\": \"Part_1\", \"Time\": 8, \"Count\": 9}, {\"Digit\": 0, \"Participant\": \"Part_1\", \"Time\": 8, \"Count\": 10}, {\"Digit\": 1, \"Participant\": \"Part_1\", \"Time\": 8, \"Count\": 9}, {\"Digit\": 6, \"Participant\": \"Part_1\", \"Time\": 8, \"Count\": 9}, {\"Digit\": 7, \"Participant\": \"Part_1\", \"Time\": 8, \"Count\": 10}, {\"Digit\": 5, \"Participant\": \"Part_1\", \"Time\": 8, \"Count\": 9}, {\"Digit\": 0, \"Participant\": \"Part_2\", \"Time\": 8, \"Count\": 6}, {\"Digit\": 7, \"Participant\": \"Part_2\", \"Time\": 8, \"Count\": 6}, {\"Digit\": 4, \"Participant\": \"Part_2\", \"Time\": 8, \"Count\": 6}, {\"Digit\": 1, \"Participant\": \"Part_2\", \"Time\": 8, \"Count\": 6}, {\"Digit\": 5, \"Participant\": \"Part_2\", \"Time\": 8, \"Count\": 6}, {\"Digit\": 3, \"Participant\": \"Part_2\", \"Time\": 8, \"Count\": 6}, {\"Digit\": 9, \"Participant\": \"Part_2\", \"Time\": 8, \"Count\": 6}, {\"Digit\": 2, \"Participant\": \"Part_2\", \"Time\": 8, \"Count\": 6}, {\"Digit\": 8, \"Participant\": \"Part_2\", \"Time\": 8, \"Count\": 6}, {\"Digit\": 6, \"Participant\": \"Part_2\", \"Time\": 8, \"Count\": 7}, {\"Digit\": 8, \"Participant\": \"Part_0\", \"Time\": 9, \"Count\": 58}, {\"Digit\": 4, \"Participant\": \"Part_0\", \"Time\": 9, \"Count\": 60}, {\"Digit\": 1, \"Participant\": \"Part_0\", \"Time\": 9, \"Count\": 60}, {\"Digit\": 9, \"Participant\": \"Part_0\", \"Time\": 9, \"Count\": 60}, {\"Digit\": 2, \"Participant\": \"Part_0\", \"Time\": 9, \"Count\": 59}, {\"Digit\": 6, \"Participant\": \"Part_0\", \"Time\": 9, \"Count\": 59}, {\"Digit\": 7, \"Participant\": \"Part_0\", \"Time\": 9, \"Count\": 60}, {\"Digit\": 5, \"Participant\": \"Part_0\", \"Time\": 9, \"Count\": 58}, {\"Digit\": 3, \"Participant\": \"Part_0\", \"Time\": 9, \"Count\": 60}, {\"Digit\": 0, \"Participant\": \"Part_0\", \"Time\": 9, \"Count\": 60}, {\"Digit\": 3, \"Participant\": \"Part_1\", \"Time\": 9, \"Count\": 9}, {\"Digit\": 2, \"Participant\": \"Part_1\", \"Time\": 9, \"Count\": 9}, {\"Digit\": 4, \"Participant\": \"Part_1\", \"Time\": 9, \"Count\": 9}, {\"Digit\": 8, \"Participant\": \"Part_1\", \"Time\": 9, \"Count\": 9}, {\"Digit\": 9, \"Participant\": \"Part_1\", \"Time\": 9, \"Count\": 9}, {\"Digit\": 0, \"Participant\": \"Part_1\", \"Time\": 9, \"Count\": 10}, {\"Digit\": 1, \"Participant\": \"Part_1\", \"Time\": 9, \"Count\": 9}, {\"Digit\": 6, \"Participant\": \"Part_1\", \"Time\": 9, \"Count\": 9}, {\"Digit\": 7, \"Participant\": \"Part_1\", \"Time\": 9, \"Count\": 10}, {\"Digit\": 5, \"Participant\": \"Part_1\", \"Time\": 9, \"Count\": 9}, {\"Digit\": 0, \"Participant\": \"Part_2\", \"Time\": 9, \"Count\": 6}, {\"Digit\": 7, \"Participant\": \"Part_2\", \"Time\": 9, \"Count\": 6}, {\"Digit\": 4, \"Participant\": \"Part_2\", \"Time\": 9, \"Count\": 6}, {\"Digit\": 1, \"Participant\": \"Part_2\", \"Time\": 9, \"Count\": 6}, {\"Digit\": 5, \"Participant\": \"Part_2\", \"Time\": 9, \"Count\": 6}, {\"Digit\": 3, \"Participant\": \"Part_2\", \"Time\": 9, \"Count\": 6}, {\"Digit\": 9, \"Participant\": \"Part_2\", \"Time\": 9, \"Count\": 6}, {\"Digit\": 2, \"Participant\": \"Part_2\", \"Time\": 9, \"Count\": 6}, {\"Digit\": 8, \"Participant\": \"Part_2\", \"Time\": 9, \"Count\": 6}, {\"Digit\": 6, \"Participant\": \"Part_2\", \"Time\": 9, \"Count\": 7}, {\"Digit\": 8, \"Participant\": \"Part_0\", \"Time\": 10, \"Count\": 58}, {\"Digit\": 4, \"Participant\": \"Part_0\", \"Time\": 10, \"Count\": 60}, {\"Digit\": 1, \"Participant\": \"Part_0\", \"Time\": 10, \"Count\": 60}, {\"Digit\": 9, \"Participant\": \"Part_0\", \"Time\": 10, \"Count\": 60}, {\"Digit\": 2, \"Participant\": \"Part_0\", \"Time\": 10, \"Count\": 59}, {\"Digit\": 6, \"Participant\": \"Part_0\", \"Time\": 10, \"Count\": 59}, {\"Digit\": 7, \"Participant\": \"Part_0\", \"Time\": 10, \"Count\": 60}, {\"Digit\": 5, \"Participant\": \"Part_0\", \"Time\": 10, \"Count\": 58}, {\"Digit\": 3, \"Participant\": \"Part_0\", \"Time\": 10, \"Count\": 60}, {\"Digit\": 0, \"Participant\": \"Part_0\", \"Time\": 10, \"Count\": 60}, {\"Digit\": 3, \"Participant\": \"Part_1\", \"Time\": 10, \"Count\": 9}, {\"Digit\": 2, \"Participant\": \"Part_1\", \"Time\": 10, \"Count\": 9}, {\"Digit\": 4, \"Participant\": \"Part_1\", \"Time\": 10, \"Count\": 9}, {\"Digit\": 8, \"Participant\": \"Part_1\", \"Time\": 10, \"Count\": 9}, {\"Digit\": 9, \"Participant\": \"Part_1\", \"Time\": 10, \"Count\": 9}, {\"Digit\": 0, \"Participant\": \"Part_1\", \"Time\": 10, \"Count\": 10}, {\"Digit\": 1, \"Participant\": \"Part_1\", \"Time\": 10, \"Count\": 9}, {\"Digit\": 6, \"Participant\": \"Part_1\", \"Time\": 10, \"Count\": 9}, {\"Digit\": 7, \"Participant\": \"Part_1\", \"Time\": 10, \"Count\": 10}, {\"Digit\": 5, \"Participant\": \"Part_1\", \"Time\": 10, \"Count\": 9}, {\"Digit\": 0, \"Participant\": \"Part_2\", \"Time\": 10, \"Count\": 6}, {\"Digit\": 7, \"Participant\": \"Part_2\", \"Time\": 10, \"Count\": 6}, {\"Digit\": 4, \"Participant\": \"Part_2\", \"Time\": 10, \"Count\": 6}, {\"Digit\": 1, \"Participant\": \"Part_2\", \"Time\": 10, \"Count\": 6}, {\"Digit\": 5, \"Participant\": \"Part_2\", \"Time\": 10, \"Count\": 6}, {\"Digit\": 3, \"Participant\": \"Part_2\", \"Time\": 10, \"Count\": 6}, {\"Digit\": 9, \"Participant\": \"Part_2\", \"Time\": 10, \"Count\": 6}, {\"Digit\": 2, \"Participant\": \"Part_2\", \"Time\": 10, \"Count\": 6}, {\"Digit\": 8, \"Participant\": \"Part_2\", \"Time\": 10, \"Count\": 6}, {\"Digit\": 6, \"Participant\": \"Part_2\", \"Time\": 10, \"Count\": 7}, {\"Digit\": 8, \"Participant\": \"Part_0\", \"Time\": 11, \"Count\": 58}, {\"Digit\": 4, \"Participant\": \"Part_0\", \"Time\": 11, \"Count\": 60}, {\"Digit\": 1, \"Participant\": \"Part_0\", \"Time\": 11, \"Count\": 60}, {\"Digit\": 9, \"Participant\": \"Part_0\", \"Time\": 11, \"Count\": 60}, {\"Digit\": 2, \"Participant\": \"Part_0\", \"Time\": 11, \"Count\": 59}, {\"Digit\": 6, \"Participant\": \"Part_0\", \"Time\": 11, \"Count\": 59}, {\"Digit\": 7, \"Participant\": \"Part_0\", \"Time\": 11, \"Count\": 60}, {\"Digit\": 5, \"Participant\": \"Part_0\", \"Time\": 11, \"Count\": 58}, {\"Digit\": 3, \"Participant\": \"Part_0\", \"Time\": 11, \"Count\": 60}, {\"Digit\": 0, \"Participant\": \"Part_0\", \"Time\": 11, \"Count\": 60}, {\"Digit\": 3, \"Participant\": \"Part_1\", \"Time\": 11, \"Count\": 9}, {\"Digit\": 2, \"Participant\": \"Part_1\", \"Time\": 11, \"Count\": 9}, {\"Digit\": 4, \"Participant\": \"Part_1\", \"Time\": 11, \"Count\": 9}, {\"Digit\": 8, \"Participant\": \"Part_1\", \"Time\": 11, \"Count\": 9}, {\"Digit\": 9, \"Participant\": \"Part_1\", \"Time\": 11, \"Count\": 9}, {\"Digit\": 0, \"Participant\": \"Part_1\", \"Time\": 11, \"Count\": 10}, {\"Digit\": 1, \"Participant\": \"Part_1\", \"Time\": 11, \"Count\": 9}, {\"Digit\": 6, \"Participant\": \"Part_1\", \"Time\": 11, \"Count\": 9}, {\"Digit\": 7, \"Participant\": \"Part_1\", \"Time\": 11, \"Count\": 10}, {\"Digit\": 5, \"Participant\": \"Part_1\", \"Time\": 11, \"Count\": 9}, {\"Digit\": 0, \"Participant\": \"Part_2\", \"Time\": 11, \"Count\": 6}, {\"Digit\": 7, \"Participant\": \"Part_2\", \"Time\": 11, \"Count\": 6}, {\"Digit\": 4, \"Participant\": \"Part_2\", \"Time\": 11, \"Count\": 6}, {\"Digit\": 1, \"Participant\": \"Part_2\", \"Time\": 11, \"Count\": 6}, {\"Digit\": 5, \"Participant\": \"Part_2\", \"Time\": 11, \"Count\": 6}, {\"Digit\": 3, \"Participant\": \"Part_2\", \"Time\": 11, \"Count\": 6}, {\"Digit\": 9, \"Participant\": \"Part_2\", \"Time\": 11, \"Count\": 6}, {\"Digit\": 2, \"Participant\": \"Part_2\", \"Time\": 11, \"Count\": 6}, {\"Digit\": 8, \"Participant\": \"Part_2\", \"Time\": 11, \"Count\": 6}, {\"Digit\": 6, \"Participant\": \"Part_2\", \"Time\": 11, \"Count\": 7}, {\"Digit\": 8, \"Participant\": \"Part_0\", \"Time\": 12, \"Count\": 58}, {\"Digit\": 4, \"Participant\": \"Part_0\", \"Time\": 12, \"Count\": 60}, {\"Digit\": 1, \"Participant\": \"Part_0\", \"Time\": 12, \"Count\": 60}, {\"Digit\": 9, \"Participant\": \"Part_0\", \"Time\": 12, \"Count\": 60}, {\"Digit\": 2, \"Participant\": \"Part_0\", \"Time\": 12, \"Count\": 59}, {\"Digit\": 6, \"Participant\": \"Part_0\", \"Time\": 12, \"Count\": 59}, {\"Digit\": 7, \"Participant\": \"Part_0\", \"Time\": 12, \"Count\": 60}, {\"Digit\": 5, \"Participant\": \"Part_0\", \"Time\": 12, \"Count\": 58}, {\"Digit\": 3, \"Participant\": \"Part_0\", \"Time\": 12, \"Count\": 60}, {\"Digit\": 0, \"Participant\": \"Part_0\", \"Time\": 12, \"Count\": 60}, {\"Digit\": 3, \"Participant\": \"Part_1\", \"Time\": 12, \"Count\": 9}, {\"Digit\": 2, \"Participant\": \"Part_1\", \"Time\": 12, \"Count\": 9}, {\"Digit\": 4, \"Participant\": \"Part_1\", \"Time\": 12, \"Count\": 9}, {\"Digit\": 8, \"Participant\": \"Part_1\", \"Time\": 12, \"Count\": 9}, {\"Digit\": 9, \"Participant\": \"Part_1\", \"Time\": 12, \"Count\": 9}, {\"Digit\": 0, \"Participant\": \"Part_1\", \"Time\": 12, \"Count\": 10}, {\"Digit\": 1, \"Participant\": \"Part_1\", \"Time\": 12, \"Count\": 9}, {\"Digit\": 6, \"Participant\": \"Part_1\", \"Time\": 12, \"Count\": 9}, {\"Digit\": 7, \"Participant\": \"Part_1\", \"Time\": 12, \"Count\": 10}, {\"Digit\": 5, \"Participant\": \"Part_1\", \"Time\": 12, \"Count\": 9}, {\"Digit\": 0, \"Participant\": \"Part_2\", \"Time\": 12, \"Count\": 6}, {\"Digit\": 7, \"Participant\": \"Part_2\", \"Time\": 12, \"Count\": 6}, {\"Digit\": 4, \"Participant\": \"Part_2\", \"Time\": 12, \"Count\": 6}, {\"Digit\": 1, \"Participant\": \"Part_2\", \"Time\": 12, \"Count\": 6}, {\"Digit\": 5, \"Participant\": \"Part_2\", \"Time\": 12, \"Count\": 6}, {\"Digit\": 3, \"Participant\": \"Part_2\", \"Time\": 12, \"Count\": 6}, {\"Digit\": 9, \"Participant\": \"Part_2\", \"Time\": 12, \"Count\": 6}, {\"Digit\": 2, \"Participant\": \"Part_2\", \"Time\": 12, \"Count\": 6}, {\"Digit\": 8, \"Participant\": \"Part_2\", \"Time\": 12, \"Count\": 6}, {\"Digit\": 6, \"Participant\": \"Part_2\", \"Time\": 12, \"Count\": 7}, {\"Digit\": 8, \"Participant\": \"Part_0\", \"Time\": 13, \"Count\": 58}, {\"Digit\": 4, \"Participant\": \"Part_0\", \"Time\": 13, \"Count\": 60}, {\"Digit\": 1, \"Participant\": \"Part_0\", \"Time\": 13, \"Count\": 60}, {\"Digit\": 9, \"Participant\": \"Part_0\", \"Time\": 13, \"Count\": 60}, {\"Digit\": 2, \"Participant\": \"Part_0\", \"Time\": 13, \"Count\": 59}, {\"Digit\": 6, \"Participant\": \"Part_0\", \"Time\": 13, \"Count\": 59}, {\"Digit\": 7, \"Participant\": \"Part_0\", \"Time\": 13, \"Count\": 60}, {\"Digit\": 5, \"Participant\": \"Part_0\", \"Time\": 13, \"Count\": 58}, {\"Digit\": 3, \"Participant\": \"Part_0\", \"Time\": 13, \"Count\": 60}, {\"Digit\": 0, \"Participant\": \"Part_0\", \"Time\": 13, \"Count\": 60}, {\"Digit\": 3, \"Participant\": \"Part_1\", \"Time\": 13, \"Count\": 9}, {\"Digit\": 2, \"Participant\": \"Part_1\", \"Time\": 13, \"Count\": 9}, {\"Digit\": 4, \"Participant\": \"Part_1\", \"Time\": 13, \"Count\": 9}, {\"Digit\": 8, \"Participant\": \"Part_1\", \"Time\": 13, \"Count\": 9}, {\"Digit\": 9, \"Participant\": \"Part_1\", \"Time\": 13, \"Count\": 9}, {\"Digit\": 0, \"Participant\": \"Part_1\", \"Time\": 13, \"Count\": 10}, {\"Digit\": 1, \"Participant\": \"Part_1\", \"Time\": 13, \"Count\": 9}, {\"Digit\": 6, \"Participant\": \"Part_1\", \"Time\": 13, \"Count\": 9}, {\"Digit\": 7, \"Participant\": \"Part_1\", \"Time\": 13, \"Count\": 10}, {\"Digit\": 5, \"Participant\": \"Part_1\", \"Time\": 13, \"Count\": 9}, {\"Digit\": 0, \"Participant\": \"Part_2\", \"Time\": 13, \"Count\": 6}, {\"Digit\": 7, \"Participant\": \"Part_2\", \"Time\": 13, \"Count\": 6}, {\"Digit\": 4, \"Participant\": \"Part_2\", \"Time\": 13, \"Count\": 6}, {\"Digit\": 1, \"Participant\": \"Part_2\", \"Time\": 13, \"Count\": 6}, {\"Digit\": 5, \"Participant\": \"Part_2\", \"Time\": 13, \"Count\": 6}, {\"Digit\": 3, \"Participant\": \"Part_2\", \"Time\": 13, \"Count\": 6}, {\"Digit\": 9, \"Participant\": \"Part_2\", \"Time\": 13, \"Count\": 6}, {\"Digit\": 2, \"Participant\": \"Part_2\", \"Time\": 13, \"Count\": 6}, {\"Digit\": 8, \"Participant\": \"Part_2\", \"Time\": 13, \"Count\": 6}, {\"Digit\": 6, \"Participant\": \"Part_2\", \"Time\": 13, \"Count\": 7}, {\"Digit\": 8, \"Participant\": \"Part_0\", \"Time\": 14, \"Count\": 58}, {\"Digit\": 4, \"Participant\": \"Part_0\", \"Time\": 14, \"Count\": 60}, {\"Digit\": 1, \"Participant\": \"Part_0\", \"Time\": 14, \"Count\": 60}, {\"Digit\": 9, \"Participant\": \"Part_0\", \"Time\": 14, \"Count\": 60}, {\"Digit\": 2, \"Participant\": \"Part_0\", \"Time\": 14, \"Count\": 59}, {\"Digit\": 6, \"Participant\": \"Part_0\", \"Time\": 14, \"Count\": 59}, {\"Digit\": 7, \"Participant\": \"Part_0\", \"Time\": 14, \"Count\": 60}, {\"Digit\": 5, \"Participant\": \"Part_0\", \"Time\": 14, \"Count\": 58}, {\"Digit\": 3, \"Participant\": \"Part_0\", \"Time\": 14, \"Count\": 60}, {\"Digit\": 0, \"Participant\": \"Part_0\", \"Time\": 14, \"Count\": 60}, {\"Digit\": 3, \"Participant\": \"Part_1\", \"Time\": 14, \"Count\": 9}, {\"Digit\": 2, \"Participant\": \"Part_1\", \"Time\": 14, \"Count\": 9}, {\"Digit\": 4, \"Participant\": \"Part_1\", \"Time\": 14, \"Count\": 9}, {\"Digit\": 8, \"Participant\": \"Part_1\", \"Time\": 14, \"Count\": 9}, {\"Digit\": 9, \"Participant\": \"Part_1\", \"Time\": 14, \"Count\": 9}, {\"Digit\": 0, \"Participant\": \"Part_1\", \"Time\": 14, \"Count\": 10}, {\"Digit\": 1, \"Participant\": \"Part_1\", \"Time\": 14, \"Count\": 9}, {\"Digit\": 6, \"Participant\": \"Part_1\", \"Time\": 14, \"Count\": 9}, {\"Digit\": 7, \"Participant\": \"Part_1\", \"Time\": 14, \"Count\": 10}, {\"Digit\": 5, \"Participant\": \"Part_1\", \"Time\": 14, \"Count\": 9}, {\"Digit\": 0, \"Participant\": \"Part_2\", \"Time\": 14, \"Count\": 6}, {\"Digit\": 7, \"Participant\": \"Part_2\", \"Time\": 14, \"Count\": 6}, {\"Digit\": 4, \"Participant\": \"Part_2\", \"Time\": 14, \"Count\": 6}, {\"Digit\": 1, \"Participant\": \"Part_2\", \"Time\": 14, \"Count\": 6}, {\"Digit\": 5, \"Participant\": \"Part_2\", \"Time\": 14, \"Count\": 6}, {\"Digit\": 3, \"Participant\": \"Part_2\", \"Time\": 14, \"Count\": 6}, {\"Digit\": 9, \"Participant\": \"Part_2\", \"Time\": 14, \"Count\": 6}, {\"Digit\": 2, \"Participant\": \"Part_2\", \"Time\": 14, \"Count\": 6}, {\"Digit\": 8, \"Participant\": \"Part_2\", \"Time\": 14, \"Count\": 6}, {\"Digit\": 6, \"Participant\": \"Part_2\", \"Time\": 14, \"Count\": 7}, {\"Digit\": 8, \"Participant\": \"Part_0\", \"Time\": 15, \"Count\": 58}, {\"Digit\": 4, \"Participant\": \"Part_0\", \"Time\": 15, \"Count\": 60}, {\"Digit\": 1, \"Participant\": \"Part_0\", \"Time\": 15, \"Count\": 60}, {\"Digit\": 9, \"Participant\": \"Part_0\", \"Time\": 15, \"Count\": 60}, {\"Digit\": 2, \"Participant\": \"Part_0\", \"Time\": 15, \"Count\": 59}, {\"Digit\": 6, \"Participant\": \"Part_0\", \"Time\": 15, \"Count\": 59}, {\"Digit\": 7, \"Participant\": \"Part_0\", \"Time\": 15, \"Count\": 60}, {\"Digit\": 5, \"Participant\": \"Part_0\", \"Time\": 15, \"Count\": 58}, {\"Digit\": 3, \"Participant\": \"Part_0\", \"Time\": 15, \"Count\": 60}, {\"Digit\": 0, \"Participant\": \"Part_0\", \"Time\": 15, \"Count\": 60}, {\"Digit\": 3, \"Participant\": \"Part_1\", \"Time\": 15, \"Count\": 9}, {\"Digit\": 2, \"Participant\": \"Part_1\", \"Time\": 15, \"Count\": 9}, {\"Digit\": 4, \"Participant\": \"Part_1\", \"Time\": 15, \"Count\": 9}, {\"Digit\": 8, \"Participant\": \"Part_1\", \"Time\": 15, \"Count\": 9}, {\"Digit\": 9, \"Participant\": \"Part_1\", \"Time\": 15, \"Count\": 9}, {\"Digit\": 0, \"Participant\": \"Part_1\", \"Time\": 15, \"Count\": 10}, {\"Digit\": 1, \"Participant\": \"Part_1\", \"Time\": 15, \"Count\": 9}, {\"Digit\": 6, \"Participant\": \"Part_1\", \"Time\": 15, \"Count\": 9}, {\"Digit\": 7, \"Participant\": \"Part_1\", \"Time\": 15, \"Count\": 10}, {\"Digit\": 5, \"Participant\": \"Part_1\", \"Time\": 15, \"Count\": 9}, {\"Digit\": 0, \"Participant\": \"Part_2\", \"Time\": 15, \"Count\": 6}, {\"Digit\": 7, \"Participant\": \"Part_2\", \"Time\": 15, \"Count\": 6}, {\"Digit\": 4, \"Participant\": \"Part_2\", \"Time\": 15, \"Count\": 6}, {\"Digit\": 1, \"Participant\": \"Part_2\", \"Time\": 15, \"Count\": 6}, {\"Digit\": 5, \"Participant\": \"Part_2\", \"Time\": 15, \"Count\": 6}, {\"Digit\": 3, \"Participant\": \"Part_2\", \"Time\": 15, \"Count\": 6}, {\"Digit\": 9, \"Participant\": \"Part_2\", \"Time\": 15, \"Count\": 6}, {\"Digit\": 2, \"Participant\": \"Part_2\", \"Time\": 15, \"Count\": 6}, {\"Digit\": 8, \"Participant\": \"Part_2\", \"Time\": 15, \"Count\": 6}, {\"Digit\": 6, \"Participant\": \"Part_2\", \"Time\": 15, \"Count\": 7}, {\"Digit\": 8, \"Participant\": \"Part_0\", \"Time\": 16, \"Count\": 58}, {\"Digit\": 4, \"Participant\": \"Part_0\", \"Time\": 16, \"Count\": 60}, {\"Digit\": 1, \"Participant\": \"Part_0\", \"Time\": 16, \"Count\": 60}, {\"Digit\": 9, \"Participant\": \"Part_0\", \"Time\": 16, \"Count\": 60}, {\"Digit\": 2, \"Participant\": \"Part_0\", \"Time\": 16, \"Count\": 59}, {\"Digit\": 6, \"Participant\": \"Part_0\", \"Time\": 16, \"Count\": 59}, {\"Digit\": 7, \"Participant\": \"Part_0\", \"Time\": 16, \"Count\": 60}, {\"Digit\": 5, \"Participant\": \"Part_0\", \"Time\": 16, \"Count\": 58}, {\"Digit\": 3, \"Participant\": \"Part_0\", \"Time\": 16, \"Count\": 60}, {\"Digit\": 0, \"Participant\": \"Part_0\", \"Time\": 16, \"Count\": 60}, {\"Digit\": 3, \"Participant\": \"Part_1\", \"Time\": 16, \"Count\": 9}, {\"Digit\": 2, \"Participant\": \"Part_1\", \"Time\": 16, \"Count\": 9}, {\"Digit\": 4, \"Participant\": \"Part_1\", \"Time\": 16, \"Count\": 9}, {\"Digit\": 8, \"Participant\": \"Part_1\", \"Time\": 16, \"Count\": 9}, {\"Digit\": 9, \"Participant\": \"Part_1\", \"Time\": 16, \"Count\": 9}, {\"Digit\": 0, \"Participant\": \"Part_1\", \"Time\": 16, \"Count\": 10}, {\"Digit\": 1, \"Participant\": \"Part_1\", \"Time\": 16, \"Count\": 9}, {\"Digit\": 6, \"Participant\": \"Part_1\", \"Time\": 16, \"Count\": 9}, {\"Digit\": 7, \"Participant\": \"Part_1\", \"Time\": 16, \"Count\": 10}, {\"Digit\": 5, \"Participant\": \"Part_1\", \"Time\": 16, \"Count\": 9}, {\"Digit\": 0, \"Participant\": \"Part_2\", \"Time\": 16, \"Count\": 6}, {\"Digit\": 7, \"Participant\": \"Part_2\", \"Time\": 16, \"Count\": 6}, {\"Digit\": 4, \"Participant\": \"Part_2\", \"Time\": 16, \"Count\": 6}, {\"Digit\": 1, \"Participant\": \"Part_2\", \"Time\": 16, \"Count\": 6}, {\"Digit\": 5, \"Participant\": \"Part_2\", \"Time\": 16, \"Count\": 6}, {\"Digit\": 3, \"Participant\": \"Part_2\", \"Time\": 16, \"Count\": 6}, {\"Digit\": 9, \"Participant\": \"Part_2\", \"Time\": 16, \"Count\": 6}, {\"Digit\": 2, \"Participant\": \"Part_2\", \"Time\": 16, \"Count\": 6}, {\"Digit\": 8, \"Participant\": \"Part_2\", \"Time\": 16, \"Count\": 6}, {\"Digit\": 6, \"Participant\": \"Part_2\", \"Time\": 16, \"Count\": 7}, {\"Digit\": 8, \"Participant\": \"Part_0\", \"Time\": 17, \"Count\": 58}, {\"Digit\": 4, \"Participant\": \"Part_0\", \"Time\": 17, \"Count\": 60}, {\"Digit\": 1, \"Participant\": \"Part_0\", \"Time\": 17, \"Count\": 60}, {\"Digit\": 9, \"Participant\": \"Part_0\", \"Time\": 17, \"Count\": 60}, {\"Digit\": 2, \"Participant\": \"Part_0\", \"Time\": 17, \"Count\": 59}, {\"Digit\": 6, \"Participant\": \"Part_0\", \"Time\": 17, \"Count\": 59}, {\"Digit\": 7, \"Participant\": \"Part_0\", \"Time\": 17, \"Count\": 60}, {\"Digit\": 5, \"Participant\": \"Part_0\", \"Time\": 17, \"Count\": 58}, {\"Digit\": 3, \"Participant\": \"Part_0\", \"Time\": 17, \"Count\": 60}, {\"Digit\": 0, \"Participant\": \"Part_0\", \"Time\": 17, \"Count\": 60}, {\"Digit\": 3, \"Participant\": \"Part_1\", \"Time\": 17, \"Count\": 9}, {\"Digit\": 2, \"Participant\": \"Part_1\", \"Time\": 17, \"Count\": 9}, {\"Digit\": 4, \"Participant\": \"Part_1\", \"Time\": 17, \"Count\": 9}, {\"Digit\": 8, \"Participant\": \"Part_1\", \"Time\": 17, \"Count\": 9}, {\"Digit\": 9, \"Participant\": \"Part_1\", \"Time\": 17, \"Count\": 9}, {\"Digit\": 0, \"Participant\": \"Part_1\", \"Time\": 17, \"Count\": 10}, {\"Digit\": 1, \"Participant\": \"Part_1\", \"Time\": 17, \"Count\": 9}, {\"Digit\": 6, \"Participant\": \"Part_1\", \"Time\": 17, \"Count\": 9}, {\"Digit\": 7, \"Participant\": \"Part_1\", \"Time\": 17, \"Count\": 10}, {\"Digit\": 5, \"Participant\": \"Part_1\", \"Time\": 17, \"Count\": 9}, {\"Digit\": 0, \"Participant\": \"Part_2\", \"Time\": 17, \"Count\": 6}, {\"Digit\": 7, \"Participant\": \"Part_2\", \"Time\": 17, \"Count\": 6}, {\"Digit\": 4, \"Participant\": \"Part_2\", \"Time\": 17, \"Count\": 6}, {\"Digit\": 1, \"Participant\": \"Part_2\", \"Time\": 17, \"Count\": 6}, {\"Digit\": 5, \"Participant\": \"Part_2\", \"Time\": 17, \"Count\": 6}, {\"Digit\": 3, \"Participant\": \"Part_2\", \"Time\": 17, \"Count\": 6}, {\"Digit\": 9, \"Participant\": \"Part_2\", \"Time\": 17, \"Count\": 6}, {\"Digit\": 2, \"Participant\": \"Part_2\", \"Time\": 17, \"Count\": 6}, {\"Digit\": 8, \"Participant\": \"Part_2\", \"Time\": 17, \"Count\": 6}, {\"Digit\": 6, \"Participant\": \"Part_2\", \"Time\": 17, \"Count\": 7}, {\"Digit\": 8, \"Participant\": \"Part_0\", \"Time\": 18, \"Count\": 58}, {\"Digit\": 4, \"Participant\": \"Part_0\", \"Time\": 18, \"Count\": 60}, {\"Digit\": 1, \"Participant\": \"Part_0\", \"Time\": 18, \"Count\": 60}, {\"Digit\": 9, \"Participant\": \"Part_0\", \"Time\": 18, \"Count\": 60}, {\"Digit\": 2, \"Participant\": \"Part_0\", \"Time\": 18, \"Count\": 59}, {\"Digit\": 6, \"Participant\": \"Part_0\", \"Time\": 18, \"Count\": 59}, {\"Digit\": 7, \"Participant\": \"Part_0\", \"Time\": 18, \"Count\": 60}, {\"Digit\": 5, \"Participant\": \"Part_0\", \"Time\": 18, \"Count\": 58}, {\"Digit\": 3, \"Participant\": \"Part_0\", \"Time\": 18, \"Count\": 60}, {\"Digit\": 0, \"Participant\": \"Part_0\", \"Time\": 18, \"Count\": 60}, {\"Digit\": 3, \"Participant\": \"Part_1\", \"Time\": 18, \"Count\": 9}, {\"Digit\": 2, \"Participant\": \"Part_1\", \"Time\": 18, \"Count\": 9}, {\"Digit\": 4, \"Participant\": \"Part_1\", \"Time\": 18, \"Count\": 9}, {\"Digit\": 8, \"Participant\": \"Part_1\", \"Time\": 18, \"Count\": 9}, {\"Digit\": 9, \"Participant\": \"Part_1\", \"Time\": 18, \"Count\": 9}, {\"Digit\": 0, \"Participant\": \"Part_1\", \"Time\": 18, \"Count\": 10}, {\"Digit\": 1, \"Participant\": \"Part_1\", \"Time\": 18, \"Count\": 9}, {\"Digit\": 6, \"Participant\": \"Part_1\", \"Time\": 18, \"Count\": 9}, {\"Digit\": 7, \"Participant\": \"Part_1\", \"Time\": 18, \"Count\": 10}, {\"Digit\": 5, \"Participant\": \"Part_1\", \"Time\": 18, \"Count\": 9}, {\"Digit\": 0, \"Participant\": \"Part_2\", \"Time\": 18, \"Count\": 6}, {\"Digit\": 7, \"Participant\": \"Part_2\", \"Time\": 18, \"Count\": 6}, {\"Digit\": 4, \"Participant\": \"Part_2\", \"Time\": 18, \"Count\": 6}, {\"Digit\": 1, \"Participant\": \"Part_2\", \"Time\": 18, \"Count\": 6}, {\"Digit\": 5, \"Participant\": \"Part_2\", \"Time\": 18, \"Count\": 6}, {\"Digit\": 3, \"Participant\": \"Part_2\", \"Time\": 18, \"Count\": 6}, {\"Digit\": 9, \"Participant\": \"Part_2\", \"Time\": 18, \"Count\": 6}, {\"Digit\": 2, \"Participant\": \"Part_2\", \"Time\": 18, \"Count\": 6}, {\"Digit\": 8, \"Participant\": \"Part_2\", \"Time\": 18, \"Count\": 6}, {\"Digit\": 6, \"Participant\": \"Part_2\", \"Time\": 18, \"Count\": 7}, {\"Digit\": 8, \"Participant\": \"Part_0\", \"Time\": 19, \"Count\": 58}, {\"Digit\": 4, \"Participant\": \"Part_0\", \"Time\": 19, \"Count\": 60}, {\"Digit\": 1, \"Participant\": \"Part_0\", \"Time\": 19, \"Count\": 60}, {\"Digit\": 9, \"Participant\": \"Part_0\", \"Time\": 19, \"Count\": 60}, {\"Digit\": 2, \"Participant\": \"Part_0\", \"Time\": 19, \"Count\": 59}, {\"Digit\": 6, \"Participant\": \"Part_0\", \"Time\": 19, \"Count\": 59}, {\"Digit\": 7, \"Participant\": \"Part_0\", \"Time\": 19, \"Count\": 60}, {\"Digit\": 5, \"Participant\": \"Part_0\", \"Time\": 19, \"Count\": 58}, {\"Digit\": 3, \"Participant\": \"Part_0\", \"Time\": 19, \"Count\": 60}, {\"Digit\": 0, \"Participant\": \"Part_0\", \"Time\": 19, \"Count\": 60}, {\"Digit\": 3, \"Participant\": \"Part_1\", \"Time\": 19, \"Count\": 9}, {\"Digit\": 2, \"Participant\": \"Part_1\", \"Time\": 19, \"Count\": 9}, {\"Digit\": 4, \"Participant\": \"Part_1\", \"Time\": 19, \"Count\": 9}, {\"Digit\": 8, \"Participant\": \"Part_1\", \"Time\": 19, \"Count\": 9}, {\"Digit\": 9, \"Participant\": \"Part_1\", \"Time\": 19, \"Count\": 9}, {\"Digit\": 0, \"Participant\": \"Part_1\", \"Time\": 19, \"Count\": 10}, {\"Digit\": 1, \"Participant\": \"Part_1\", \"Time\": 19, \"Count\": 9}, {\"Digit\": 6, \"Participant\": \"Part_1\", \"Time\": 19, \"Count\": 9}, {\"Digit\": 7, \"Participant\": \"Part_1\", \"Time\": 19, \"Count\": 10}, {\"Digit\": 5, \"Participant\": \"Part_1\", \"Time\": 19, \"Count\": 9}, {\"Digit\": 0, \"Participant\": \"Part_2\", \"Time\": 19, \"Count\": 6}, {\"Digit\": 7, \"Participant\": \"Part_2\", \"Time\": 19, \"Count\": 6}, {\"Digit\": 4, \"Participant\": \"Part_2\", \"Time\": 19, \"Count\": 6}, {\"Digit\": 1, \"Participant\": \"Part_2\", \"Time\": 19, \"Count\": 6}, {\"Digit\": 5, \"Participant\": \"Part_2\", \"Time\": 19, \"Count\": 6}, {\"Digit\": 3, \"Participant\": \"Part_2\", \"Time\": 19, \"Count\": 6}, {\"Digit\": 9, \"Participant\": \"Part_2\", \"Time\": 19, \"Count\": 6}, {\"Digit\": 2, \"Participant\": \"Part_2\", \"Time\": 19, \"Count\": 6}, {\"Digit\": 8, \"Participant\": \"Part_2\", \"Time\": 19, \"Count\": 6}, {\"Digit\": 6, \"Participant\": \"Part_2\", \"Time\": 19, \"Count\": 7}, {\"Digit\": 8, \"Participant\": \"Part_0\", \"Time\": 20, \"Count\": 58}, {\"Digit\": 4, \"Participant\": \"Part_0\", \"Time\": 20, \"Count\": 60}, {\"Digit\": 1, \"Participant\": \"Part_0\", \"Time\": 20, \"Count\": 60}, {\"Digit\": 9, \"Participant\": \"Part_0\", \"Time\": 20, \"Count\": 60}, {\"Digit\": 2, \"Participant\": \"Part_0\", \"Time\": 20, \"Count\": 59}, {\"Digit\": 6, \"Participant\": \"Part_0\", \"Time\": 20, \"Count\": 59}, {\"Digit\": 7, \"Participant\": \"Part_0\", \"Time\": 20, \"Count\": 60}, {\"Digit\": 5, \"Participant\": \"Part_0\", \"Time\": 20, \"Count\": 58}, {\"Digit\": 3, \"Participant\": \"Part_0\", \"Time\": 20, \"Count\": 60}, {\"Digit\": 0, \"Participant\": \"Part_0\", \"Time\": 20, \"Count\": 60}, {\"Digit\": 3, \"Participant\": \"Part_1\", \"Time\": 20, \"Count\": 9}, {\"Digit\": 2, \"Participant\": \"Part_1\", \"Time\": 20, \"Count\": 9}, {\"Digit\": 4, \"Participant\": \"Part_1\", \"Time\": 20, \"Count\": 9}, {\"Digit\": 8, \"Participant\": \"Part_1\", \"Time\": 20, \"Count\": 9}, {\"Digit\": 9, \"Participant\": \"Part_1\", \"Time\": 20, \"Count\": 9}, {\"Digit\": 0, \"Participant\": \"Part_1\", \"Time\": 20, \"Count\": 10}, {\"Digit\": 1, \"Participant\": \"Part_1\", \"Time\": 20, \"Count\": 9}, {\"Digit\": 6, \"Participant\": \"Part_1\", \"Time\": 20, \"Count\": 9}, {\"Digit\": 7, \"Participant\": \"Part_1\", \"Time\": 20, \"Count\": 10}, {\"Digit\": 5, \"Participant\": \"Part_1\", \"Time\": 20, \"Count\": 9}, {\"Digit\": 0, \"Participant\": \"Part_2\", \"Time\": 20, \"Count\": 6}, {\"Digit\": 7, \"Participant\": \"Part_2\", \"Time\": 20, \"Count\": 6}, {\"Digit\": 4, \"Participant\": \"Part_2\", \"Time\": 20, \"Count\": 6}, {\"Digit\": 1, \"Participant\": \"Part_2\", \"Time\": 20, \"Count\": 6}, {\"Digit\": 5, \"Participant\": \"Part_2\", \"Time\": 20, \"Count\": 6}, {\"Digit\": 3, \"Participant\": \"Part_2\", \"Time\": 20, \"Count\": 6}, {\"Digit\": 9, \"Participant\": \"Part_2\", \"Time\": 20, \"Count\": 6}, {\"Digit\": 2, \"Participant\": \"Part_2\", \"Time\": 20, \"Count\": 6}, {\"Digit\": 8, \"Participant\": \"Part_2\", \"Time\": 20, \"Count\": 6}, {\"Digit\": 6, \"Participant\": \"Part_2\", \"Time\": 20, \"Count\": 7}]}}, {\"mode\": \"vega-lite\"});\n",
       "</script>"
      ],
      "text/plain": [
       "alt.HConcatChart(...)"
      ]
     },
     "execution_count": 16,
     "metadata": {},
     "output_type": "execute_result"
    }
   ],
   "source": [
    "import altair as alt\n",
    "\n",
    "def plot_mnist_distribution(plot_data, plot_width=800, plot_height=400):\n",
    "    \"\"\"\n",
    "    Plot the MNIST distribution using a bar chart and heatmap, distributing the plot size\n",
    "    between the bar chart and heatmap.\n",
    "\n",
    "    Parameters:\n",
    "    - plot_data: DataFrame with the MNIST data\n",
    "    - plot_width: Total width of the final plot (default: 800)\n",
    "    - plot_height: Total height of the final plot (default: 400)\n",
    "    \"\"\"\n",
    "\n",
    "    # Create a slider for selecting 'Time'\n",
    "    time_slider = alt.binding_range(\n",
    "        min=plot_data['Time'].min(), \n",
    "        max=plot_data['Time'].max(), \n",
    "        step=1, \n",
    "        name=\"Select Time: \"\n",
    "    )\n",
    "    time_param = alt.selection_point(bind=time_slider, fields=['Time'], value = plot_data['Time'].min())\n",
    "\n",
    "    # Altair selection object for interactive filtering\n",
    "    bar_point = alt.selection_point(encodings=['x'])\n",
    "    client_selection = alt.selection_point(encodings=['y'])\n",
    "    \n",
    "    # Calculate the split dimensions for the two charts\n",
    "    bar_width = plot_width * 0.4   # 40% of the width for the bar chart\n",
    "    heatmap_width = plot_width * 0.6  # 60% of the width for the heatmap\n",
    "    bar_height = plot_height       # Full height for the bar chart\n",
    "    heatmap_height = plot_height   # Full height for the heatmap\n",
    "    \n",
    "    # Heatmap (Digit vs. Participant) filtered by selected Time\n",
    "    heatmap = alt.Chart(plot_data).mark_rect().encode(\n",
    "        x=alt.X('Digit:O', title=\"MNIST Digit (0-9)\"),\n",
    "        y=alt.Y('Participant:N', title=\"Participants\"),\n",
    "        color = alt.condition(\n",
    "                bar_point, \n",
    "                alt.Color('Count:Q', scale=alt.Scale(scheme='greenblue'), title=\"Total Count\", legend=alt.Legend(orient=\"top\")),  \n",
    "                alt.ColorValue(\"grey\")  # Non-selected values will be grey\n",
    "            ),\n",
    "        tooltip=[alt.Tooltip('Digit:O', title=\"Digit\"),\n",
    "                 alt.Tooltip('Participant:N', title=\"Participant\"),\n",
    "                 alt.Tooltip('Count:Q', title=\"Total Count\")]\n",
    "    ).transform_filter(\n",
    "        time_param\n",
    "    ).add_params(bar_point, client_selection, time_param).properties(width=heatmap_width, height=heatmap_height)\n",
    "    \n",
    "    # Overlay points for highlighting\n",
    "    highlight_points = heatmap.mark_point().encode(\n",
    "        color=alt.ColorValue('black'),\n",
    "        size=alt.Size('Count:Q', title=\"Selected Images\")\n",
    "    ).transform_filter(\n",
    "        bar_point\n",
    "    ).transform_filter(\n",
    "        client_selection\n",
    "    )\n",
    "    \n",
    "    \n",
    "    # Bar chart (Total images per client_selectionicipant) filtered by selected Time\n",
    "    bar_chart = alt.Chart(plot_data).mark_bar().encode(\n",
    "        x=\"Participant:N\",\n",
    "        y=\"sum(Count):Q\",\n",
    "        color=alt.condition(bar_point, alt.ColorValue(\"steelblue\"), alt.ColorValue(\"grey\"))\n",
    "    ).transform_filter(\n",
    "        time_param\n",
    "    ).add_params(bar_point).properties(width=bar_width, height=bar_height)\n",
    "\n",
    "\n",
    "    # Create an Altair line chart with markers\n",
    "    line_chart = alt.Chart(plot_data).mark_line().encode(\n",
    "        x='Time:O',  # Ordinal axis for time\n",
    "        y='Count:Q',  # Quantitative axis for process value\n",
    "        color=alt.Color('Digit:O', title=\"Stoc.Process\"),\n",
    "        tooltip=['Digit', 'Time', 'Count']\n",
    "    ).properties(\n",
    "        title=\"Process over Time\",\n",
    "        width=300,\n",
    "        height=plot_height\n",
    "    ).transform_filter(\n",
    "        bar_point\n",
    "    ).transform_filter(\n",
    "        client_selection\n",
    "    )\n",
    "    \n",
    "    # Add markers (circles) at data points\n",
    "    marker_chart = alt.Chart(plot_data).mark_circle(size=50).encode(\n",
    "        x='Time:O',\n",
    "        y='Count:Q',\n",
    "        color=alt.Color('Digit:O', title=\"Stoc.Process\"),\n",
    "        tooltip=['Digit', 'Time', 'Count']\n",
    "    ).transform_filter(\n",
    "        bar_point\n",
    "    ).transform_filter(\n",
    "        client_selection\n",
    "    )\n",
    "    \n",
    "    # Overlay the markers on top of the line chart\n",
    "    chart = line_chart + marker_chart\n",
    "    \n",
    "    # Combine the charts horizontally\n",
    "    final_chart = alt.hconcat(\n",
    "        bar_chart,\n",
    "        heatmap + highlight_points,\n",
    "        chart\n",
    "    ).resolve_legend(\n",
    "        color=\"independent\",\n",
    "        size=\"independent\"\n",
    "    )\n",
    "\n",
    "    return final_chart\n",
    "\n",
    "# Example of using the function with custom plot size\n",
    "final_chart = plot_mnist_distribution(plot_data=df_plot, plot_width=350, plot_height=250)\n",
    "final_chart"
   ]
  },
  {
   "cell_type": "code",
   "execution_count": 18,
   "id": "c0165e49-0bb4-4eea-9e3d-1a6fa9d9fc54",
   "metadata": {},
   "outputs": [
    {
     "data": {
      "text/plain": [
       "Dataset MNIST\n",
       "    Number of datapoints: 60000\n",
       "    Root location: C:/Users/arthu/USPy/0_BEPE/1_FPL/datasets/\n",
       "    Split: Train\n",
       "    StandardTransform\n",
       "Transform: Compose(\n",
       "               Resize(size=(32, 32), interpolation=bilinear, max_size=None, antialias=True)\n",
       "               RandomCrop(size=(32, 32), padding=4)\n",
       "               RandomHorizontalFlip(p=0.5)\n",
       "               ToTensor()\n",
       "               Lambda()\n",
       "               Normalize(mean=(0.485, 0.456, 0.406), std=(0.229, 0.224, 0.225))\n",
       "           )"
      ]
     },
     "execution_count": 18,
     "metadata": {},
     "output_type": "execute_result"
    }
   ],
   "source": [
    "train_dataset_list[0].dataset"
   ]
  },
  {
   "cell_type": "code",
   "execution_count": 19,
   "id": "fc64e1bd-74bd-4744-a5e5-f77d5b22abde",
   "metadata": {},
   "outputs": [
    {
     "data": {
      "text/plain": [
       "tensor([5, 0, 4,  ..., 5, 6, 8])"
      ]
     },
     "execution_count": 19,
     "metadata": {},
     "output_type": "execute_result"
    }
   ],
   "source": [
    "train_dataset_list[0].dataset.targets"
   ]
  },
  {
   "cell_type": "code",
   "execution_count": 83,
   "id": "10006c5f-856a-481f-85e6-03e61d1d24ff",
   "metadata": {
    "scrolled": true
   },
   "outputs": [
    {
     "data": {
      "text/plain": [
       "[1409, 2820, 58759, 49287, 17810]"
      ]
     },
     "execution_count": 83,
     "metadata": {},
     "output_type": "execute_result"
    }
   ],
   "source": [
    "client_tgt = federation[0]\n",
    "\n",
    "idxs_tgt = client_tgt.get_sample_step(0)\n",
    "idxs_tgt[:5]"
   ]
  },
  {
   "cell_type": "code",
   "execution_count": 85,
   "id": "370852a0-6ca2-4066-856f-e1fe1d72442b",
   "metadata": {},
   "outputs": [],
   "source": [
    "from torch.utils.data import DataLoader, SubsetRandomSampler\n",
    "\n",
    "\n",
    "train_sampler = SubsetRandomSampler(idxs_tgt)\n",
    "\n",
    "tr_dl = DataLoader(train_dataset_list[0].dataset, batch_size=64, sampler=train_sampler)"
   ]
  },
  {
   "cell_type": "code",
   "execution_count": null,
   "id": "c4f62ae9-eec8-45fa-9813-5a2459870ed8",
   "metadata": {},
   "outputs": [],
   "source": []
  }
 ],
 "metadata": {
  "kernelspec": {
   "display_name": "Python 3 (ipykernel)",
   "language": "python",
   "name": "python3"
  },
  "language_info": {
   "codemirror_mode": {
    "name": "ipython",
    "version": 3
   },
   "file_extension": ".py",
   "mimetype": "text/x-python",
   "name": "python",
   "nbconvert_exporter": "python",
   "pygments_lexer": "ipython3",
   "version": "3.11.5"
  },
  "widgets": {
   "application/vnd.jupyter.widget-state+json": {
    "state": {},
    "version_major": 2,
    "version_minor": 0
   }
  }
 },
 "nbformat": 4,
 "nbformat_minor": 5
}
