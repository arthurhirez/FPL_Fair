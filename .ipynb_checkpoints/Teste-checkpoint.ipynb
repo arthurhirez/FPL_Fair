{
 "cells": [
  {
   "cell_type": "code",
   "execution_count": 1,
   "id": "6264f3d6b6152f2e",
   "metadata": {
    "ExecuteTime": {
     "end_time": "2025-03-27T15:04:05.861653Z",
     "start_time": "2025-03-27T15:03:44.095441Z"
    }
   },
   "outputs": [],
   "source": [
    "import os\n",
    "import sys\n",
    "import socket\n",
    "import torch.multiprocessing\n",
    "\n",
    "torch.multiprocessing.set_sharing_strategy('file_system')\n",
    "import warnings\n",
    "\n",
    "warnings.filterwarnings(\"ignore\")\n",
    "\n",
    "conf_path = os.getcwd()\n",
    "sys.path.append(conf_path)\n",
    "sys.path.append(conf_path + '/datasets')\n",
    "sys.path.append(conf_path + '/backbone')\n",
    "sys.path.append(conf_path + '/models')\n",
    "from datasets import Priv_NAMES as DATASET_NAMES\n",
    "from models import get_all_models\n",
    "from argparse import ArgumentParser\n",
    "from utils.args import add_management_args\n",
    "from datasets import get_prive_dataset\n",
    "from models import get_model\n",
    "from utils.training import train\n",
    "from utils.best_args import best_args\n",
    "from utils.conf import set_random_seed\n",
    "import setproctitle\n",
    "\n",
    "import torch\n",
    "import uuid\n",
    "import datetime"
   ]
  },
  {
   "cell_type": "code",
   "execution_count": 2,
   "id": "f3ce64cccf6816b5",
   "metadata": {
    "ExecuteTime": {
     "end_time": "2025-03-27T15:04:05.891179Z",
     "start_time": "2025-03-27T15:04:05.880900Z"
    }
   },
   "outputs": [],
   "source": [
    "def parse_args():\n",
    "    parser = ArgumentParser(description='You Only Need Me', allow_abbrev=False)\n",
    "    parser.add_argument('--device_id', type=int, default=0, help='The Device Id for Experiment')\n",
    "\n",
    "    parser.add_argument('--communication_epoch', type=int, default=2, help='The Communication Epoch in Federated Learning')\n",
    "    parser.add_argument('--local_epoch', type=int, default=3, help='The Local Epoch for each Participant')\n",
    "    parser.add_argument('--parti_num', type=int, default=3, help='The Number for Participants')\n",
    "\n",
    "    parser.add_argument('--seed', type=int, default=0, help='The random seed.')\n",
    "    parser.add_argument('--rand_dataset', type=dict, default={'mnist': 1, 'usps': 1, 'svhn': 1, 'syn': 2}, help='The random seed.')\n",
    "\n",
    "    parser.add_argument('--model', type=str, default='fpl',  # moon fedinfonce\n",
    "                        help='Model name.', choices=get_all_models())\n",
    "    parser.add_argument('--structure', type=str, default='homogeneity')\n",
    "    parser.add_argument('--dataset', type=str, default='fl_digits',  # fl_officecaltech fl_digits\n",
    "                        choices=DATASET_NAMES, help='Which scenario to perform experiments on.')\n",
    "\n",
    "    parser.add_argument('--pri_aug', type=str, default='weak',  # weak strong\n",
    "                        help='Augmentation for Private Data')\n",
    "    parser.add_argument('--online_ratio', type=float, default=1, help='The Ratio for Online Clients')\n",
    "    parser.add_argument('--learning_decay', type=bool, default=False, help='The Option for Learning Rate Decay')\n",
    "    parser.add_argument('--averaing', type=str, default='weight', help='The Option for averaging strategy')\n",
    "\n",
    "    parser.add_argument('--infoNCET', type=float, default=0.02, help='The InfoNCE temperature')\n",
    "    parser.add_argument('--T', type=float, default=0.05, help='The Knowledge distillation temperature')\n",
    "    parser.add_argument('--weight', type=int, default=1, help='The Wegith for the distillation loss')\n",
    "\n",
    "    parser.add_argument('--reserv_ratio', type=float, default=0.1, help='Reserve ratio for prototypes')\n",
    "\n",
    "    torch.set_num_threads(4)\n",
    "    def add_management_args(parser: ArgumentParser) -> None:\n",
    "        parser.add_argument('--csv_log', action='store_true',\n",
    "                            help='Enable csv logging',default=False)\n",
    "    \n",
    "    add_management_args(parser)\n",
    "    \n",
    "    args, unknown = parser.parse_known_args()\n",
    "\n",
    "    best = best_args[args.dataset][args.model]\n",
    "\n",
    "    for key, value in best.items():\n",
    "        setattr(args, key, value)\n",
    "\n",
    "    if args.seed is not None:\n",
    "        set_random_seed(args.seed)\n",
    "    return args"
   ]
  },
  {
   "cell_type": "code",
   "execution_count": 3,
   "id": "414a8e8ba6505699",
   "metadata": {
    "ExecuteTime": {
     "end_time": "2025-03-27T15:04:06.035162Z",
     "start_time": "2025-03-27T15:04:05.973184Z"
    }
   },
   "outputs": [],
   "source": [
    "args = parse_args()\n",
    "\n",
    "priv_dataset = get_prive_dataset(args)"
   ]
  },
  {
   "cell_type": "code",
   "execution_count": 4,
   "id": "aec745eed4e39c71",
   "metadata": {
    "ExecuteTime": {
     "end_time": "2025-03-27T15:04:06.068560Z",
     "start_time": "2025-03-27T15:04:06.060450Z"
    }
   },
   "outputs": [
    {
     "data": {
      "text/plain": [
       "[]"
      ]
     },
     "execution_count": 4,
     "metadata": {},
     "output_type": "execute_result"
    }
   ],
   "source": [
    "priv_dataset.train_loaders"
   ]
  },
  {
   "cell_type": "code",
   "execution_count": 5,
   "id": "f6ff383b14ea618d",
   "metadata": {
    "ExecuteTime": {
     "end_time": "2025-03-27T15:04:06.139059Z",
     "start_time": "2025-03-27T15:04:06.130661Z"
    }
   },
   "outputs": [
    {
     "name": "stdout",
     "output_type": "stream",
     "text": [
      "{'train_loaders': [], 'test_loader': [], 'args': Namespace(device_id=0, communication_epoch=2, local_epoch=3, parti_num=3, seed=0, rand_dataset={'mnist': 1, 'usps': 1, 'svhn': 1, 'syn': 2}, model='fpl', structure='homogeneity', dataset='fl_digits', pri_aug='weak', online_ratio=1, learning_decay=False, averaing='weight', infoNCET=0.02, T=0.05, weight=1, reserv_ratio=0.1, csv_log=False, local_lr=0.01, local_batch_size=64, Note='+ MSE')}\n"
     ]
    }
   ],
   "source": [
    "print(vars(priv_dataset))"
   ]
  },
  {
   "cell_type": "code",
   "execution_count": 6,
   "id": "a7f6fd933adc36ed",
   "metadata": {
    "ExecuteTime": {
     "end_time": "2025-03-27T15:04:06.323448Z",
     "start_time": "2025-03-27T15:04:06.189316Z"
    }
   },
   "outputs": [],
   "source": [
    "backbones_list = priv_dataset.get_backbone(args.parti_num, None)"
   ]
  },
  {
   "cell_type": "code",
   "execution_count": 7,
   "id": "a17d4759e5d8ddf7",
   "metadata": {
    "ExecuteTime": {
     "end_time": "2025-03-27T15:04:07.346534Z",
     "start_time": "2025-03-27T15:04:06.323448Z"
    }
   },
   "outputs": [],
   "source": [
    "model = get_model(backbones_list, args, priv_dataset.get_transform())"
   ]
  },
  {
   "cell_type": "code",
   "execution_count": 8,
   "id": "332c8539360a2faa",
   "metadata": {
    "ExecuteTime": {
     "end_time": "2025-03-27T15:04:07.360822Z",
     "start_time": "2025-03-27T15:04:07.356815Z"
    }
   },
   "outputs": [],
   "source": [
    "# print(vars(model))"
   ]
  },
  {
   "cell_type": "code",
   "execution_count": 9,
   "id": "4973153dd284fbde",
   "metadata": {
    "ExecuteTime": {
     "end_time": "2025-03-27T15:04:07.375293Z",
     "start_time": "2025-03-27T15:04:07.370691Z"
    }
   },
   "outputs": [],
   "source": [
    "# model.nets_list[0]"
   ]
  },
  {
   "cell_type": "code",
   "execution_count": null,
   "id": "5f93ef48ed349dd6",
   "metadata": {
    "ExecuteTime": {
     "end_time": "2025-03-27T15:04:07.390773Z",
     "start_time": "2025-03-27T15:04:07.387247Z"
    }
   },
   "outputs": [],
   "source": []
  },
  {
   "cell_type": "code",
   "execution_count": 10,
   "id": "7ac7536e9dd411d8",
   "metadata": {
    "ExecuteTime": {
     "end_time": "2025-03-27T15:04:07.420033Z",
     "start_time": "2025-03-27T15:04:07.401265Z"
    }
   },
   "outputs": [],
   "source": [
    "import torch\n",
    "from argparse import Namespace\n",
    "from models.utils.federated_model import FederatedModel\n",
    "from datasets.utils.federated_dataset import FederatedDataset\n",
    "from typing import Tuple\n",
    "from torch.utils.data import DataLoader\n",
    "import numpy as np\n",
    "from utils.logger import CsvWriter\n",
    "from collections import Counter\n",
    "\n",
    "\n",
    "def global_evaluate(model: FederatedModel, test_dl: DataLoader, setting: str, name: str) -> Tuple[list, list]:\n",
    "    accs = []\n",
    "    net = model.global_net\n",
    "    status = net.training\n",
    "    net.eval()\n",
    "    for j, dl in enumerate(test_dl):\n",
    "        correct, total, top1, top5 = 0.0, 0.0, 0.0, 0.0\n",
    "        for batch_idx, (images, labels) in enumerate(dl):\n",
    "            with torch.no_grad():\n",
    "                images, labels = images.to(model.device), labels.to(model.device)\n",
    "                outputs = net(images)\n",
    "                _, max5 = torch.topk(outputs, 5, dim=-1)\n",
    "                labels = labels.view(-1, 1)\n",
    "                top1 += (labels == max5[:, 0:1]).sum().item()\n",
    "                top5 += (labels == max5).sum().item()\n",
    "                total += labels.size(0)\n",
    "        top1acc = round(100 * top1 / total, 2)\n",
    "        top5acc = round(100 * top5 / total, 2)\n",
    "        # if name in ['fl_digits','fl_officecaltech']:\n",
    "        accs.append(top1acc)\n",
    "        # elif name in ['fl_office31','fl_officehome']:\n",
    "        #     accs.append(top5acc)\n",
    "    net.train(status)\n",
    "    return accs\n",
    "\n",
    "\n",
    "def train(model: FederatedModel, private_dataset: FederatedDataset, args: Namespace) -> None:\n",
    "    if args.csv_log:\n",
    "        csv_writer = CsvWriter(args, private_dataset)\n",
    "\n",
    "    model.N_CLASS = private_dataset.N_CLASS\n",
    "    domains_list = private_dataset.DOMAINS_LIST\n",
    "    domains_len = len(domains_list)\n",
    "\n",
    "    if args.rand_dataset:\n",
    "        max_num = 10\n",
    "        is_ok = False\n",
    "\n",
    "        while not is_ok:\n",
    "            if model.args.dataset == 'fl_officecaltech':\n",
    "                selected_domain_list = np.random.choice(domains_list, size=args.parti_num - domains_len, replace=True, p=None)\n",
    "                selected_domain_list = list(selected_domain_list) + domains_list\n",
    "            elif model.args.dataset == 'fl_digits':\n",
    "                selected_domain_list = np.random.choice(domains_list, size=args.parti_num, replace=True, p=None)\n",
    "\n",
    "            result = dict(Counter(selected_domain_list))\n",
    "\n",
    "            for k in result:\n",
    "                if result[k] > max_num:\n",
    "                    is_ok = False\n",
    "                    break\n",
    "            else:\n",
    "                is_ok = True\n",
    "    else:\n",
    "        selected_domain_dict = {'mnist': 6, 'usps': 4, 'svhn': 3, 'syn': 7}  # base\n",
    "        selected_domain_dict = {'mnist': 3, 'usps': 7, 'svhn': 6, 'syn': 4}  # article\n",
    "\n",
    "        # selected_domain_dict = {'mnist': 1, 'usps': 1, 'svhn': 9, 'syn': 9}  # 20\n",
    "\n",
    "        # selected_domain_dict = {'mnist': 3, 'usps': 2, 'svhn': 1, 'syn': 4}  # 10\n",
    "\n",
    "        selected_domain_list = []\n",
    "        for k in selected_domain_dict:\n",
    "            domain_num = selected_domain_dict[k]\n",
    "            for i in range(domain_num):\n",
    "                selected_domain_list.append(k)\n",
    "\n",
    "        selected_domain_list = np.random.permutation(selected_domain_list)\n",
    "\n",
    "        result = Counter(selected_domain_list)\n",
    "    print(result)\n",
    "\n",
    "    print(selected_domain_list)\n",
    "    pri_train_loaders, test_loaders, label_dict, train_dataset_list, test_dataset_list = private_dataset.get_data_loaders(selected_domain_list)\n",
    "    model.trainloaders = pri_train_loaders\n",
    "    if hasattr(model, 'ini'):\n",
    "        model.ini()\n",
    "\n",
    "    accs_dict = {}\n",
    "    mean_accs_list = []\n",
    "\n",
    "    Epoch = args.communication_epoch\n",
    "    for epoch_index in range(Epoch):\n",
    "        model.epoch_index = epoch_index\n",
    "        if hasattr(model, 'loc_update'):\n",
    "            epoch_loc_loss_dict = model.loc_update(pri_train_loaders)\n",
    "\n",
    "        accs = global_evaluate(model, test_loaders, private_dataset.SETTING, private_dataset.NAME)\n",
    "        mean_acc = round(np.mean(accs, axis=0), 3)\n",
    "        mean_accs_list.append(mean_acc)\n",
    "        for i in range(len(accs)):\n",
    "            if i in accs_dict:\n",
    "                accs_dict[i].append(accs[i])\n",
    "            else:\n",
    "                accs_dict[i] = [accs[i]]\n",
    "\n",
    "        print('The ' + str(epoch_index) + ' Communcation Accuracy:', str(mean_acc), 'Method:', model.args.model)\n",
    "        print(accs)\n",
    "\n",
    "    if args.csv_log:\n",
    "        csv_writer.write_acc(accs_dict, mean_accs_list)\n",
    "        \n",
    "    return label_dict\n"
   ]
  },
  {
   "cell_type": "code",
   "execution_count": null,
   "id": "93f367930073d3e2",
   "metadata": {
    "ExecuteTime": {
     "end_time": "2025-03-27T15:04:07.438927Z",
     "start_time": "2025-03-27T15:04:07.435184Z"
    }
   },
   "outputs": [],
   "source": []
  },
  {
   "cell_type": "code",
   "execution_count": 11,
   "id": "f93fd351555f3c36",
   "metadata": {
    "ExecuteTime": {
     "end_time": "2025-03-16T21:57:18.877264Z",
     "start_time": "2025-03-16T21:57:18.863137Z"
    }
   },
   "outputs": [
    {
     "ename": "SyntaxError",
     "evalue": "invalid syntax (1885791128.py, line 1)",
     "output_type": "error",
     "traceback": [
      "\u001b[1;36m  Cell \u001b[1;32mIn[11], line 1\u001b[1;36m\u001b[0m\n\u001b[1;33m    The 49 Communcation Accuracy: 74.34 Method: fpl\u001b[0m\n\u001b[1;37m        ^\u001b[0m\n\u001b[1;31mSyntaxError\u001b[0m\u001b[1;31m:\u001b[0m invalid syntax\n"
     ]
    }
   ],
   "source": [
    "The 49 Communcation Accuracy: 74.34 Method: fpl\n",
    "[97.63, 88.94, 68.75, 42.04]\n",
    "\n",
    "batch 256\n",
    "\n",
    "The 49 Communcation Accuracy: 80.12 Method: fpl\n",
    "[98.08, 90.33, 79.53, 52.54]\n",
    "batch 64"
   ]
  },
  {
   "cell_type": "code",
   "execution_count": 12,
   "id": "cb8e3389e68f6739",
   "metadata": {
    "ExecuteTime": {
     "start_time": "2025-03-27T15:04:07.470478Z"
    },
    "jupyter": {
     "is_executing": true
    }
   },
   "outputs": [
    {
     "name": "stdout",
     "output_type": "stream",
     "text": [
      "{'mnist': 1, 'syn': 1, 'usps': 1}\n",
      "['mnist' 'syn' 'usps']\n"
     ]
    },
    {
     "name": "stderr",
     "output_type": "stream",
     "text": [
      "Local Pariticipant 1 CE = 2.064,InfoNCE = 0.000: 100%|██████████| 3/3 [00:05<00:00,  1.88s/it]\n",
      "Local Pariticipant 0 CE = 1.500,InfoNCE = 0.000: 100%|██████████| 3/3 [00:40<00:00, 13.39s/it]\n",
      "Local Pariticipant 2 CE = 2.202,InfoNCE = 0.000: 100%|██████████| 3/3 [00:05<00:00,  1.71s/it]\n"
     ]
    },
    {
     "name": "stdout",
     "output_type": "stream",
     "text": [
      "Partition 0: 1 clusters\n",
      "Partition 0: 1 clusters\n",
      "Partition 0: 1 clusters\n",
      "Partition 0: 1 clusters\n",
      "Partition 0: 1 clusters\n",
      "Partition 0: 1 clusters\n",
      "Partition 0: 1 clusters\n",
      "Partition 0: 1 clusters\n",
      "Partition 0: 1 clusters\n",
      "Partition 0: 1 clusters\n",
      "The 0 Communcation Accuracy: 13.385 Method: fpl\n",
      "[11.35, 13.15, 19.04, 10.0]\n"
     ]
    },
    {
     "name": "stderr",
     "output_type": "stream",
     "text": [
      "Local Pariticipant 0 CE = 0.738,InfoNCE = 1.237: 100%|██████████| 3/3 [00:45<00:00, 15.25s/it]\n",
      "Local Pariticipant 2 CE = 1.789,InfoNCE = 2.047: 100%|██████████| 3/3 [00:05<00:00,  1.97s/it]\n",
      "Local Pariticipant 1 CE = 2.244,InfoNCE = 2.405: 100%|██████████| 3/3 [00:08<00:00,  2.68s/it]\n"
     ]
    },
    {
     "name": "stdout",
     "output_type": "stream",
     "text": [
      "Partition 0: 1 clusters\n",
      "Partition 0: 1 clusters\n",
      "Partition 0: 1 clusters\n",
      "Partition 0: 1 clusters\n",
      "Partition 0: 1 clusters\n",
      "Partition 0: 1 clusters\n",
      "Partition 0: 1 clusters\n",
      "Partition 0: 1 clusters\n",
      "Partition 0: 1 clusters\n",
      "Partition 0: 1 clusters\n",
      "The 1 Communcation Accuracy: 19.06 Method: fpl\n",
      "[35.89, 13.25, 16.75, 10.35]\n"
     ]
    }
   ],
   "source": [
    "label_dict = train(model, priv_dataset, args)"
   ]
  },
  {
   "cell_type": "code",
   "execution_count": 47,
   "id": "ede9b71e64e2aad6",
   "metadata": {
    "ExecuteTime": {
     "end_time": "2025-03-27T15:08:09.801193300Z",
     "start_time": "2025-03-27T11:23:46.252796Z"
    }
   },
   "outputs": [
    {
     "data": {
      "text/plain": [
       "dict_keys(['mnist', 'syn', 'usps'])"
      ]
     },
     "execution_count": 47,
     "metadata": {},
     "output_type": "execute_result"
    }
   ],
   "source": [
    "label_dict.keys()"
   ]
  },
  {
   "cell_type": "code",
   "execution_count": 48,
   "id": "bff74e5045ff1126",
   "metadata": {
    "ExecuteTime": {
     "end_time": "2025-03-27T15:08:09.824196Z",
     "start_time": "2025-03-27T11:24:25.606685Z"
    }
   },
   "outputs": [
    {
     "name": "stdout",
     "output_type": "stream",
     "text": [
      "60000\n",
      "10000\n",
      "7291\n"
     ]
    }
   ],
   "source": [
    "for d in label_dict.values():\n",
    "    print(len(d))"
   ]
  },
  {
   "cell_type": "code",
   "execution_count": 74,
   "id": "98cf0dccf4bf7438",
   "metadata": {
    "ExecuteTime": {
     "end_time": "2025-03-27T15:08:09.825197Z",
     "start_time": "2025-03-27T11:40:01.275992Z"
    }
   },
   "outputs": [],
   "source": [
    "import torch\n",
    "\n",
    "def get_sorted_label_indices(label_dict):\n",
    "    \"\"\"\n",
    "    Given a dictionary where each key is a dataset name and the value is a tensor or list of labels,\n",
    "    returns a new dictionary mapping each label to its corresponding indices, sorted by label.\n",
    "    Indices are stored in sets instead of lists for efficient lookups.\n",
    "\n",
    "    Args:\n",
    "        label_dict (dict): A dictionary with dataset names as keys and tensors/lists of labels as values.\n",
    "\n",
    "    Returns:\n",
    "        dict: A dictionary with dataset names as keys and sorted mappings of labels to index sets.\n",
    "    \"\"\"\n",
    "    index_map = {}\n",
    "\n",
    "    for dataset_name, y_values in label_dict.items():\n",
    "        index_map[dataset_name] = {}  # Initialize the dataset key\n",
    "\n",
    "        # If y_values is a tensor, convert it to a list\n",
    "        if isinstance(y_values, torch.Tensor):\n",
    "            y_values = y_values.tolist()\n",
    "\n",
    "        # Loop through all labels in the list\n",
    "        for index, label in enumerate(y_values):  \n",
    "            if label not in index_map[dataset_name]:\n",
    "                index_map[dataset_name][label] = set()  # Initialize set if not present\n",
    "            \n",
    "            index_map[dataset_name][label].add(index)  # Store index\n",
    "        \n",
    "        # Sort the dictionary keys for each dataset\n",
    "        index_map[dataset_name] = dict(sorted(index_map[dataset_name].items()))\n",
    "    \n",
    "    return index_map"
   ]
  },
  {
   "cell_type": "code",
   "execution_count": 75,
   "id": "cd2626ff66354d16",
   "metadata": {},
   "outputs": [
    {
     "name": "stdout",
     "output_type": "stream",
     "text": [
      "\n",
      "Dataset: mnist\n",
      "  Label 0: 5923 occurrences\n",
      "  Label 1: 6742 occurrences\n",
      "  Label 2: 5958 occurrences\n",
      "  Label 3: 6131 occurrences\n",
      "  Label 4: 5842 occurrences\n",
      "  Label 5: 5421 occurrences\n",
      "  Label 6: 5918 occurrences\n",
      "  Label 7: 6265 occurrences\n",
      "  Label 8: 5851 occurrences\n",
      "  Label 9: 5949 occurrences\n",
      "60000\n",
      "\n",
      "Dataset: syn\n",
      "  Label 0: 1000 occurrences\n",
      "  Label 1: 1000 occurrences\n",
      "  Label 2: 1000 occurrences\n",
      "  Label 3: 1000 occurrences\n",
      "  Label 4: 1000 occurrences\n",
      "  Label 5: 1000 occurrences\n",
      "  Label 6: 1000 occurrences\n",
      "  Label 7: 1000 occurrences\n",
      "  Label 8: 1000 occurrences\n",
      "  Label 9: 1000 occurrences\n",
      "10000\n",
      "\n",
      "Dataset: usps\n",
      "  Label 0: 1194 occurrences\n",
      "  Label 1: 1005 occurrences\n",
      "  Label 2: 731 occurrences\n",
      "  Label 3: 658 occurrences\n",
      "  Label 4: 652 occurrences\n",
      "  Label 5: 556 occurrences\n",
      "  Label 6: 664 occurrences\n",
      "  Label 7: 645 occurrences\n",
      "  Label 8: 542 occurrences\n",
      "  Label 9: 644 occurrences\n",
      "7291\n"
     ]
    }
   ],
   "source": [
    "avaliable_indexes = get_sorted_label_indices(label_dict)\n",
    "\n",
    "# Printing results\n",
    "for dataset, mapping in avaliable_indexes.items():\n",
    "    print(f\"\\nDataset: {dataset}\")\n",
    "    aux = 0\n",
    "    for label, indices in mapping.items():\n",
    "        print(f\"  Label {label}: {len(indices)} occurrences\")\n",
    "        aux+=len(indices)\n",
    "    print(aux)"
   ]
  },
  {
   "cell_type": "code",
   "execution_count": null,
   "id": "2a7b2c6f-b103-4621-8b1f-13a7f33860b8",
   "metadata": {},
   "outputs": [],
   "source": []
  },
  {
   "cell_type": "code",
   "execution_count": 62,
   "id": "64cb9a9a2ca9066c",
   "metadata": {},
   "outputs": [],
   "source": [
    "from Tbx_Sample import *"
   ]
  },
  {
   "cell_type": "code",
   "execution_count": 63,
   "id": "504e27a50b16e53",
   "metadata": {},
   "outputs": [],
   "source": [
    "class Participant:\n",
    "    def __init__(self, labels, stochastic_params, mnist_population, available_indexes):\n",
    "        \"\"\"\n",
    "        Initialize the Participant with labels and their stochastic process parameters.\n",
    "        \n",
    "        labels: List of labels to sample from (e.g., [0, 1, 2, 3, ...])\n",
    "        stochastic_params: A list of dictionaries containing the stochastic process parameters for each label\n",
    "        mnist_population: The indexed MNIST population\n",
    "        available_indexes: The available indexes for sampling from the MNIST population\n",
    "        \"\"\"\n",
    "        self.labels = labels\n",
    "        self.stochastic_params = stochastic_params\n",
    "        self.mnist_population = mnist_population\n",
    "        self.available_indexes = available_indexes\n",
    "        self.Samples = self._generate_Samples()\n",
    "    \n",
    "    def _generate_Samples(self):\n",
    "        \"\"\"\n",
    "        Generate samples for each label based on their respective stochastic process parameters.\n",
    "        \"\"\"\n",
    "        samples = {}\n",
    "        for label, params in zip(self.labels, self.stochastic_params):\n",
    "            try:\n",
    "                # Create the stochastic process for this label\n",
    "                stochastic_process = StochasticProcess(\n",
    "                    initial_population=params['initial_population'],\n",
    "                    steps=params['steps'],\n",
    "                    process_type=params['process_type'],\n",
    "                    combine_with=params['combine_with'],\n",
    "                    rate=params['rate'],\n",
    "                    angular_coef=params['angular_coef'],\n",
    "                    period=params['period'],\n",
    "                    frequency=params['frequency']\n",
    "                )\n",
    "                # Create a sample instance for this label\n",
    "                sample = Sample(\n",
    "                    label=label,\n",
    "                    stochastic_process=stochastic_process,\n",
    "                    mnist_population=self.mnist_population,\n",
    "                    available_indexes=self.available_indexes\n",
    "                )\n",
    "                # Store the samples for this label\n",
    "                samples[label] = sample\n",
    "            except KeyError as e:\n",
    "                print(f\"Missing parameter {e} for label {label}\")\n",
    "            except Exception as e:\n",
    "                print(f\"An error occurred for label {label}: {e}\")\n",
    "        return samples\n",
    "    \n",
    "    def get_sample_label(self, label, time_step):\n",
    "        \"\"\"\n",
    "        Get the samples for a specific label at a given time step.\n",
    "        \n",
    "        label: The label for which samples are needed (e.g., 3)\n",
    "        time_step: The time step at which to fetch the samples\n",
    "        \"\"\"\n",
    "        try:\n",
    "            sample = self.Samples[label]\n",
    "            return sample.get_samples_at(time_step)\n",
    "        except KeyError:\n",
    "            print(f\"Sample for label {label} not found.\")\n",
    "        except Exception as e:\n",
    "            print(f\"An error occurred: {e}\")\n",
    "\n",
    "    def report_data(self):\n",
    "        aux_data = {}\n",
    "        for label in self.labels:\n",
    "            aux_data[label] = self.Samples[label].get_process_data()\n",
    "        \n",
    "        df = pd.DataFrame.from_dict(aux_data, orient='index')\n",
    "        df.reset_index(inplace=True)\n",
    "        df.rename(columns={'index': 'id'}, inplace=True)\n",
    "        df.columns = ['id'] + [f'value_{i+1}' for i in range(df.shape[1] - 1)]\n",
    "\n",
    "        return df"
   ]
  },
  {
   "cell_type": "code",
   "execution_count": 117,
   "id": "84d1f608e34fc119",
   "metadata": {},
   "outputs": [],
   "source": [
    "import itertools\n",
    "import random\n",
    "\n",
    "def generate_limited_values(start, stop, step, max_values=None):\n",
    "    values = list(frange(start, stop, step))\n",
    "    if max_values and len(values) > max_values:\n",
    "        values = random.sample(values, max_values)\n",
    "    return values\n",
    "\n",
    "def frange(start, stop, step):\n",
    "    while start < stop:\n",
    "        yield round(start, 10)  # Avoid floating-point precision errors\n",
    "        start += step\n",
    "\n",
    "def generate_stochastic_combinations(init_pop=200, init_steps=20, init_freq=None, init_period=None, init_rate = None, init_angular = None,  max_combinations=None):\n",
    "    if init_freq is None:\n",
    "        init_freq = generate_limited_values(0.1 * init_pop, 0.5 * init_pop, 0.05 * init_pop, max_combinations)\n",
    "    else:\n",
    "        init_freq = generate_limited_values(init_freq * init_pop, 5 * init_freq * init_pop, 0.1 * init_freq * init_pop, max_combinations) if not isinstance(init_period, list) else generate_limited_values(init_freq[0] * init_pop, init_freq[1] * init_pop, (init_freq[1] - init_freq[0]) * 0.1 * init_pop, max_combinations)\n",
    "\n",
    "    if init_period is None:\n",
    "        init_period = generate_limited_values(0, 0.5, 0.07, max_combinations)\n",
    "    else:\n",
    "        init_period = generate_limited_values(0, init_period, 0.07*init_period, max_combinations)\n",
    "\n",
    "    if init_rate is None:\n",
    "        init_rate = generate_limited_values(-0.1, 0.1, 0.025, max_combinations)\n",
    "    else:\n",
    "        init_rate = generate_limited_values(-init_rate, init_rate, 0.05*init_rate, max_combinations)\n",
    "\n",
    "    if init_angular is None:\n",
    "        init_angular = generate_limited_values(-4, 4, 0.5, max_combinations)\n",
    "    else:\n",
    "        init_angular = generate_limited_values(-init_angular, init_angular, 0.05*init_angular, max_combinations)\n",
    "\n",
    "\n",
    "    # Define possible values for 'combine_with' and 'process_type'\n",
    "    combine_with_values = ['exponential', 'sine', 'exp_decay']\n",
    "    process_type_values = ['combined']\n",
    "\n",
    "    # Generate valid combinations of 'combine_with'\n",
    "    combine_with_combinations = [\n",
    "        comb for r in range(1, 3)  # Generate combinations of size 1 and 2\n",
    "        for comb in itertools.combinations(combine_with_values, r)\n",
    "        if not ('exponential' in comb and 'exp_decay' in comb)\n",
    "    ]\n",
    "\n",
    "    # Generate all combinations\n",
    "    param_combinations = list(itertools.product(init_rate, init_angular, combine_with_combinations, process_type_values))\n",
    "\n",
    "    # If max_combinations is specified, sample from it\n",
    "    if max_combinations and len(param_combinations) > max_combinations:\n",
    "        param_combinations = random.sample(param_combinations, max_combinations)\n",
    "\n",
    "    # Generate the parameter dictionaries\n",
    "    parameter_dicts = []\n",
    "    for rate, angular, combine, process in param_combinations:\n",
    "        param_dict = {\n",
    "            'initial_population': init_pop,\n",
    "            'steps': init_steps,\n",
    "            'process_type': process,\n",
    "            'combine_with': list(combine),\n",
    "            'rate': rate,\n",
    "            'angular_coef': angular,\n",
    "            'period': random.choice(init_period) if isinstance(init_period, list) else init_period,\n",
    "            'frequency': random.choice(init_freq) if isinstance(init_freq, list) else init_freq,\n",
    "        }\n",
    "        parameter_dicts.append(param_dict)\n",
    "\n",
    "    return parameter_dicts"
   ]
  },
  {
   "cell_type": "code",
   "execution_count": 118,
   "id": "15f5ca2e-d1b0-4bb5-a2c9-8e00bfb61111",
   "metadata": {},
   "outputs": [],
   "source": [
    "import random\n",
    "\n",
    "# Function to randomly select labels based on the length of stochastic_params\n",
    "def select_random_labels(stochastic_params, label_range=(0, 10)):\n",
    "    # Generate random labels based on the length of stochastic_params\n",
    "    num_labels = len(stochastic_params)  # The number of labels to select\n",
    "    random_labels = random.sample(range(label_range[0], label_range[1]), num_labels)\n",
    "    \n",
    "    return random_labels"
   ]
  },
  {
   "cell_type": "code",
   "execution_count": 119,
   "id": "b748402d-3694-4636-87e5-7a29c6221b13",
   "metadata": {},
   "outputs": [],
   "source": [
    "def add_participant_to_federation(\n",
    "    federation, available_indexes, \n",
    "    init_pop, init_steps, init_freq, init_period, init_rate, init_angular, max_comb\n",
    "):\n",
    "    \"\"\"\n",
    "    Generates stochastic parameter combinations, selects random labels, and adds a new Participant \n",
    "    instance to the federation.\n",
    "\n",
    "    Args:\n",
    "        federation (list): The list where the new Participant will be appended.\n",
    "        available_indexes (dict): Dictionary of available indexes per dataset.\n",
    "        init_pop (list): Initial population parameters.\n",
    "        init_steps (list): Initial steps parameters.\n",
    "        init_freq (list): Initial frequency parameters.\n",
    "        init_period (list): Initial period parameters.\n",
    "        max_comb (int): Maximum number of stochastic parameter combinations to generate.\n",
    "\n",
    "    Returns:\n",
    "        None: The function modifies the `federation` list in place.\n",
    "    \"\"\"\n",
    "    # Generate a subset of combinations\n",
    "    param_combinations = generate_stochastic_combinations(\n",
    "        init_pop=init_pop, init_steps=init_steps, \n",
    "        init_freq=init_freq, init_period=init_period, \n",
    "        init_rate = init_rate, init_angular = init_angular,\n",
    "        max_combinations=max_comb\n",
    "    )\n",
    "\n",
    "    # # Print the generated combinations\n",
    "    # for idx, params in enumerate(param_combinations):\n",
    "    #     print(f\"Combination {idx + 1}: {params}\")\n",
    "\n",
    "    # Generate a list of random labels for the given stochastic parameters\n",
    "    random_labels = select_random_labels(param_combinations)\n",
    "\n",
    "    # Create a Participant instance\n",
    "    participant = Participant(\n",
    "        labels=random_labels, \n",
    "        stochastic_params=param_combinations, \n",
    "        mnist_population=available_indexes, \n",
    "        available_indexes=available_indexes\n",
    "    )\n",
    "\n",
    "    # Append the new participant to the federation\n",
    "    federation.append(participant)\n",
    "\n",
    "    print(f\"Added new participant with {len(random_labels)} labels to the federation.\")"
   ]
  },
  {
   "cell_type": "code",
   "execution_count": 120,
   "id": "548ecf4e-a61a-42f9-8c63-adb65cce8b60",
   "metadata": {},
   "outputs": [
    {
     "data": {
      "text/plain": [
       "dict_keys(['mnist', 'syn', 'usps'])"
      ]
     },
     "execution_count": 120,
     "metadata": {},
     "output_type": "execute_result"
    }
   ],
   "source": [
    "avaliable_indexes.keys()"
   ]
  },
  {
   "cell_type": "code",
   "execution_count": 152,
   "id": "54a23eb8-97a9-404a-a78b-79eaf83e1ef7",
   "metadata": {},
   "outputs": [
    {
     "name": "stdout",
     "output_type": "stream",
     "text": [
      "Added new participant with 6 labels to the federation.\n"
     ]
    }
   ],
   "source": [
    "# Define federation list\n",
    "federation = []\n",
    "\n",
    "# Client A\n",
    "init_pop = 50\n",
    "init_steps = 20\n",
    "init_period = int(0.2 * init_pop)\n",
    "init_freq = 1\n",
    "max_comb = 6\n",
    "init_rate = None\n",
    "init_angular = None\n",
    "domain = 'mnist'\n",
    "\n",
    "add_participant_to_federation(\n",
    "    federation=federation,\n",
    "    available_indexes=avaliable_indexes[domain],\n",
    "    init_pop=init_pop,\n",
    "    init_steps=init_steps,\n",
    "    init_freq=init_freq,\n",
    "    init_period=init_period,\n",
    "    init_rate = init_rate,\n",
    "    init_angular = init_angular,\n",
    "    max_comb=max_comb\n",
    ")"
   ]
  },
  {
   "cell_type": "code",
   "execution_count": 153,
   "id": "6172ee44-c3ca-4388-8941-5cb69f3a9165",
   "metadata": {},
   "outputs": [
    {
     "name": "stdout",
     "output_type": "stream",
     "text": [
      "Added new participant with 5 labels to the federation.\n"
     ]
    }
   ],
   "source": [
    "# Client B\n",
    "init_pop = 50\n",
    "init_steps = 20\n",
    "init_period = int(0.2 * init_pop)\n",
    "init_freq = None\n",
    "max_comb = 5\n",
    "init_rate = None\n",
    "init_angular = None\n",
    "domain = 'mnist'\n",
    "\n",
    "add_participant_to_federation(\n",
    "    federation=federation,\n",
    "    available_indexes=avaliable_indexes[domain],\n",
    "    init_pop=init_pop,\n",
    "    init_steps=init_steps,\n",
    "    init_freq=init_freq,\n",
    "    init_period=init_period,\n",
    "    init_rate = init_rate,\n",
    "    init_angular = init_angular,\n",
    "    max_comb=max_comb\n",
    ")"
   ]
  },
  {
   "cell_type": "code",
   "execution_count": 154,
   "id": "698d8c25-fc61-4c08-a1c1-ccead5f1e6b2",
   "metadata": {},
   "outputs": [
    {
     "name": "stdout",
     "output_type": "stream",
     "text": [
      "Added new participant with 8 labels to the federation.\n"
     ]
    }
   ],
   "source": [
    "# Client C\n",
    "init_pop = 50\n",
    "init_steps = 20\n",
    "init_period = None\n",
    "init_freq = 1\n",
    "max_comb = 8\n",
    "init_rate = None\n",
    "init_angular = None\n",
    "domain = 'mnist'\n",
    "\n",
    "add_participant_to_federation(\n",
    "    federation=federation,\n",
    "    available_indexes=avaliable_indexes[domain],\n",
    "    init_pop=init_pop,\n",
    "    init_steps=init_steps,\n",
    "    init_freq=init_freq,\n",
    "    init_period=init_period,\n",
    "    init_rate = init_rate,\n",
    "    init_angular = init_angular,\n",
    "    max_comb=max_comb\n",
    ")"
   ]
  },
  {
   "cell_type": "code",
   "execution_count": 155,
   "id": "2aa281fe-c665-4233-acbd-d81edb04d56d",
   "metadata": {},
   "outputs": [
    {
     "name": "stdout",
     "output_type": "stream",
     "text": [
      "Added new participant with 8 labels to the federation.\n"
     ]
    }
   ],
   "source": [
    "# Client D\n",
    "init_pop = 50\n",
    "init_steps = 20\n",
    "init_period = None\n",
    "init_freq = None\n",
    "max_comb = 8\n",
    "init_rate = None\n",
    "init_angular = None\n",
    "domain = 'mnist'\n",
    "\n",
    "add_participant_to_federation(\n",
    "    federation=federation,\n",
    "    available_indexes=avaliable_indexes[domain],\n",
    "    init_pop=init_pop,\n",
    "    init_steps=init_steps,\n",
    "    init_freq=init_freq,\n",
    "    init_period=init_period,\n",
    "    init_rate = init_rate,\n",
    "    init_angular = init_angular,\n",
    "    max_comb=max_comb\n",
    ")"
   ]
  },
  {
   "cell_type": "code",
   "execution_count": 166,
   "id": "f398fb67-542e-4f63-9c49-06c0f674bbc5",
   "metadata": {},
   "outputs": [
    {
     "name": "stdout",
     "output_type": "stream",
     "text": [
      "Added new participant with 8 labels to the federation.\n"
     ]
    }
   ],
   "source": [
    "# Client E\n",
    "init_pop = 600\n",
    "init_steps = 20\n",
    "init_period = 0.0000001\n",
    "init_freq = 0.0000001\n",
    "max_comb = 8\n",
    "init_rate = 0.00000001\n",
    "init_angular = 0.00000001\n",
    "domain = 'mnist'\n",
    "\n",
    "add_participant_to_federation(\n",
    "    federation=federation,\n",
    "    available_indexes=avaliable_indexes[domain],\n",
    "    init_pop=init_pop,\n",
    "    init_steps=init_steps,\n",
    "    init_freq=init_freq,\n",
    "    init_period=init_period,\n",
    "    init_rate = init_rate,\n",
    "    init_angular = init_angular,\n",
    "    max_comb=max_comb\n",
    ")"
   ]
  },
  {
   "cell_type": "code",
   "execution_count": 167,
   "id": "f039d6e8-e2ec-4632-b73d-274107b8c2a4",
   "metadata": {},
   "outputs": [
    {
     "data": {
      "text/plain": [
       "(1239, 4)"
      ]
     },
     "execution_count": 167,
     "metadata": {},
     "output_type": "execute_result"
    }
   ],
   "source": [
    "aux_plot = []\n",
    "for i, part in enumerate(federation):\n",
    "    aux_part = part.report_data()\n",
    "    aux_part['Participant'] = f'Part_{i}'\n",
    "    aux_part.rename(columns = {'id' : 'Digit'}, inplace = True)\n",
    "    aux_plot.append(aux_part)\n",
    "\n",
    "df_plot = pd.concat(aux_plot)\n",
    "\n",
    "# Melt the DataFrame\n",
    "df_plot = df_plot.melt(id_vars=['Digit', 'Participant'], \n",
    "                     var_name='Time', \n",
    "                     value_name='Count')\n",
    "\n",
    "# Convert 'Time' to numerical values (e.g., value_1 → 1, value_2 → 2, etc.)\n",
    "df_plot['Time'] = df_plot['Time'].str.extract('(\\d+)').astype(int) - 1\n",
    "\n",
    "df_plot.shape"
   ]
  },
  {
   "cell_type": "code",
   "execution_count": null,
   "id": "4ba8aebda6c40ca8",
   "metadata": {},
   "outputs": [],
   "source": []
  },
  {
   "cell_type": "code",
   "execution_count": 168,
   "id": "c364379c-59b6-4317-96e4-22765aa53161",
   "metadata": {},
   "outputs": [
    {
     "data": {
      "text/html": [
       "\n",
       "<style>\n",
       "  #altair-viz-ab13e46050154da59f33604070b8c3f8.vega-embed {\n",
       "    width: 100%;\n",
       "    display: flex;\n",
       "  }\n",
       "\n",
       "  #altair-viz-ab13e46050154da59f33604070b8c3f8.vega-embed details,\n",
       "  #altair-viz-ab13e46050154da59f33604070b8c3f8.vega-embed details summary {\n",
       "    position: relative;\n",
       "  }\n",
       "</style>\n",
       "<div id=\"altair-viz-ab13e46050154da59f33604070b8c3f8\"></div>\n",
       "<script type=\"text/javascript\">\n",
       "  var VEGA_DEBUG = (typeof VEGA_DEBUG == \"undefined\") ? {} : VEGA_DEBUG;\n",
       "  (function(spec, embedOpt){\n",
       "    let outputDiv = document.currentScript.previousElementSibling;\n",
       "    if (outputDiv.id !== \"altair-viz-ab13e46050154da59f33604070b8c3f8\") {\n",
       "      outputDiv = document.getElementById(\"altair-viz-ab13e46050154da59f33604070b8c3f8\");\n",
       "    }\n",
       "    const paths = {\n",
       "      \"vega\": \"https://cdn.jsdelivr.net/npm/vega@5?noext\",\n",
       "      \"vega-lib\": \"https://cdn.jsdelivr.net/npm/vega-lib?noext\",\n",
       "      \"vega-lite\": \"https://cdn.jsdelivr.net/npm/vega-lite@5.20.1?noext\",\n",
       "      \"vega-embed\": \"https://cdn.jsdelivr.net/npm/vega-embed@6?noext\",\n",
       "    };\n",
       "\n",
       "    function maybeLoadScript(lib, version) {\n",
       "      var key = `${lib.replace(\"-\", \"\")}_version`;\n",
       "      return (VEGA_DEBUG[key] == version) ?\n",
       "        Promise.resolve(paths[lib]) :\n",
       "        new Promise(function(resolve, reject) {\n",
       "          var s = document.createElement('script');\n",
       "          document.getElementsByTagName(\"head\")[0].appendChild(s);\n",
       "          s.async = true;\n",
       "          s.onload = () => {\n",
       "            VEGA_DEBUG[key] = version;\n",
       "            return resolve(paths[lib]);\n",
       "          };\n",
       "          s.onerror = () => reject(`Error loading script: ${paths[lib]}`);\n",
       "          s.src = paths[lib];\n",
       "        });\n",
       "    }\n",
       "\n",
       "    function showError(err) {\n",
       "      outputDiv.innerHTML = `<div class=\"error\" style=\"color:red;\">${err}</div>`;\n",
       "      throw err;\n",
       "    }\n",
       "\n",
       "    function displayChart(vegaEmbed) {\n",
       "      vegaEmbed(outputDiv, spec, embedOpt)\n",
       "        .catch(err => showError(`Javascript Error: ${err.message}<br>This usually means there's a typo in your chart specification. See the javascript console for the full traceback.`));\n",
       "    }\n",
       "\n",
       "    if(typeof define === \"function\" && define.amd) {\n",
       "      requirejs.config({paths});\n",
       "      require([\"vega-embed\"], displayChart, err => showError(`Error loading script: ${err.message}`));\n",
       "    } else {\n",
       "      maybeLoadScript(\"vega\", \"5\")\n",
       "        .then(() => maybeLoadScript(\"vega-lite\", \"5.20.1\"))\n",
       "        .then(() => maybeLoadScript(\"vega-embed\", \"6\"))\n",
       "        .catch(showError)\n",
       "        .then(() => displayChart(vegaEmbed));\n",
       "    }\n",
       "  })({\"config\": {\"view\": {\"continuousWidth\": 300, \"continuousHeight\": 300}}, \"hconcat\": [{\"mark\": {\"type\": \"bar\"}, \"encoding\": {\"color\": {\"condition\": {\"param\": \"param_43\", \"value\": \"steelblue\"}, \"value\": \"grey\"}, \"x\": {\"field\": \"Participant\", \"type\": \"nominal\"}, \"y\": {\"aggregate\": \"sum\", \"field\": \"Count\", \"type\": \"quantitative\"}}, \"height\": 250, \"name\": \"view_30\", \"transform\": [{\"filter\": {\"param\": \"param_42\"}}], \"width\": 140.0}, {\"layer\": [{\"mark\": {\"type\": \"rect\"}, \"encoding\": {\"color\": {\"condition\": {\"param\": \"param_43\", \"field\": \"Count\", \"legend\": {\"orient\": \"top\"}, \"scale\": {\"scheme\": \"greenblue\"}, \"title\": \"Total Count\", \"type\": \"quantitative\"}, \"value\": \"grey\"}, \"tooltip\": [{\"field\": \"Digit\", \"title\": \"Digit\", \"type\": \"ordinal\"}, {\"field\": \"Participant\", \"title\": \"Participant\", \"type\": \"nominal\"}, {\"field\": \"Count\", \"title\": \"Total Count\", \"type\": \"quantitative\"}], \"x\": {\"field\": \"Digit\", \"title\": \"MNIST Digit (0-9)\", \"type\": \"ordinal\"}, \"y\": {\"field\": \"Participant\", \"title\": \"Participants\", \"type\": \"nominal\"}}, \"name\": \"view_29\", \"transform\": [{\"filter\": {\"param\": \"param_42\"}}]}, {\"mark\": {\"type\": \"point\"}, \"encoding\": {\"color\": {\"value\": \"black\"}, \"size\": {\"field\": \"Count\", \"title\": \"Selected Images\", \"type\": \"quantitative\"}, \"tooltip\": [{\"field\": \"Digit\", \"title\": \"Digit\", \"type\": \"ordinal\"}, {\"field\": \"Participant\", \"title\": \"Participant\", \"type\": \"nominal\"}, {\"field\": \"Count\", \"title\": \"Total Count\", \"type\": \"quantitative\"}], \"x\": {\"field\": \"Digit\", \"title\": \"MNIST Digit (0-9)\", \"type\": \"ordinal\"}, \"y\": {\"field\": \"Participant\", \"title\": \"Participants\", \"type\": \"nominal\"}}, \"transform\": [{\"filter\": {\"param\": \"param_42\"}}, {\"filter\": {\"param\": \"param_43\"}}, {\"filter\": {\"param\": \"param_44\"}}]}], \"height\": 250, \"width\": 210.0}, {\"layer\": [{\"mark\": {\"type\": \"line\"}, \"encoding\": {\"color\": {\"field\": \"Digit\", \"title\": \"Stoc.Process\", \"type\": \"ordinal\"}, \"tooltip\": [{\"field\": \"Digit\", \"type\": \"quantitative\"}, {\"field\": \"Time\", \"type\": \"quantitative\"}, {\"field\": \"Count\", \"type\": \"quantitative\"}], \"x\": {\"field\": \"Time\", \"type\": \"ordinal\"}, \"y\": {\"field\": \"Count\", \"type\": \"quantitative\"}}, \"title\": \"Process over Time\", \"transform\": [{\"filter\": {\"param\": \"param_43\"}}, {\"filter\": {\"param\": \"param_44\"}}]}, {\"mark\": {\"type\": \"circle\", \"size\": 50}, \"encoding\": {\"color\": {\"field\": \"Digit\", \"title\": \"Stoc.Process\", \"type\": \"ordinal\"}, \"tooltip\": [{\"field\": \"Digit\", \"type\": \"quantitative\"}, {\"field\": \"Time\", \"type\": \"quantitative\"}, {\"field\": \"Count\", \"type\": \"quantitative\"}], \"x\": {\"field\": \"Time\", \"type\": \"ordinal\"}, \"y\": {\"field\": \"Count\", \"type\": \"quantitative\"}}, \"transform\": [{\"filter\": {\"param\": \"param_43\"}}, {\"filter\": {\"param\": \"param_44\"}}]}], \"height\": 250, \"width\": 300}], \"data\": {\"name\": \"data-c3d151a18b3b38e8c62b6854a4e41ec4\"}, \"params\": [{\"name\": \"param_43\", \"select\": {\"type\": \"point\", \"encodings\": [\"x\"]}, \"views\": [\"view_30\", \"view_29\"]}, {\"name\": \"param_44\", \"select\": {\"type\": \"point\", \"encodings\": [\"y\"]}, \"views\": [\"view_29\"]}, {\"name\": \"param_42\", \"select\": {\"type\": \"point\", \"fields\": [\"Time\"]}, \"bind\": {\"input\": \"range\", \"max\": 20, \"min\": 0, \"name\": \"Select Time: \", \"step\": 1}, \"value\": 0, \"views\": [\"view_29\"]}], \"resolve\": {\"legend\": {\"color\": \"independent\", \"size\": \"independent\"}}, \"$schema\": \"https://vega.github.io/schema/vega-lite/v5.20.1.json\", \"datasets\": {\"data-c3d151a18b3b38e8c62b6854a4e41ec4\": [{\"Digit\": 1, \"Participant\": \"Part_0\", \"Time\": 0, \"Count\": 50}, {\"Digit\": 9, \"Participant\": \"Part_0\", \"Time\": 0, \"Count\": 50}, {\"Digit\": 5, \"Participant\": \"Part_0\", \"Time\": 0, \"Count\": 50}, {\"Digit\": 0, \"Participant\": \"Part_0\", \"Time\": 0, \"Count\": 50}, {\"Digit\": 7, \"Participant\": \"Part_0\", \"Time\": 0, \"Count\": 50}, {\"Digit\": 2, \"Participant\": \"Part_0\", \"Time\": 0, \"Count\": 50}, {\"Digit\": 4, \"Participant\": \"Part_1\", \"Time\": 0, \"Count\": 50}, {\"Digit\": 5, \"Participant\": \"Part_1\", \"Time\": 0, \"Count\": 50}, {\"Digit\": 2, \"Participant\": \"Part_1\", \"Time\": 0, \"Count\": 50}, {\"Digit\": 7, \"Participant\": \"Part_1\", \"Time\": 0, \"Count\": 50}, {\"Digit\": 6, \"Participant\": \"Part_1\", \"Time\": 0, \"Count\": 50}, {\"Digit\": 2, \"Participant\": \"Part_2\", \"Time\": 0, \"Count\": 50}, {\"Digit\": 3, \"Participant\": \"Part_2\", \"Time\": 0, \"Count\": 50}, {\"Digit\": 9, \"Participant\": \"Part_2\", \"Time\": 0, \"Count\": 50}, {\"Digit\": 0, \"Participant\": \"Part_2\", \"Time\": 0, \"Count\": 50}, {\"Digit\": 7, \"Participant\": \"Part_2\", \"Time\": 0, \"Count\": 50}, {\"Digit\": 5, \"Participant\": \"Part_2\", \"Time\": 0, \"Count\": 50}, {\"Digit\": 6, \"Participant\": \"Part_2\", \"Time\": 0, \"Count\": 50}, {\"Digit\": 8, \"Participant\": \"Part_2\", \"Time\": 0, \"Count\": 50}, {\"Digit\": 0, \"Participant\": \"Part_3\", \"Time\": 0, \"Count\": 50}, {\"Digit\": 1, \"Participant\": \"Part_3\", \"Time\": 0, \"Count\": 50}, {\"Digit\": 2, \"Participant\": \"Part_3\", \"Time\": 0, \"Count\": 50}, {\"Digit\": 7, \"Participant\": \"Part_3\", \"Time\": 0, \"Count\": 50}, {\"Digit\": 8, \"Participant\": \"Part_3\", \"Time\": 0, \"Count\": 50}, {\"Digit\": 6, \"Participant\": \"Part_3\", \"Time\": 0, \"Count\": 50}, {\"Digit\": 4, \"Participant\": \"Part_3\", \"Time\": 0, \"Count\": 50}, {\"Digit\": 5, \"Participant\": \"Part_3\", \"Time\": 0, \"Count\": 50}, {\"Digit\": 5, \"Participant\": \"Part_4\", \"Time\": 0, \"Count\": 50}, {\"Digit\": 0, \"Participant\": \"Part_4\", \"Time\": 0, \"Count\": 50}, {\"Digit\": 9, \"Participant\": \"Part_4\", \"Time\": 0, \"Count\": 50}, {\"Digit\": 4, \"Participant\": \"Part_4\", \"Time\": 0, \"Count\": 50}, {\"Digit\": 6, \"Participant\": \"Part_4\", \"Time\": 0, \"Count\": 50}, {\"Digit\": 1, \"Participant\": \"Part_4\", \"Time\": 0, \"Count\": 50}, {\"Digit\": 3, \"Participant\": \"Part_4\", \"Time\": 0, \"Count\": 50}, {\"Digit\": 8, \"Participant\": \"Part_4\", \"Time\": 0, \"Count\": 50}, {\"Digit\": 9, \"Participant\": \"Part_5\", \"Time\": 0, \"Count\": 50}, {\"Digit\": 3, \"Participant\": \"Part_5\", \"Time\": 0, \"Count\": 50}, {\"Digit\": 2, \"Participant\": \"Part_5\", \"Time\": 0, \"Count\": 50}, {\"Digit\": 4, \"Participant\": \"Part_5\", \"Time\": 0, \"Count\": 50}, {\"Digit\": 5, \"Participant\": \"Part_5\", \"Time\": 0, \"Count\": 50}, {\"Digit\": 0, \"Participant\": \"Part_5\", \"Time\": 0, \"Count\": 50}, {\"Digit\": 6, \"Participant\": \"Part_5\", \"Time\": 0, \"Count\": 50}, {\"Digit\": 8, \"Participant\": \"Part_5\", \"Time\": 0, \"Count\": 50}, {\"Digit\": 6, \"Participant\": \"Part_6\", \"Time\": 0, \"Count\": 50}, {\"Digit\": 0, \"Participant\": \"Part_6\", \"Time\": 0, \"Count\": 50}, {\"Digit\": 9, \"Participant\": \"Part_6\", \"Time\": 0, \"Count\": 50}, {\"Digit\": 2, \"Participant\": \"Part_6\", \"Time\": 0, \"Count\": 50}, {\"Digit\": 5, \"Participant\": \"Part_6\", \"Time\": 0, \"Count\": 50}, {\"Digit\": 7, \"Participant\": \"Part_6\", \"Time\": 0, \"Count\": 50}, {\"Digit\": 8, \"Participant\": \"Part_6\", \"Time\": 0, \"Count\": 50}, {\"Digit\": 1, \"Participant\": \"Part_6\", \"Time\": 0, \"Count\": 50}, {\"Digit\": 5, \"Participant\": \"Part_7\", \"Time\": 0, \"Count\": 600}, {\"Digit\": 2, \"Participant\": \"Part_7\", \"Time\": 0, \"Count\": 600}, {\"Digit\": 9, \"Participant\": \"Part_7\", \"Time\": 0, \"Count\": 600}, {\"Digit\": 6, \"Participant\": \"Part_7\", \"Time\": 0, \"Count\": 600}, {\"Digit\": 4, \"Participant\": \"Part_7\", \"Time\": 0, \"Count\": 600}, {\"Digit\": 0, \"Participant\": \"Part_7\", \"Time\": 0, \"Count\": 600}, {\"Digit\": 3, \"Participant\": \"Part_7\", \"Time\": 0, \"Count\": 600}, {\"Digit\": 8, \"Participant\": \"Part_7\", \"Time\": 0, \"Count\": 600}, {\"Digit\": 1, \"Participant\": \"Part_0\", \"Time\": 1, \"Count\": 59}, {\"Digit\": 9, \"Participant\": \"Part_0\", \"Time\": 1, \"Count\": 48}, {\"Digit\": 5, \"Participant\": \"Part_0\", \"Time\": 1, \"Count\": 50}, {\"Digit\": 0, \"Participant\": \"Part_0\", \"Time\": 1, \"Count\": 55}, {\"Digit\": 7, \"Participant\": \"Part_0\", \"Time\": 1, \"Count\": 56}, {\"Digit\": 2, \"Participant\": \"Part_0\", \"Time\": 1, \"Count\": 45}, {\"Digit\": 4, \"Participant\": \"Part_1\", \"Time\": 1, \"Count\": 49}, {\"Digit\": 5, \"Participant\": \"Part_1\", \"Time\": 1, \"Count\": 47}, {\"Digit\": 2, \"Participant\": \"Part_1\", \"Time\": 1, \"Count\": 50}, {\"Digit\": 7, \"Participant\": \"Part_1\", \"Time\": 1, \"Count\": 57}, {\"Digit\": 6, \"Participant\": \"Part_1\", \"Time\": 1, \"Count\": 49}, {\"Digit\": 2, \"Participant\": \"Part_2\", \"Time\": 1, \"Count\": 45}, {\"Digit\": 3, \"Participant\": \"Part_2\", \"Time\": 1, \"Count\": 52}, {\"Digit\": 9, \"Participant\": \"Part_2\", \"Time\": 1, \"Count\": 44}, {\"Digit\": 0, \"Participant\": \"Part_2\", \"Time\": 1, \"Count\": 50}, {\"Digit\": 7, \"Participant\": \"Part_2\", \"Time\": 1, \"Count\": 52}, {\"Digit\": 5, \"Participant\": \"Part_2\", \"Time\": 1, \"Count\": 45}, {\"Digit\": 6, \"Participant\": \"Part_2\", \"Time\": 1, \"Count\": 48}, {\"Digit\": 8, \"Participant\": \"Part_2\", \"Time\": 1, \"Count\": 48}, {\"Digit\": 0, \"Participant\": \"Part_3\", \"Time\": 1, \"Count\": 43}, {\"Digit\": 1, \"Participant\": \"Part_3\", \"Time\": 1, \"Count\": 51}, {\"Digit\": 2, \"Participant\": \"Part_3\", \"Time\": 1, \"Count\": 46}, {\"Digit\": 7, \"Participant\": \"Part_3\", \"Time\": 1, \"Count\": 45}, {\"Digit\": 8, \"Participant\": \"Part_3\", \"Time\": 1, \"Count\": 52}, {\"Digit\": 6, \"Participant\": \"Part_3\", \"Time\": 1, \"Count\": 49}, {\"Digit\": 4, \"Participant\": \"Part_3\", \"Time\": 1, \"Count\": 45}, {\"Digit\": 5, \"Participant\": \"Part_3\", \"Time\": 1, \"Count\": 45}, {\"Digit\": 5, \"Participant\": \"Part_4\", \"Time\": 1, \"Count\": 48}, {\"Digit\": 0, \"Participant\": \"Part_4\", \"Time\": 1, \"Count\": 49}, {\"Digit\": 9, \"Participant\": \"Part_4\", \"Time\": 1, \"Count\": 50}, {\"Digit\": 4, \"Participant\": \"Part_4\", \"Time\": 1, \"Count\": 50}, {\"Digit\": 6, \"Participant\": \"Part_4\", \"Time\": 1, \"Count\": 49}, {\"Digit\": 1, \"Participant\": \"Part_4\", \"Time\": 1, \"Count\": 49}, {\"Digit\": 3, \"Participant\": \"Part_4\", \"Time\": 1, \"Count\": 49}, {\"Digit\": 8, \"Participant\": \"Part_4\", \"Time\": 1, \"Count\": 50}, {\"Digit\": 9, \"Participant\": \"Part_5\", \"Time\": 1, \"Count\": 49}, {\"Digit\": 3, \"Participant\": \"Part_5\", \"Time\": 1, \"Count\": 49}, {\"Digit\": 2, \"Participant\": \"Part_5\", \"Time\": 1, \"Count\": 50}, {\"Digit\": 4, \"Participant\": \"Part_5\", \"Time\": 1, \"Count\": 49}, {\"Digit\": 5, \"Participant\": \"Part_5\", \"Time\": 1, \"Count\": 49}, {\"Digit\": 0, \"Participant\": \"Part_5\", \"Time\": 1, \"Count\": 48}, {\"Digit\": 6, \"Participant\": \"Part_5\", \"Time\": 1, \"Count\": 48}, {\"Digit\": 8, \"Participant\": \"Part_5\", \"Time\": 1, \"Count\": 49}, {\"Digit\": 6, \"Participant\": \"Part_6\", \"Time\": 1, \"Count\": 48}, {\"Digit\": 0, \"Participant\": \"Part_6\", \"Time\": 1, \"Count\": 49}, {\"Digit\": 9, \"Participant\": \"Part_6\", \"Time\": 1, \"Count\": 49}, {\"Digit\": 2, \"Participant\": \"Part_6\", \"Time\": 1, \"Count\": 49}, {\"Digit\": 5, \"Participant\": \"Part_6\", \"Time\": 1, \"Count\": 49}, {\"Digit\": 7, \"Participant\": \"Part_6\", \"Time\": 1, \"Count\": 49}, {\"Digit\": 8, \"Participant\": \"Part_6\", \"Time\": 1, \"Count\": 48}, {\"Digit\": 1, \"Participant\": \"Part_6\", \"Time\": 1, \"Count\": 48}, {\"Digit\": 5, \"Participant\": \"Part_7\", \"Time\": 1, \"Count\": 599}, {\"Digit\": 2, \"Participant\": \"Part_7\", \"Time\": 1, \"Count\": 599}, {\"Digit\": 9, \"Participant\": \"Part_7\", \"Time\": 1, \"Count\": 599}, {\"Digit\": 6, \"Participant\": \"Part_7\", \"Time\": 1, \"Count\": 599}, {\"Digit\": 4, \"Participant\": \"Part_7\", \"Time\": 1, \"Count\": 598}, {\"Digit\": 0, \"Participant\": \"Part_7\", \"Time\": 1, \"Count\": 599}, {\"Digit\": 3, \"Participant\": \"Part_7\", \"Time\": 1, \"Count\": 599}, {\"Digit\": 8, \"Participant\": \"Part_7\", \"Time\": 1, \"Count\": 599}, {\"Digit\": 1, \"Participant\": \"Part_0\", \"Time\": 2, \"Count\": 62}, {\"Digit\": 9, \"Participant\": \"Part_0\", \"Time\": 2, \"Count\": 51}, {\"Digit\": 5, \"Participant\": \"Part_0\", \"Time\": 2, \"Count\": 51}, {\"Digit\": 0, \"Participant\": \"Part_0\", \"Time\": 2, \"Count\": 61}, {\"Digit\": 7, \"Participant\": \"Part_0\", \"Time\": 2, \"Count\": 62}, {\"Digit\": 2, \"Participant\": \"Part_0\", \"Time\": 2, \"Count\": 41}, {\"Digit\": 4, \"Participant\": \"Part_1\", \"Time\": 2, \"Count\": 48}, {\"Digit\": 5, \"Participant\": \"Part_1\", \"Time\": 2, \"Count\": 62}, {\"Digit\": 2, \"Participant\": \"Part_1\", \"Time\": 2, \"Count\": 63}, {\"Digit\": 7, \"Participant\": \"Part_1\", \"Time\": 2, \"Count\": 52}, {\"Digit\": 6, \"Participant\": \"Part_1\", \"Time\": 2, \"Count\": 55}, {\"Digit\": 2, \"Participant\": \"Part_2\", \"Time\": 2, \"Count\": 41}, {\"Digit\": 3, \"Participant\": \"Part_2\", \"Time\": 2, \"Count\": 55}, {\"Digit\": 9, \"Participant\": \"Part_2\", \"Time\": 2, \"Count\": 37}, {\"Digit\": 0, \"Participant\": \"Part_2\", \"Time\": 2, \"Count\": 52}, {\"Digit\": 7, \"Participant\": \"Part_2\", \"Time\": 2, \"Count\": 56}, {\"Digit\": 5, \"Participant\": \"Part_2\", \"Time\": 2, \"Count\": 41}, {\"Digit\": 6, \"Participant\": \"Part_2\", \"Time\": 2, \"Count\": 46}, {\"Digit\": 8, \"Participant\": \"Part_2\", \"Time\": 2, \"Count\": 46}, {\"Digit\": 0, \"Participant\": \"Part_3\", \"Time\": 2, \"Count\": 39}, {\"Digit\": 1, \"Participant\": \"Part_3\", \"Time\": 2, \"Count\": 54}, {\"Digit\": 2, \"Participant\": \"Part_3\", \"Time\": 2, \"Count\": 43}, {\"Digit\": 7, \"Participant\": \"Part_3\", \"Time\": 2, \"Count\": 41}, {\"Digit\": 8, \"Participant\": \"Part_3\", \"Time\": 2, \"Count\": 56}, {\"Digit\": 6, \"Participant\": \"Part_3\", \"Time\": 2, \"Count\": 48}, {\"Digit\": 4, \"Participant\": \"Part_3\", \"Time\": 2, \"Count\": 41}, {\"Digit\": 5, \"Participant\": \"Part_3\", \"Time\": 2, \"Count\": 41}, {\"Digit\": 5, \"Participant\": \"Part_4\", \"Time\": 2, \"Count\": 48}, {\"Digit\": 0, \"Participant\": \"Part_4\", \"Time\": 2, \"Count\": 49}, {\"Digit\": 9, \"Participant\": \"Part_4\", \"Time\": 2, \"Count\": 50}, {\"Digit\": 4, \"Participant\": \"Part_4\", \"Time\": 2, \"Count\": 50}, {\"Digit\": 6, \"Participant\": \"Part_4\", \"Time\": 2, \"Count\": 49}, {\"Digit\": 1, \"Participant\": \"Part_4\", \"Time\": 2, \"Count\": 49}, {\"Digit\": 3, \"Participant\": \"Part_4\", \"Time\": 2, \"Count\": 49}, {\"Digit\": 8, \"Participant\": \"Part_4\", \"Time\": 2, \"Count\": 50}, {\"Digit\": 9, \"Participant\": \"Part_5\", \"Time\": 2, \"Count\": 49}, {\"Digit\": 3, \"Participant\": \"Part_5\", \"Time\": 2, \"Count\": 49}, {\"Digit\": 2, \"Participant\": \"Part_5\", \"Time\": 2, \"Count\": 50}, {\"Digit\": 4, \"Participant\": \"Part_5\", \"Time\": 2, \"Count\": 49}, {\"Digit\": 5, \"Participant\": \"Part_5\", \"Time\": 2, \"Count\": 49}, {\"Digit\": 0, \"Participant\": \"Part_5\", \"Time\": 2, \"Count\": 48}, {\"Digit\": 6, \"Participant\": \"Part_5\", \"Time\": 2, \"Count\": 48}, {\"Digit\": 8, \"Participant\": \"Part_5\", \"Time\": 2, \"Count\": 49}, {\"Digit\": 6, \"Participant\": \"Part_6\", \"Time\": 2, \"Count\": 48}, {\"Digit\": 0, \"Participant\": \"Part_6\", \"Time\": 2, \"Count\": 49}, {\"Digit\": 9, \"Participant\": \"Part_6\", \"Time\": 2, \"Count\": 49}, {\"Digit\": 2, \"Participant\": \"Part_6\", \"Time\": 2, \"Count\": 49}, {\"Digit\": 5, \"Participant\": \"Part_6\", \"Time\": 2, \"Count\": 49}, {\"Digit\": 7, \"Participant\": \"Part_6\", \"Time\": 2, \"Count\": 49}, {\"Digit\": 8, \"Participant\": \"Part_6\", \"Time\": 2, \"Count\": 48}, {\"Digit\": 1, \"Participant\": \"Part_6\", \"Time\": 2, \"Count\": 48}, {\"Digit\": 5, \"Participant\": \"Part_7\", \"Time\": 2, \"Count\": 599}, {\"Digit\": 2, \"Participant\": \"Part_7\", \"Time\": 2, \"Count\": 599}, {\"Digit\": 9, \"Participant\": \"Part_7\", \"Time\": 2, \"Count\": 599}, {\"Digit\": 6, \"Participant\": \"Part_7\", \"Time\": 2, \"Count\": 599}, {\"Digit\": 4, \"Participant\": \"Part_7\", \"Time\": 2, \"Count\": 598}, {\"Digit\": 0, \"Participant\": \"Part_7\", \"Time\": 2, \"Count\": 599}, {\"Digit\": 3, \"Participant\": \"Part_7\", \"Time\": 2, \"Count\": 599}, {\"Digit\": 8, \"Participant\": \"Part_7\", \"Time\": 2, \"Count\": 599}, {\"Digit\": 1, \"Participant\": \"Part_0\", \"Time\": 3, \"Count\": 60}, {\"Digit\": 9, \"Participant\": \"Part_0\", \"Time\": 3, \"Count\": 52}, {\"Digit\": 5, \"Participant\": \"Part_0\", \"Time\": 3, \"Count\": 52}, {\"Digit\": 0, \"Participant\": \"Part_0\", \"Time\": 3, \"Count\": 67}, {\"Digit\": 7, \"Participant\": \"Part_0\", \"Time\": 3, \"Count\": 72}, {\"Digit\": 2, \"Participant\": \"Part_0\", \"Time\": 3, \"Count\": 38}, {\"Digit\": 4, \"Participant\": \"Part_1\", \"Time\": 3, \"Count\": 47}, {\"Digit\": 5, \"Participant\": \"Part_1\", \"Time\": 3, \"Count\": 46}, {\"Digit\": 2, \"Participant\": \"Part_1\", \"Time\": 3, \"Count\": 58}, {\"Digit\": 7, \"Participant\": \"Part_1\", \"Time\": 3, \"Count\": 39}, {\"Digit\": 6, \"Participant\": \"Part_1\", \"Time\": 3, \"Count\": 51}, {\"Digit\": 2, \"Participant\": \"Part_2\", \"Time\": 3, \"Count\": 37}, {\"Digit\": 3, \"Participant\": \"Part_2\", \"Time\": 3, \"Count\": 57}, {\"Digit\": 9, \"Participant\": \"Part_2\", \"Time\": 3, \"Count\": 33}, {\"Digit\": 0, \"Participant\": \"Part_2\", \"Time\": 3, \"Count\": 54}, {\"Digit\": 7, \"Participant\": \"Part_2\", \"Time\": 3, \"Count\": 59}, {\"Digit\": 5, \"Participant\": \"Part_2\", \"Time\": 3, \"Count\": 36}, {\"Digit\": 6, \"Participant\": \"Part_2\", \"Time\": 3, \"Count\": 44}, {\"Digit\": 8, \"Participant\": \"Part_2\", \"Time\": 3, \"Count\": 44}, {\"Digit\": 0, \"Participant\": \"Part_3\", \"Time\": 3, \"Count\": 33}, {\"Digit\": 1, \"Participant\": \"Part_3\", \"Time\": 3, \"Count\": 55}, {\"Digit\": 2, \"Participant\": \"Part_3\", \"Time\": 3, \"Count\": 39}, {\"Digit\": 7, \"Participant\": \"Part_3\", \"Time\": 3, \"Count\": 37}, {\"Digit\": 8, \"Participant\": \"Part_3\", \"Time\": 3, \"Count\": 58}, {\"Digit\": 6, \"Participant\": \"Part_3\", \"Time\": 3, \"Count\": 48}, {\"Digit\": 4, \"Participant\": \"Part_3\", \"Time\": 3, \"Count\": 37}, {\"Digit\": 5, \"Participant\": \"Part_3\", \"Time\": 3, \"Count\": 37}, {\"Digit\": 5, \"Participant\": \"Part_4\", \"Time\": 3, \"Count\": 48}, {\"Digit\": 0, \"Participant\": \"Part_4\", \"Time\": 3, \"Count\": 49}, {\"Digit\": 9, \"Participant\": \"Part_4\", \"Time\": 3, \"Count\": 50}, {\"Digit\": 4, \"Participant\": \"Part_4\", \"Time\": 3, \"Count\": 50}, {\"Digit\": 6, \"Participant\": \"Part_4\", \"Time\": 3, \"Count\": 49}, {\"Digit\": 1, \"Participant\": \"Part_4\", \"Time\": 3, \"Count\": 49}, {\"Digit\": 3, \"Participant\": \"Part_4\", \"Time\": 3, \"Count\": 49}, {\"Digit\": 8, \"Participant\": \"Part_4\", \"Time\": 3, \"Count\": 50}, {\"Digit\": 9, \"Participant\": \"Part_5\", \"Time\": 3, \"Count\": 49}, {\"Digit\": 3, \"Participant\": \"Part_5\", \"Time\": 3, \"Count\": 49}, {\"Digit\": 2, \"Participant\": \"Part_5\", \"Time\": 3, \"Count\": 50}, {\"Digit\": 4, \"Participant\": \"Part_5\", \"Time\": 3, \"Count\": 49}, {\"Digit\": 5, \"Participant\": \"Part_5\", \"Time\": 3, \"Count\": 49}, {\"Digit\": 0, \"Participant\": \"Part_5\", \"Time\": 3, \"Count\": 48}, {\"Digit\": 6, \"Participant\": \"Part_5\", \"Time\": 3, \"Count\": 48}, {\"Digit\": 8, \"Participant\": \"Part_5\", \"Time\": 3, \"Count\": 49}, {\"Digit\": 6, \"Participant\": \"Part_6\", \"Time\": 3, \"Count\": 48}, {\"Digit\": 0, \"Participant\": \"Part_6\", \"Time\": 3, \"Count\": 49}, {\"Digit\": 9, \"Participant\": \"Part_6\", \"Time\": 3, \"Count\": 49}, {\"Digit\": 2, \"Participant\": \"Part_6\", \"Time\": 3, \"Count\": 49}, {\"Digit\": 5, \"Participant\": \"Part_6\", \"Time\": 3, \"Count\": 49}, {\"Digit\": 7, \"Participant\": \"Part_6\", \"Time\": 3, \"Count\": 49}, {\"Digit\": 8, \"Participant\": \"Part_6\", \"Time\": 3, \"Count\": 48}, {\"Digit\": 1, \"Participant\": \"Part_6\", \"Time\": 3, \"Count\": 48}, {\"Digit\": 5, \"Participant\": \"Part_7\", \"Time\": 3, \"Count\": 599}, {\"Digit\": 2, \"Participant\": \"Part_7\", \"Time\": 3, \"Count\": 599}, {\"Digit\": 9, \"Participant\": \"Part_7\", \"Time\": 3, \"Count\": 599}, {\"Digit\": 6, \"Participant\": \"Part_7\", \"Time\": 3, \"Count\": 599}, {\"Digit\": 4, \"Participant\": \"Part_7\", \"Time\": 3, \"Count\": 598}, {\"Digit\": 0, \"Participant\": \"Part_7\", \"Time\": 3, \"Count\": 599}, {\"Digit\": 3, \"Participant\": \"Part_7\", \"Time\": 3, \"Count\": 599}, {\"Digit\": 8, \"Participant\": \"Part_7\", \"Time\": 3, \"Count\": 599}, {\"Digit\": 1, \"Participant\": \"Part_0\", \"Time\": 4, \"Count\": 54}, {\"Digit\": 9, \"Participant\": \"Part_0\", \"Time\": 4, \"Count\": 50}, {\"Digit\": 5, \"Participant\": \"Part_0\", \"Time\": 4, \"Count\": 52}, {\"Digit\": 0, \"Participant\": \"Part_0\", \"Time\": 4, \"Count\": 73}, {\"Digit\": 7, \"Participant\": \"Part_0\", \"Time\": 4, \"Count\": 78}, {\"Digit\": 2, \"Participant\": \"Part_0\", \"Time\": 4, \"Count\": 34}, {\"Digit\": 4, \"Participant\": \"Part_1\", \"Time\": 4, \"Count\": 46}, {\"Digit\": 5, \"Participant\": \"Part_1\", \"Time\": 4, \"Count\": 66}, {\"Digit\": 2, \"Participant\": \"Part_1\", \"Time\": 4, \"Count\": 73}, {\"Digit\": 7, \"Participant\": \"Part_1\", \"Time\": 4, \"Count\": 32}, {\"Digit\": 6, \"Participant\": \"Part_1\", \"Time\": 4, \"Count\": 58}, {\"Digit\": 2, \"Participant\": \"Part_2\", \"Time\": 4, \"Count\": 32}, {\"Digit\": 3, \"Participant\": \"Part_2\", \"Time\": 4, \"Count\": 61}, {\"Digit\": 9, \"Participant\": \"Part_2\", \"Time\": 4, \"Count\": 29}, {\"Digit\": 0, \"Participant\": \"Part_2\", \"Time\": 4, \"Count\": 56}, {\"Digit\": 7, \"Participant\": \"Part_2\", \"Time\": 4, \"Count\": 63}, {\"Digit\": 5, \"Participant\": \"Part_2\", \"Time\": 4, \"Count\": 33}, {\"Digit\": 6, \"Participant\": \"Part_2\", \"Time\": 4, \"Count\": 42}, {\"Digit\": 8, \"Participant\": \"Part_2\", \"Time\": 4, \"Count\": 44}, {\"Digit\": 0, \"Participant\": \"Part_3\", \"Time\": 4, \"Count\": 28}, {\"Digit\": 1, \"Participant\": \"Part_3\", \"Time\": 4, \"Count\": 58}, {\"Digit\": 2, \"Participant\": \"Part_3\", \"Time\": 4, \"Count\": 36}, {\"Digit\": 7, \"Participant\": \"Part_3\", \"Time\": 4, \"Count\": 33}, {\"Digit\": 8, \"Participant\": \"Part_3\", \"Time\": 4, \"Count\": 62}, {\"Digit\": 6, \"Participant\": \"Part_3\", \"Time\": 4, \"Count\": 47}, {\"Digit\": 4, \"Participant\": \"Part_3\", \"Time\": 4, \"Count\": 33}, {\"Digit\": 5, \"Participant\": \"Part_3\", \"Time\": 4, \"Count\": 33}, {\"Digit\": 5, \"Participant\": \"Part_4\", \"Time\": 4, \"Count\": 48}, {\"Digit\": 0, \"Participant\": \"Part_4\", \"Time\": 4, \"Count\": 49}, {\"Digit\": 9, \"Participant\": \"Part_4\", \"Time\": 4, \"Count\": 50}, {\"Digit\": 4, \"Participant\": \"Part_4\", \"Time\": 4, \"Count\": 50}, {\"Digit\": 6, \"Participant\": \"Part_4\", \"Time\": 4, \"Count\": 49}, {\"Digit\": 1, \"Participant\": \"Part_4\", \"Time\": 4, \"Count\": 49}, {\"Digit\": 3, \"Participant\": \"Part_4\", \"Time\": 4, \"Count\": 49}, {\"Digit\": 8, \"Participant\": \"Part_4\", \"Time\": 4, \"Count\": 50}, {\"Digit\": 9, \"Participant\": \"Part_5\", \"Time\": 4, \"Count\": 49}, {\"Digit\": 3, \"Participant\": \"Part_5\", \"Time\": 4, \"Count\": 49}, {\"Digit\": 2, \"Participant\": \"Part_5\", \"Time\": 4, \"Count\": 50}, {\"Digit\": 4, \"Participant\": \"Part_5\", \"Time\": 4, \"Count\": 49}, {\"Digit\": 5, \"Participant\": \"Part_5\", \"Time\": 4, \"Count\": 49}, {\"Digit\": 0, \"Participant\": \"Part_5\", \"Time\": 4, \"Count\": 48}, {\"Digit\": 6, \"Participant\": \"Part_5\", \"Time\": 4, \"Count\": 48}, {\"Digit\": 8, \"Participant\": \"Part_5\", \"Time\": 4, \"Count\": 49}, {\"Digit\": 6, \"Participant\": \"Part_6\", \"Time\": 4, \"Count\": 48}, {\"Digit\": 0, \"Participant\": \"Part_6\", \"Time\": 4, \"Count\": 49}, {\"Digit\": 9, \"Participant\": \"Part_6\", \"Time\": 4, \"Count\": 49}, {\"Digit\": 2, \"Participant\": \"Part_6\", \"Time\": 4, \"Count\": 49}, {\"Digit\": 5, \"Participant\": \"Part_6\", \"Time\": 4, \"Count\": 49}, {\"Digit\": 7, \"Participant\": \"Part_6\", \"Time\": 4, \"Count\": 49}, {\"Digit\": 8, \"Participant\": \"Part_6\", \"Time\": 4, \"Count\": 48}, {\"Digit\": 1, \"Participant\": \"Part_6\", \"Time\": 4, \"Count\": 48}, {\"Digit\": 5, \"Participant\": \"Part_7\", \"Time\": 4, \"Count\": 599}, {\"Digit\": 2, \"Participant\": \"Part_7\", \"Time\": 4, \"Count\": 599}, {\"Digit\": 9, \"Participant\": \"Part_7\", \"Time\": 4, \"Count\": 599}, {\"Digit\": 6, \"Participant\": \"Part_7\", \"Time\": 4, \"Count\": 599}, {\"Digit\": 4, \"Participant\": \"Part_7\", \"Time\": 4, \"Count\": 598}, {\"Digit\": 0, \"Participant\": \"Part_7\", \"Time\": 4, \"Count\": 599}, {\"Digit\": 3, \"Participant\": \"Part_7\", \"Time\": 4, \"Count\": 599}, {\"Digit\": 8, \"Participant\": \"Part_7\", \"Time\": 4, \"Count\": 599}, {\"Digit\": 1, \"Participant\": \"Part_0\", \"Time\": 5, \"Count\": 51}, {\"Digit\": 9, \"Participant\": \"Part_0\", \"Time\": 5, \"Count\": 53}, {\"Digit\": 5, \"Participant\": \"Part_0\", \"Time\": 5, \"Count\": 53}, {\"Digit\": 0, \"Participant\": \"Part_0\", \"Time\": 5, \"Count\": 79}, {\"Digit\": 7, \"Participant\": \"Part_0\", \"Time\": 5, \"Count\": 87}, {\"Digit\": 2, \"Participant\": \"Part_0\", \"Time\": 5, \"Count\": 32}, {\"Digit\": 4, \"Participant\": \"Part_1\", \"Time\": 5, \"Count\": 45}, {\"Digit\": 5, \"Participant\": \"Part_1\", \"Time\": 5, \"Count\": 54}, {\"Digit\": 2, \"Participant\": \"Part_1\", \"Time\": 5, \"Count\": 71}, {\"Digit\": 7, \"Participant\": \"Part_1\", \"Time\": 5, \"Count\": 38}, {\"Digit\": 6, \"Participant\": \"Part_1\", \"Time\": 5, \"Count\": 56}, {\"Digit\": 2, \"Participant\": \"Part_2\", \"Time\": 5, \"Count\": 28}, {\"Digit\": 3, \"Participant\": \"Part_2\", \"Time\": 5, \"Count\": 63}, {\"Digit\": 9, \"Participant\": \"Part_2\", \"Time\": 5, \"Count\": 24}, {\"Digit\": 0, \"Participant\": \"Part_2\", \"Time\": 5, \"Count\": 56}, {\"Digit\": 7, \"Participant\": \"Part_2\", \"Time\": 5, \"Count\": 66}, {\"Digit\": 5, \"Participant\": \"Part_2\", \"Time\": 5, \"Count\": 29}, {\"Digit\": 6, \"Participant\": \"Part_2\", \"Time\": 5, \"Count\": 40}, {\"Digit\": 8, \"Participant\": \"Part_2\", \"Time\": 5, \"Count\": 41}, {\"Digit\": 0, \"Participant\": \"Part_3\", \"Time\": 5, \"Count\": 22}, {\"Digit\": 1, \"Participant\": \"Part_3\", \"Time\": 5, \"Count\": 59}, {\"Digit\": 2, \"Participant\": \"Part_3\", \"Time\": 5, \"Count\": 33}, {\"Digit\": 7, \"Participant\": \"Part_3\", \"Time\": 5, \"Count\": 29}, {\"Digit\": 8, \"Participant\": \"Part_3\", \"Time\": 5, \"Count\": 64}, {\"Digit\": 6, \"Participant\": \"Part_3\", \"Time\": 5, \"Count\": 46}, {\"Digit\": 4, \"Participant\": \"Part_3\", \"Time\": 5, \"Count\": 29}, {\"Digit\": 5, \"Participant\": \"Part_3\", \"Time\": 5, \"Count\": 29}, {\"Digit\": 5, \"Participant\": \"Part_4\", \"Time\": 5, \"Count\": 48}, {\"Digit\": 0, \"Participant\": \"Part_4\", \"Time\": 5, \"Count\": 49}, {\"Digit\": 9, \"Participant\": \"Part_4\", \"Time\": 5, \"Count\": 50}, {\"Digit\": 4, \"Participant\": \"Part_4\", \"Time\": 5, \"Count\": 50}, {\"Digit\": 6, \"Participant\": \"Part_4\", \"Time\": 5, \"Count\": 49}, {\"Digit\": 1, \"Participant\": \"Part_4\", \"Time\": 5, \"Count\": 49}, {\"Digit\": 3, \"Participant\": \"Part_4\", \"Time\": 5, \"Count\": 49}, {\"Digit\": 8, \"Participant\": \"Part_4\", \"Time\": 5, \"Count\": 50}, {\"Digit\": 9, \"Participant\": \"Part_5\", \"Time\": 5, \"Count\": 49}, {\"Digit\": 3, \"Participant\": \"Part_5\", \"Time\": 5, \"Count\": 49}, {\"Digit\": 2, \"Participant\": \"Part_5\", \"Time\": 5, \"Count\": 50}, {\"Digit\": 4, \"Participant\": \"Part_5\", \"Time\": 5, \"Count\": 49}, {\"Digit\": 5, \"Participant\": \"Part_5\", \"Time\": 5, \"Count\": 49}, {\"Digit\": 0, \"Participant\": \"Part_5\", \"Time\": 5, \"Count\": 48}, {\"Digit\": 6, \"Participant\": \"Part_5\", \"Time\": 5, \"Count\": 48}, {\"Digit\": 8, \"Participant\": \"Part_5\", \"Time\": 5, \"Count\": 49}, {\"Digit\": 6, \"Participant\": \"Part_6\", \"Time\": 5, \"Count\": 48}, {\"Digit\": 0, \"Participant\": \"Part_6\", \"Time\": 5, \"Count\": 49}, {\"Digit\": 9, \"Participant\": \"Part_6\", \"Time\": 5, \"Count\": 49}, {\"Digit\": 2, \"Participant\": \"Part_6\", \"Time\": 5, \"Count\": 49}, {\"Digit\": 5, \"Participant\": \"Part_6\", \"Time\": 5, \"Count\": 49}, {\"Digit\": 7, \"Participant\": \"Part_6\", \"Time\": 5, \"Count\": 49}, {\"Digit\": 8, \"Participant\": \"Part_6\", \"Time\": 5, \"Count\": 48}, {\"Digit\": 1, \"Participant\": \"Part_6\", \"Time\": 5, \"Count\": 48}, {\"Digit\": 5, \"Participant\": \"Part_7\", \"Time\": 5, \"Count\": 599}, {\"Digit\": 2, \"Participant\": \"Part_7\", \"Time\": 5, \"Count\": 599}, {\"Digit\": 9, \"Participant\": \"Part_7\", \"Time\": 5, \"Count\": 599}, {\"Digit\": 6, \"Participant\": \"Part_7\", \"Time\": 5, \"Count\": 599}, {\"Digit\": 4, \"Participant\": \"Part_7\", \"Time\": 5, \"Count\": 598}, {\"Digit\": 0, \"Participant\": \"Part_7\", \"Time\": 5, \"Count\": 599}, {\"Digit\": 3, \"Participant\": \"Part_7\", \"Time\": 5, \"Count\": 599}, {\"Digit\": 8, \"Participant\": \"Part_7\", \"Time\": 5, \"Count\": 599}, {\"Digit\": 1, \"Participant\": \"Part_0\", \"Time\": 6, \"Count\": 54}, {\"Digit\": 9, \"Participant\": \"Part_0\", \"Time\": 6, \"Count\": 56}, {\"Digit\": 5, \"Participant\": \"Part_0\", \"Time\": 6, \"Count\": 55}, {\"Digit\": 0, \"Participant\": \"Part_0\", \"Time\": 6, \"Count\": 85}, {\"Digit\": 7, \"Participant\": \"Part_0\", \"Time\": 6, \"Count\": 96}, {\"Digit\": 2, \"Participant\": \"Part_0\", \"Time\": 6, \"Count\": 31}, {\"Digit\": 4, \"Participant\": \"Part_1\", \"Time\": 6, \"Count\": 44}, {\"Digit\": 5, \"Participant\": \"Part_1\", \"Time\": 6, \"Count\": 62}, {\"Digit\": 2, \"Participant\": \"Part_1\", \"Time\": 6, \"Count\": 81}, {\"Digit\": 7, \"Participant\": \"Part_1\", \"Time\": 6, \"Count\": 46}, {\"Digit\": 6, \"Participant\": \"Part_1\", \"Time\": 6, \"Count\": 58}, {\"Digit\": 2, \"Participant\": \"Part_2\", \"Time\": 6, \"Count\": 25}, {\"Digit\": 3, \"Participant\": \"Part_2\", \"Time\": 6, \"Count\": 67}, {\"Digit\": 9, \"Participant\": \"Part_2\", \"Time\": 6, \"Count\": 20}, {\"Digit\": 0, \"Participant\": \"Part_2\", \"Time\": 6, \"Count\": 58}, {\"Digit\": 7, \"Participant\": \"Part_2\", \"Time\": 6, \"Count\": 70}, {\"Digit\": 5, \"Participant\": \"Part_2\", \"Time\": 6, \"Count\": 25}, {\"Digit\": 6, \"Participant\": \"Part_2\", \"Time\": 6, \"Count\": 38}, {\"Digit\": 8, \"Participant\": \"Part_2\", \"Time\": 6, \"Count\": 40}, {\"Digit\": 0, \"Participant\": \"Part_3\", \"Time\": 6, \"Count\": 19}, {\"Digit\": 1, \"Participant\": \"Part_3\", \"Time\": 6, \"Count\": 61}, {\"Digit\": 2, \"Participant\": \"Part_3\", \"Time\": 6, \"Count\": 31}, {\"Digit\": 7, \"Participant\": \"Part_3\", \"Time\": 6, \"Count\": 25}, {\"Digit\": 8, \"Participant\": \"Part_3\", \"Time\": 6, \"Count\": 68}, {\"Digit\": 6, \"Participant\": \"Part_3\", \"Time\": 6, \"Count\": 47}, {\"Digit\": 4, \"Participant\": \"Part_3\", \"Time\": 6, \"Count\": 25}, {\"Digit\": 5, \"Participant\": \"Part_3\", \"Time\": 6, \"Count\": 25}, {\"Digit\": 5, \"Participant\": \"Part_4\", \"Time\": 6, \"Count\": 48}, {\"Digit\": 0, \"Participant\": \"Part_4\", \"Time\": 6, \"Count\": 49}, {\"Digit\": 9, \"Participant\": \"Part_4\", \"Time\": 6, \"Count\": 50}, {\"Digit\": 4, \"Participant\": \"Part_4\", \"Time\": 6, \"Count\": 50}, {\"Digit\": 6, \"Participant\": \"Part_4\", \"Time\": 6, \"Count\": 49}, {\"Digit\": 1, \"Participant\": \"Part_4\", \"Time\": 6, \"Count\": 49}, {\"Digit\": 3, \"Participant\": \"Part_4\", \"Time\": 6, \"Count\": 49}, {\"Digit\": 8, \"Participant\": \"Part_4\", \"Time\": 6, \"Count\": 50}, {\"Digit\": 9, \"Participant\": \"Part_5\", \"Time\": 6, \"Count\": 49}, {\"Digit\": 3, \"Participant\": \"Part_5\", \"Time\": 6, \"Count\": 49}, {\"Digit\": 2, \"Participant\": \"Part_5\", \"Time\": 6, \"Count\": 50}, {\"Digit\": 4, \"Participant\": \"Part_5\", \"Time\": 6, \"Count\": 49}, {\"Digit\": 5, \"Participant\": \"Part_5\", \"Time\": 6, \"Count\": 49}, {\"Digit\": 0, \"Participant\": \"Part_5\", \"Time\": 6, \"Count\": 48}, {\"Digit\": 6, \"Participant\": \"Part_5\", \"Time\": 6, \"Count\": 48}, {\"Digit\": 8, \"Participant\": \"Part_5\", \"Time\": 6, \"Count\": 49}, {\"Digit\": 6, \"Participant\": \"Part_6\", \"Time\": 6, \"Count\": 48}, {\"Digit\": 0, \"Participant\": \"Part_6\", \"Time\": 6, \"Count\": 49}, {\"Digit\": 9, \"Participant\": \"Part_6\", \"Time\": 6, \"Count\": 49}, {\"Digit\": 2, \"Participant\": \"Part_6\", \"Time\": 6, \"Count\": 49}, {\"Digit\": 5, \"Participant\": \"Part_6\", \"Time\": 6, \"Count\": 49}, {\"Digit\": 7, \"Participant\": \"Part_6\", \"Time\": 6, \"Count\": 49}, {\"Digit\": 8, \"Participant\": \"Part_6\", \"Time\": 6, \"Count\": 48}, {\"Digit\": 1, \"Participant\": \"Part_6\", \"Time\": 6, \"Count\": 48}, {\"Digit\": 5, \"Participant\": \"Part_7\", \"Time\": 6, \"Count\": 599}, {\"Digit\": 2, \"Participant\": \"Part_7\", \"Time\": 6, \"Count\": 599}, {\"Digit\": 9, \"Participant\": \"Part_7\", \"Time\": 6, \"Count\": 599}, {\"Digit\": 6, \"Participant\": \"Part_7\", \"Time\": 6, \"Count\": 599}, {\"Digit\": 4, \"Participant\": \"Part_7\", \"Time\": 6, \"Count\": 598}, {\"Digit\": 0, \"Participant\": \"Part_7\", \"Time\": 6, \"Count\": 599}, {\"Digit\": 3, \"Participant\": \"Part_7\", \"Time\": 6, \"Count\": 599}, {\"Digit\": 8, \"Participant\": \"Part_7\", \"Time\": 6, \"Count\": 599}, {\"Digit\": 1, \"Participant\": \"Part_0\", \"Time\": 7, \"Count\": 63}, {\"Digit\": 9, \"Participant\": \"Part_0\", \"Time\": 7, \"Count\": 54}, {\"Digit\": 5, \"Participant\": \"Part_0\", \"Time\": 7, \"Count\": 56}, {\"Digit\": 0, \"Participant\": \"Part_0\", \"Time\": 7, \"Count\": 91}, {\"Digit\": 7, \"Participant\": \"Part_0\", \"Time\": 7, \"Count\": 103}, {\"Digit\": 2, \"Participant\": \"Part_0\", \"Time\": 7, \"Count\": 28}, {\"Digit\": 4, \"Participant\": \"Part_1\", \"Time\": 7, \"Count\": 43}, {\"Digit\": 5, \"Participant\": \"Part_1\", \"Time\": 7, \"Count\": 67}, {\"Digit\": 2, \"Participant\": \"Part_1\", \"Time\": 7, \"Count\": 88}, {\"Digit\": 7, \"Participant\": \"Part_1\", \"Time\": 7, \"Count\": 43}, {\"Digit\": 6, \"Participant\": \"Part_1\", \"Time\": 7, \"Count\": 62}, {\"Digit\": 2, \"Participant\": \"Part_2\", \"Time\": 7, \"Count\": 21}, {\"Digit\": 3, \"Participant\": \"Part_2\", \"Time\": 7, \"Count\": 69}, {\"Digit\": 9, \"Participant\": \"Part_2\", \"Time\": 7, \"Count\": 17}, {\"Digit\": 0, \"Participant\": \"Part_2\", \"Time\": 7, \"Count\": 60}, {\"Digit\": 7, \"Participant\": \"Part_2\", \"Time\": 7, \"Count\": 73}, {\"Digit\": 5, \"Participant\": \"Part_2\", \"Time\": 7, \"Count\": 22}, {\"Digit\": 6, \"Participant\": \"Part_2\", \"Time\": 7, \"Count\": 36}, {\"Digit\": 8, \"Participant\": \"Part_2\", \"Time\": 7, \"Count\": 39}, {\"Digit\": 0, \"Participant\": \"Part_3\", \"Time\": 7, \"Count\": 14}, {\"Digit\": 1, \"Participant\": \"Part_3\", \"Time\": 7, \"Count\": 64}, {\"Digit\": 2, \"Participant\": \"Part_3\", \"Time\": 7, \"Count\": 27}, {\"Digit\": 7, \"Participant\": \"Part_3\", \"Time\": 7, \"Count\": 20}, {\"Digit\": 8, \"Participant\": \"Part_3\", \"Time\": 7, \"Count\": 71}, {\"Digit\": 6, \"Participant\": \"Part_3\", \"Time\": 7, \"Count\": 45}, {\"Digit\": 4, \"Participant\": \"Part_3\", \"Time\": 7, \"Count\": 21}, {\"Digit\": 5, \"Participant\": \"Part_3\", \"Time\": 7, \"Count\": 21}, {\"Digit\": 5, \"Participant\": \"Part_4\", \"Time\": 7, \"Count\": 48}, {\"Digit\": 0, \"Participant\": \"Part_4\", \"Time\": 7, \"Count\": 49}, {\"Digit\": 9, \"Participant\": \"Part_4\", \"Time\": 7, \"Count\": 50}, {\"Digit\": 4, \"Participant\": \"Part_4\", \"Time\": 7, \"Count\": 50}, {\"Digit\": 6, \"Participant\": \"Part_4\", \"Time\": 7, \"Count\": 49}, {\"Digit\": 1, \"Participant\": \"Part_4\", \"Time\": 7, \"Count\": 49}, {\"Digit\": 3, \"Participant\": \"Part_4\", \"Time\": 7, \"Count\": 49}, {\"Digit\": 8, \"Participant\": \"Part_4\", \"Time\": 7, \"Count\": 50}, {\"Digit\": 9, \"Participant\": \"Part_5\", \"Time\": 7, \"Count\": 49}, {\"Digit\": 3, \"Participant\": \"Part_5\", \"Time\": 7, \"Count\": 49}, {\"Digit\": 2, \"Participant\": \"Part_5\", \"Time\": 7, \"Count\": 50}, {\"Digit\": 4, \"Participant\": \"Part_5\", \"Time\": 7, \"Count\": 49}, {\"Digit\": 5, \"Participant\": \"Part_5\", \"Time\": 7, \"Count\": 49}, {\"Digit\": 0, \"Participant\": \"Part_5\", \"Time\": 7, \"Count\": 48}, {\"Digit\": 6, \"Participant\": \"Part_5\", \"Time\": 7, \"Count\": 48}, {\"Digit\": 8, \"Participant\": \"Part_5\", \"Time\": 7, \"Count\": 49}, {\"Digit\": 6, \"Participant\": \"Part_6\", \"Time\": 7, \"Count\": 48}, {\"Digit\": 0, \"Participant\": \"Part_6\", \"Time\": 7, \"Count\": 49}, {\"Digit\": 9, \"Participant\": \"Part_6\", \"Time\": 7, \"Count\": 49}, {\"Digit\": 2, \"Participant\": \"Part_6\", \"Time\": 7, \"Count\": 49}, {\"Digit\": 5, \"Participant\": \"Part_6\", \"Time\": 7, \"Count\": 49}, {\"Digit\": 7, \"Participant\": \"Part_6\", \"Time\": 7, \"Count\": 49}, {\"Digit\": 8, \"Participant\": \"Part_6\", \"Time\": 7, \"Count\": 48}, {\"Digit\": 1, \"Participant\": \"Part_6\", \"Time\": 7, \"Count\": 48}, {\"Digit\": 5, \"Participant\": \"Part_7\", \"Time\": 7, \"Count\": 599}, {\"Digit\": 2, \"Participant\": \"Part_7\", \"Time\": 7, \"Count\": 599}, {\"Digit\": 9, \"Participant\": \"Part_7\", \"Time\": 7, \"Count\": 599}, {\"Digit\": 6, \"Participant\": \"Part_7\", \"Time\": 7, \"Count\": 599}, {\"Digit\": 4, \"Participant\": \"Part_7\", \"Time\": 7, \"Count\": 598}, {\"Digit\": 0, \"Participant\": \"Part_7\", \"Time\": 7, \"Count\": 599}, {\"Digit\": 3, \"Participant\": \"Part_7\", \"Time\": 7, \"Count\": 599}, {\"Digit\": 8, \"Participant\": \"Part_7\", \"Time\": 7, \"Count\": 599}, {\"Digit\": 1, \"Participant\": \"Part_0\", \"Time\": 8, \"Count\": 72}, {\"Digit\": 9, \"Participant\": \"Part_0\", \"Time\": 8, \"Count\": 56}, {\"Digit\": 5, \"Participant\": \"Part_0\", \"Time\": 8, \"Count\": 57}, {\"Digit\": 0, \"Participant\": \"Part_0\", \"Time\": 8, \"Count\": 98}, {\"Digit\": 7, \"Participant\": \"Part_0\", \"Time\": 8, \"Count\": 116}, {\"Digit\": 2, \"Participant\": \"Part_0\", \"Time\": 8, \"Count\": 26}, {\"Digit\": 4, \"Participant\": \"Part_1\", \"Time\": 8, \"Count\": 42}, {\"Digit\": 5, \"Participant\": \"Part_1\", \"Time\": 8, \"Count\": 58}, {\"Digit\": 2, \"Participant\": \"Part_1\", \"Time\": 8, \"Count\": 91}, {\"Digit\": 7, \"Participant\": \"Part_1\", \"Time\": 8, \"Count\": 31}, {\"Digit\": 6, \"Participant\": \"Part_1\", \"Time\": 8, \"Count\": 59}, {\"Digit\": 2, \"Participant\": \"Part_2\", \"Time\": 8, \"Count\": 17}, {\"Digit\": 3, \"Participant\": \"Part_2\", \"Time\": 8, \"Count\": 73}, {\"Digit\": 9, \"Participant\": \"Part_2\", \"Time\": 8, \"Count\": 13}, {\"Digit\": 0, \"Participant\": \"Part_2\", \"Time\": 8, \"Count\": 62}, {\"Digit\": 7, \"Participant\": \"Part_2\", \"Time\": 8, \"Count\": 78}, {\"Digit\": 5, \"Participant\": \"Part_2\", \"Time\": 8, \"Count\": 19}, {\"Digit\": 6, \"Participant\": \"Part_2\", \"Time\": 8, \"Count\": 34}, {\"Digit\": 8, \"Participant\": \"Part_2\", \"Time\": 8, \"Count\": 37}, {\"Digit\": 0, \"Participant\": \"Part_3\", \"Time\": 8, \"Count\": 8}, {\"Digit\": 1, \"Participant\": \"Part_3\", \"Time\": 8, \"Count\": 65}, {\"Digit\": 2, \"Participant\": \"Part_3\", \"Time\": 8, \"Count\": 24}, {\"Digit\": 7, \"Participant\": \"Part_3\", \"Time\": 8, \"Count\": 16}, {\"Digit\": 8, \"Participant\": \"Part_3\", \"Time\": 8, \"Count\": 73}, {\"Digit\": 6, \"Participant\": \"Part_3\", \"Time\": 8, \"Count\": 46}, {\"Digit\": 4, \"Participant\": \"Part_3\", \"Time\": 8, \"Count\": 17}, {\"Digit\": 5, \"Participant\": \"Part_3\", \"Time\": 8, \"Count\": 17}, {\"Digit\": 5, \"Participant\": \"Part_4\", \"Time\": 8, \"Count\": 48}, {\"Digit\": 0, \"Participant\": \"Part_4\", \"Time\": 8, \"Count\": 49}, {\"Digit\": 9, \"Participant\": \"Part_4\", \"Time\": 8, \"Count\": 50}, {\"Digit\": 4, \"Participant\": \"Part_4\", \"Time\": 8, \"Count\": 50}, {\"Digit\": 6, \"Participant\": \"Part_4\", \"Time\": 8, \"Count\": 49}, {\"Digit\": 1, \"Participant\": \"Part_4\", \"Time\": 8, \"Count\": 49}, {\"Digit\": 3, \"Participant\": \"Part_4\", \"Time\": 8, \"Count\": 49}, {\"Digit\": 8, \"Participant\": \"Part_4\", \"Time\": 8, \"Count\": 50}, {\"Digit\": 9, \"Participant\": \"Part_5\", \"Time\": 8, \"Count\": 49}, {\"Digit\": 3, \"Participant\": \"Part_5\", \"Time\": 8, \"Count\": 49}, {\"Digit\": 2, \"Participant\": \"Part_5\", \"Time\": 8, \"Count\": 50}, {\"Digit\": 4, \"Participant\": \"Part_5\", \"Time\": 8, \"Count\": 49}, {\"Digit\": 5, \"Participant\": \"Part_5\", \"Time\": 8, \"Count\": 49}, {\"Digit\": 0, \"Participant\": \"Part_5\", \"Time\": 8, \"Count\": 48}, {\"Digit\": 6, \"Participant\": \"Part_5\", \"Time\": 8, \"Count\": 48}, {\"Digit\": 8, \"Participant\": \"Part_5\", \"Time\": 8, \"Count\": 49}, {\"Digit\": 6, \"Participant\": \"Part_6\", \"Time\": 8, \"Count\": 48}, {\"Digit\": 0, \"Participant\": \"Part_6\", \"Time\": 8, \"Count\": 49}, {\"Digit\": 9, \"Participant\": \"Part_6\", \"Time\": 8, \"Count\": 49}, {\"Digit\": 2, \"Participant\": \"Part_6\", \"Time\": 8, \"Count\": 49}, {\"Digit\": 5, \"Participant\": \"Part_6\", \"Time\": 8, \"Count\": 49}, {\"Digit\": 7, \"Participant\": \"Part_6\", \"Time\": 8, \"Count\": 49}, {\"Digit\": 8, \"Participant\": \"Part_6\", \"Time\": 8, \"Count\": 48}, {\"Digit\": 1, \"Participant\": \"Part_6\", \"Time\": 8, \"Count\": 48}, {\"Digit\": 5, \"Participant\": \"Part_7\", \"Time\": 8, \"Count\": 599}, {\"Digit\": 2, \"Participant\": \"Part_7\", \"Time\": 8, \"Count\": 599}, {\"Digit\": 9, \"Participant\": \"Part_7\", \"Time\": 8, \"Count\": 599}, {\"Digit\": 6, \"Participant\": \"Part_7\", \"Time\": 8, \"Count\": 599}, {\"Digit\": 4, \"Participant\": \"Part_7\", \"Time\": 8, \"Count\": 598}, {\"Digit\": 0, \"Participant\": \"Part_7\", \"Time\": 8, \"Count\": 599}, {\"Digit\": 3, \"Participant\": \"Part_7\", \"Time\": 8, \"Count\": 599}, {\"Digit\": 8, \"Participant\": \"Part_7\", \"Time\": 8, \"Count\": 599}, {\"Digit\": 1, \"Participant\": \"Part_0\", \"Time\": 9, \"Count\": 77}, {\"Digit\": 9, \"Participant\": \"Part_0\", \"Time\": 9, \"Count\": 59}, {\"Digit\": 5, \"Participant\": \"Part_0\", \"Time\": 9, \"Count\": 58}, {\"Digit\": 0, \"Participant\": \"Part_0\", \"Time\": 9, \"Count\": 105}, {\"Digit\": 7, \"Participant\": \"Part_0\", \"Time\": 9, \"Count\": 124}, {\"Digit\": 2, \"Participant\": \"Part_0\", \"Time\": 9, \"Count\": 23}, {\"Digit\": 4, \"Participant\": \"Part_1\", \"Time\": 9, \"Count\": 41}, {\"Digit\": 5, \"Participant\": \"Part_1\", \"Time\": 9, \"Count\": 77}, {\"Digit\": 2, \"Participant\": \"Part_1\", \"Time\": 9, \"Count\": 106}, {\"Digit\": 7, \"Participant\": \"Part_1\", \"Time\": 9, \"Count\": 22}, {\"Digit\": 6, \"Participant\": \"Part_1\", \"Time\": 9, \"Count\": 65}, {\"Digit\": 2, \"Participant\": \"Part_2\", \"Time\": 9, \"Count\": 13}, {\"Digit\": 3, \"Participant\": \"Part_2\", \"Time\": 9, \"Count\": 75}, {\"Digit\": 9, \"Participant\": \"Part_2\", \"Time\": 9, \"Count\": 10}, {\"Digit\": 0, \"Participant\": \"Part_2\", \"Time\": 9, \"Count\": 62}, {\"Digit\": 7, \"Participant\": \"Part_2\", \"Time\": 9, \"Count\": 82}, {\"Digit\": 5, \"Participant\": \"Part_2\", \"Time\": 9, \"Count\": 16}, {\"Digit\": 6, \"Participant\": \"Part_2\", \"Time\": 9, \"Count\": 32}, {\"Digit\": 8, \"Participant\": \"Part_2\", \"Time\": 9, \"Count\": 35}, {\"Digit\": 0, \"Participant\": \"Part_3\", \"Time\": 9, \"Count\": 4}, {\"Digit\": 1, \"Participant\": \"Part_3\", \"Time\": 9, \"Count\": 68}, {\"Digit\": 2, \"Participant\": \"Part_3\", \"Time\": 9, \"Count\": 20}, {\"Digit\": 7, \"Participant\": \"Part_3\", \"Time\": 9, \"Count\": 12}, {\"Digit\": 8, \"Participant\": \"Part_3\", \"Time\": 9, \"Count\": 77}, {\"Digit\": 6, \"Participant\": \"Part_3\", \"Time\": 9, \"Count\": 45}, {\"Digit\": 4, \"Participant\": \"Part_3\", \"Time\": 9, \"Count\": 13}, {\"Digit\": 5, \"Participant\": \"Part_3\", \"Time\": 9, \"Count\": 13}, {\"Digit\": 5, \"Participant\": \"Part_4\", \"Time\": 9, \"Count\": 48}, {\"Digit\": 0, \"Participant\": \"Part_4\", \"Time\": 9, \"Count\": 49}, {\"Digit\": 9, \"Participant\": \"Part_4\", \"Time\": 9, \"Count\": 50}, {\"Digit\": 4, \"Participant\": \"Part_4\", \"Time\": 9, \"Count\": 50}, {\"Digit\": 6, \"Participant\": \"Part_4\", \"Time\": 9, \"Count\": 49}, {\"Digit\": 1, \"Participant\": \"Part_4\", \"Time\": 9, \"Count\": 49}, {\"Digit\": 3, \"Participant\": \"Part_4\", \"Time\": 9, \"Count\": 49}, {\"Digit\": 8, \"Participant\": \"Part_4\", \"Time\": 9, \"Count\": 50}, {\"Digit\": 9, \"Participant\": \"Part_5\", \"Time\": 9, \"Count\": 49}, {\"Digit\": 3, \"Participant\": \"Part_5\", \"Time\": 9, \"Count\": 49}, {\"Digit\": 2, \"Participant\": \"Part_5\", \"Time\": 9, \"Count\": 50}, {\"Digit\": 4, \"Participant\": \"Part_5\", \"Time\": 9, \"Count\": 49}, {\"Digit\": 5, \"Participant\": \"Part_5\", \"Time\": 9, \"Count\": 49}, {\"Digit\": 0, \"Participant\": \"Part_5\", \"Time\": 9, \"Count\": 48}, {\"Digit\": 6, \"Participant\": \"Part_5\", \"Time\": 9, \"Count\": 48}, {\"Digit\": 8, \"Participant\": \"Part_5\", \"Time\": 9, \"Count\": 49}, {\"Digit\": 6, \"Participant\": \"Part_6\", \"Time\": 9, \"Count\": 48}, {\"Digit\": 0, \"Participant\": \"Part_6\", \"Time\": 9, \"Count\": 49}, {\"Digit\": 9, \"Participant\": \"Part_6\", \"Time\": 9, \"Count\": 49}, {\"Digit\": 2, \"Participant\": \"Part_6\", \"Time\": 9, \"Count\": 49}, {\"Digit\": 5, \"Participant\": \"Part_6\", \"Time\": 9, \"Count\": 49}, {\"Digit\": 7, \"Participant\": \"Part_6\", \"Time\": 9, \"Count\": 49}, {\"Digit\": 8, \"Participant\": \"Part_6\", \"Time\": 9, \"Count\": 48}, {\"Digit\": 1, \"Participant\": \"Part_6\", \"Time\": 9, \"Count\": 48}, {\"Digit\": 5, \"Participant\": \"Part_7\", \"Time\": 9, \"Count\": 599}, {\"Digit\": 2, \"Participant\": \"Part_7\", \"Time\": 9, \"Count\": 599}, {\"Digit\": 9, \"Participant\": \"Part_7\", \"Time\": 9, \"Count\": 599}, {\"Digit\": 6, \"Participant\": \"Part_7\", \"Time\": 9, \"Count\": 599}, {\"Digit\": 4, \"Participant\": \"Part_7\", \"Time\": 9, \"Count\": 598}, {\"Digit\": 0, \"Participant\": \"Part_7\", \"Time\": 9, \"Count\": 599}, {\"Digit\": 3, \"Participant\": \"Part_7\", \"Time\": 9, \"Count\": 599}, {\"Digit\": 8, \"Participant\": \"Part_7\", \"Time\": 9, \"Count\": 599}, {\"Digit\": 1, \"Participant\": \"Part_0\", \"Time\": 10, \"Count\": 74}, {\"Digit\": 9, \"Participant\": \"Part_0\", \"Time\": 10, \"Count\": 59}, {\"Digit\": 5, \"Participant\": \"Part_0\", \"Time\": 10, \"Count\": 60}, {\"Digit\": 0, \"Participant\": \"Part_0\", \"Time\": 10, \"Count\": 112}, {\"Digit\": 7, \"Participant\": \"Part_0\", \"Time\": 10, \"Count\": 135}, {\"Digit\": 2, \"Participant\": \"Part_0\", \"Time\": 10, \"Count\": 21}, {\"Digit\": 4, \"Participant\": \"Part_1\", \"Time\": 10, \"Count\": 40}, {\"Digit\": 5, \"Participant\": \"Part_1\", \"Time\": 10, \"Count\": 60}, {\"Digit\": 2, \"Participant\": \"Part_1\", \"Time\": 10, \"Count\": 105}, {\"Digit\": 7, \"Participant\": \"Part_1\", \"Time\": 10, \"Count\": 26}, {\"Digit\": 6, \"Participant\": \"Part_1\", \"Time\": 10, \"Count\": 63}, {\"Digit\": 2, \"Participant\": \"Part_2\", \"Time\": 10, \"Count\": 10}, {\"Digit\": 3, \"Participant\": \"Part_2\", \"Time\": 10, \"Count\": 79}, {\"Digit\": 9, \"Participant\": \"Part_2\", \"Time\": 10, \"Count\": 8}, {\"Digit\": 0, \"Participant\": \"Part_2\", \"Time\": 10, \"Count\": 64}, {\"Digit\": 7, \"Participant\": \"Part_2\", \"Time\": 10, \"Count\": 87}, {\"Digit\": 5, \"Participant\": \"Part_2\", \"Time\": 10, \"Count\": 13}, {\"Digit\": 6, \"Participant\": \"Part_2\", \"Time\": 10, \"Count\": 30}, {\"Digit\": 8, \"Participant\": \"Part_2\", \"Time\": 10, \"Count\": 35}, {\"Digit\": 0, \"Participant\": \"Part_3\", \"Time\": 10, \"Count\": 0}, {\"Digit\": 1, \"Participant\": \"Part_3\", \"Time\": 10, \"Count\": 69}, {\"Digit\": 2, \"Participant\": \"Part_3\", \"Time\": 10, \"Count\": 17}, {\"Digit\": 7, \"Participant\": \"Part_3\", \"Time\": 10, \"Count\": 8}, {\"Digit\": 8, \"Participant\": \"Part_3\", \"Time\": 10, \"Count\": 79}, {\"Digit\": 6, \"Participant\": \"Part_3\", \"Time\": 10, \"Count\": 44}, {\"Digit\": 4, \"Participant\": \"Part_3\", \"Time\": 10, \"Count\": 9}, {\"Digit\": 5, \"Participant\": \"Part_3\", \"Time\": 10, \"Count\": 9}, {\"Digit\": 5, \"Participant\": \"Part_4\", \"Time\": 10, \"Count\": 48}, {\"Digit\": 0, \"Participant\": \"Part_4\", \"Time\": 10, \"Count\": 49}, {\"Digit\": 9, \"Participant\": \"Part_4\", \"Time\": 10, \"Count\": 50}, {\"Digit\": 4, \"Participant\": \"Part_4\", \"Time\": 10, \"Count\": 50}, {\"Digit\": 6, \"Participant\": \"Part_4\", \"Time\": 10, \"Count\": 49}, {\"Digit\": 1, \"Participant\": \"Part_4\", \"Time\": 10, \"Count\": 49}, {\"Digit\": 3, \"Participant\": \"Part_4\", \"Time\": 10, \"Count\": 49}, {\"Digit\": 8, \"Participant\": \"Part_4\", \"Time\": 10, \"Count\": 50}, {\"Digit\": 9, \"Participant\": \"Part_5\", \"Time\": 10, \"Count\": 49}, {\"Digit\": 3, \"Participant\": \"Part_5\", \"Time\": 10, \"Count\": 49}, {\"Digit\": 2, \"Participant\": \"Part_5\", \"Time\": 10, \"Count\": 50}, {\"Digit\": 4, \"Participant\": \"Part_5\", \"Time\": 10, \"Count\": 49}, {\"Digit\": 5, \"Participant\": \"Part_5\", \"Time\": 10, \"Count\": 49}, {\"Digit\": 0, \"Participant\": \"Part_5\", \"Time\": 10, \"Count\": 48}, {\"Digit\": 6, \"Participant\": \"Part_5\", \"Time\": 10, \"Count\": 48}, {\"Digit\": 8, \"Participant\": \"Part_5\", \"Time\": 10, \"Count\": 49}, {\"Digit\": 6, \"Participant\": \"Part_6\", \"Time\": 10, \"Count\": 48}, {\"Digit\": 0, \"Participant\": \"Part_6\", \"Time\": 10, \"Count\": 49}, {\"Digit\": 9, \"Participant\": \"Part_6\", \"Time\": 10, \"Count\": 49}, {\"Digit\": 2, \"Participant\": \"Part_6\", \"Time\": 10, \"Count\": 49}, {\"Digit\": 5, \"Participant\": \"Part_6\", \"Time\": 10, \"Count\": 49}, {\"Digit\": 7, \"Participant\": \"Part_6\", \"Time\": 10, \"Count\": 49}, {\"Digit\": 8, \"Participant\": \"Part_6\", \"Time\": 10, \"Count\": 48}, {\"Digit\": 1, \"Participant\": \"Part_6\", \"Time\": 10, \"Count\": 48}, {\"Digit\": 5, \"Participant\": \"Part_7\", \"Time\": 10, \"Count\": 599}, {\"Digit\": 2, \"Participant\": \"Part_7\", \"Time\": 10, \"Count\": 599}, {\"Digit\": 9, \"Participant\": \"Part_7\", \"Time\": 10, \"Count\": 599}, {\"Digit\": 6, \"Participant\": \"Part_7\", \"Time\": 10, \"Count\": 599}, {\"Digit\": 4, \"Participant\": \"Part_7\", \"Time\": 10, \"Count\": 598}, {\"Digit\": 0, \"Participant\": \"Part_7\", \"Time\": 10, \"Count\": 599}, {\"Digit\": 3, \"Participant\": \"Part_7\", \"Time\": 10, \"Count\": 599}, {\"Digit\": 8, \"Participant\": \"Part_7\", \"Time\": 10, \"Count\": 599}, {\"Digit\": 1, \"Participant\": \"Part_0\", \"Time\": 11, \"Count\": 69}, {\"Digit\": 9, \"Participant\": \"Part_0\", \"Time\": 11, \"Count\": 60}, {\"Digit\": 5, \"Participant\": \"Part_0\", \"Time\": 11, \"Count\": 61}, {\"Digit\": 0, \"Participant\": \"Part_0\", \"Time\": 11, \"Count\": 119}, {\"Digit\": 7, \"Participant\": \"Part_0\", \"Time\": 11, \"Count\": 147}, {\"Digit\": 2, \"Participant\": \"Part_0\", \"Time\": 11, \"Count\": 17}, {\"Digit\": 4, \"Participant\": \"Part_1\", \"Time\": 11, \"Count\": 39}, {\"Digit\": 5, \"Participant\": \"Part_1\", \"Time\": 11, \"Count\": 78}, {\"Digit\": 2, \"Participant\": \"Part_1\", \"Time\": 11, \"Count\": 122}, {\"Digit\": 7, \"Participant\": \"Part_1\", \"Time\": 11, \"Count\": 35}, {\"Digit\": 6, \"Participant\": \"Part_1\", \"Time\": 11, \"Count\": 65}, {\"Digit\": 2, \"Participant\": \"Part_2\", \"Time\": 11, \"Count\": 6}, {\"Digit\": 3, \"Participant\": \"Part_2\", \"Time\": 11, \"Count\": 81}, {\"Digit\": 9, \"Participant\": \"Part_2\", \"Time\": 11, \"Count\": 4}, {\"Digit\": 0, \"Participant\": \"Part_2\", \"Time\": 11, \"Count\": 66}, {\"Digit\": 7, \"Participant\": \"Part_2\", \"Time\": 11, \"Count\": 91}, {\"Digit\": 5, \"Participant\": \"Part_2\", \"Time\": 11, \"Count\": 10}, {\"Digit\": 6, \"Participant\": \"Part_2\", \"Time\": 11, \"Count\": 28}, {\"Digit\": 8, \"Participant\": \"Part_2\", \"Time\": 11, \"Count\": 32}, {\"Digit\": 0, \"Participant\": \"Part_3\", \"Time\": 11, \"Count\": 0}, {\"Digit\": 1, \"Participant\": \"Part_3\", \"Time\": 11, \"Count\": 71}, {\"Digit\": 2, \"Participant\": \"Part_3\", \"Time\": 11, \"Count\": 15}, {\"Digit\": 7, \"Participant\": \"Part_3\", \"Time\": 11, \"Count\": 4}, {\"Digit\": 8, \"Participant\": \"Part_3\", \"Time\": 11, \"Count\": 83}, {\"Digit\": 6, \"Participant\": \"Part_3\", \"Time\": 11, \"Count\": 44}, {\"Digit\": 4, \"Participant\": \"Part_3\", \"Time\": 11, \"Count\": 5}, {\"Digit\": 5, \"Participant\": \"Part_3\", \"Time\": 11, \"Count\": 5}, {\"Digit\": 5, \"Participant\": \"Part_4\", \"Time\": 11, \"Count\": 48}, {\"Digit\": 0, \"Participant\": \"Part_4\", \"Time\": 11, \"Count\": 49}, {\"Digit\": 9, \"Participant\": \"Part_4\", \"Time\": 11, \"Count\": 50}, {\"Digit\": 4, \"Participant\": \"Part_4\", \"Time\": 11, \"Count\": 50}, {\"Digit\": 6, \"Participant\": \"Part_4\", \"Time\": 11, \"Count\": 49}, {\"Digit\": 1, \"Participant\": \"Part_4\", \"Time\": 11, \"Count\": 49}, {\"Digit\": 3, \"Participant\": \"Part_4\", \"Time\": 11, \"Count\": 49}, {\"Digit\": 8, \"Participant\": \"Part_4\", \"Time\": 11, \"Count\": 50}, {\"Digit\": 9, \"Participant\": \"Part_5\", \"Time\": 11, \"Count\": 49}, {\"Digit\": 3, \"Participant\": \"Part_5\", \"Time\": 11, \"Count\": 49}, {\"Digit\": 2, \"Participant\": \"Part_5\", \"Time\": 11, \"Count\": 50}, {\"Digit\": 4, \"Participant\": \"Part_5\", \"Time\": 11, \"Count\": 49}, {\"Digit\": 5, \"Participant\": \"Part_5\", \"Time\": 11, \"Count\": 49}, {\"Digit\": 0, \"Participant\": \"Part_5\", \"Time\": 11, \"Count\": 48}, {\"Digit\": 6, \"Participant\": \"Part_5\", \"Time\": 11, \"Count\": 48}, {\"Digit\": 8, \"Participant\": \"Part_5\", \"Time\": 11, \"Count\": 49}, {\"Digit\": 6, \"Participant\": \"Part_6\", \"Time\": 11, \"Count\": 48}, {\"Digit\": 0, \"Participant\": \"Part_6\", \"Time\": 11, \"Count\": 49}, {\"Digit\": 9, \"Participant\": \"Part_6\", \"Time\": 11, \"Count\": 49}, {\"Digit\": 2, \"Participant\": \"Part_6\", \"Time\": 11, \"Count\": 49}, {\"Digit\": 5, \"Participant\": \"Part_6\", \"Time\": 11, \"Count\": 49}, {\"Digit\": 7, \"Participant\": \"Part_6\", \"Time\": 11, \"Count\": 49}, {\"Digit\": 8, \"Participant\": \"Part_6\", \"Time\": 11, \"Count\": 48}, {\"Digit\": 1, \"Participant\": \"Part_6\", \"Time\": 11, \"Count\": 48}, {\"Digit\": 5, \"Participant\": \"Part_7\", \"Time\": 11, \"Count\": 599}, {\"Digit\": 2, \"Participant\": \"Part_7\", \"Time\": 11, \"Count\": 599}, {\"Digit\": 9, \"Participant\": \"Part_7\", \"Time\": 11, \"Count\": 599}, {\"Digit\": 6, \"Participant\": \"Part_7\", \"Time\": 11, \"Count\": 599}, {\"Digit\": 4, \"Participant\": \"Part_7\", \"Time\": 11, \"Count\": 598}, {\"Digit\": 0, \"Participant\": \"Part_7\", \"Time\": 11, \"Count\": 599}, {\"Digit\": 3, \"Participant\": \"Part_7\", \"Time\": 11, \"Count\": 599}, {\"Digit\": 8, \"Participant\": \"Part_7\", \"Time\": 11, \"Count\": 599}, {\"Digit\": 1, \"Participant\": \"Part_0\", \"Time\": 12, \"Count\": 65}, {\"Digit\": 9, \"Participant\": \"Part_0\", \"Time\": 12, \"Count\": 64}, {\"Digit\": 5, \"Participant\": \"Part_0\", \"Time\": 12, \"Count\": 63}, {\"Digit\": 0, \"Participant\": \"Part_0\", \"Time\": 12, \"Count\": 127}, {\"Digit\": 7, \"Participant\": \"Part_0\", \"Time\": 12, \"Count\": 156}, {\"Digit\": 2, \"Participant\": \"Part_0\", \"Time\": 12, \"Count\": 14}, {\"Digit\": 4, \"Participant\": \"Part_1\", \"Time\": 12, \"Count\": 38}, {\"Digit\": 5, \"Participant\": \"Part_1\", \"Time\": 12, \"Count\": 72}, {\"Digit\": 2, \"Participant\": \"Part_1\", \"Time\": 12, \"Count\": 127}, {\"Digit\": 7, \"Participant\": \"Part_1\", \"Time\": 12, \"Count\": 34}, {\"Digit\": 6, \"Participant\": \"Part_1\", \"Time\": 12, \"Count\": 69}, {\"Digit\": 2, \"Participant\": \"Part_2\", \"Time\": 12, \"Count\": 3}, {\"Digit\": 3, \"Participant\": \"Part_2\", \"Time\": 12, \"Count\": 85}, {\"Digit\": 9, \"Participant\": \"Part_2\", \"Time\": 12, \"Count\": 2}, {\"Digit\": 0, \"Participant\": \"Part_2\", \"Time\": 12, \"Count\": 68}, {\"Digit\": 7, \"Participant\": \"Part_2\", \"Time\": 12, \"Count\": 97}, {\"Digit\": 5, \"Participant\": \"Part_2\", \"Time\": 12, \"Count\": 8}, {\"Digit\": 6, \"Participant\": \"Part_2\", \"Time\": 12, \"Count\": 26}, {\"Digit\": 8, \"Participant\": \"Part_2\", \"Time\": 12, \"Count\": 31}, {\"Digit\": 0, \"Participant\": \"Part_3\", \"Time\": 12, \"Count\": 0}, {\"Digit\": 1, \"Participant\": \"Part_3\", \"Time\": 12, \"Count\": 74}, {\"Digit\": 2, \"Participant\": \"Part_3\", \"Time\": 12, \"Count\": 13}, {\"Digit\": 7, \"Participant\": \"Part_3\", \"Time\": 12, \"Count\": 1}, {\"Digit\": 8, \"Participant\": \"Part_3\", \"Time\": 12, \"Count\": 85}, {\"Digit\": 6, \"Participant\": \"Part_3\", \"Time\": 12, \"Count\": 43}, {\"Digit\": 4, \"Participant\": \"Part_3\", \"Time\": 12, \"Count\": 1}, {\"Digit\": 5, \"Participant\": \"Part_3\", \"Time\": 12, \"Count\": 1}, {\"Digit\": 5, \"Participant\": \"Part_4\", \"Time\": 12, \"Count\": 48}, {\"Digit\": 0, \"Participant\": \"Part_4\", \"Time\": 12, \"Count\": 49}, {\"Digit\": 9, \"Participant\": \"Part_4\", \"Time\": 12, \"Count\": 50}, {\"Digit\": 4, \"Participant\": \"Part_4\", \"Time\": 12, \"Count\": 50}, {\"Digit\": 6, \"Participant\": \"Part_4\", \"Time\": 12, \"Count\": 49}, {\"Digit\": 1, \"Participant\": \"Part_4\", \"Time\": 12, \"Count\": 49}, {\"Digit\": 3, \"Participant\": \"Part_4\", \"Time\": 12, \"Count\": 49}, {\"Digit\": 8, \"Participant\": \"Part_4\", \"Time\": 12, \"Count\": 50}, {\"Digit\": 9, \"Participant\": \"Part_5\", \"Time\": 12, \"Count\": 49}, {\"Digit\": 3, \"Participant\": \"Part_5\", \"Time\": 12, \"Count\": 49}, {\"Digit\": 2, \"Participant\": \"Part_5\", \"Time\": 12, \"Count\": 50}, {\"Digit\": 4, \"Participant\": \"Part_5\", \"Time\": 12, \"Count\": 49}, {\"Digit\": 5, \"Participant\": \"Part_5\", \"Time\": 12, \"Count\": 49}, {\"Digit\": 0, \"Participant\": \"Part_5\", \"Time\": 12, \"Count\": 48}, {\"Digit\": 6, \"Participant\": \"Part_5\", \"Time\": 12, \"Count\": 48}, {\"Digit\": 8, \"Participant\": \"Part_5\", \"Time\": 12, \"Count\": 49}, {\"Digit\": 6, \"Participant\": \"Part_6\", \"Time\": 12, \"Count\": 48}, {\"Digit\": 0, \"Participant\": \"Part_6\", \"Time\": 12, \"Count\": 49}, {\"Digit\": 9, \"Participant\": \"Part_6\", \"Time\": 12, \"Count\": 49}, {\"Digit\": 2, \"Participant\": \"Part_6\", \"Time\": 12, \"Count\": 49}, {\"Digit\": 5, \"Participant\": \"Part_6\", \"Time\": 12, \"Count\": 49}, {\"Digit\": 7, \"Participant\": \"Part_6\", \"Time\": 12, \"Count\": 49}, {\"Digit\": 8, \"Participant\": \"Part_6\", \"Time\": 12, \"Count\": 48}, {\"Digit\": 1, \"Participant\": \"Part_6\", \"Time\": 12, \"Count\": 48}, {\"Digit\": 5, \"Participant\": \"Part_7\", \"Time\": 12, \"Count\": 599}, {\"Digit\": 2, \"Participant\": \"Part_7\", \"Time\": 12, \"Count\": 599}, {\"Digit\": 9, \"Participant\": \"Part_7\", \"Time\": 12, \"Count\": 599}, {\"Digit\": 6, \"Participant\": \"Part_7\", \"Time\": 12, \"Count\": 599}, {\"Digit\": 4, \"Participant\": \"Part_7\", \"Time\": 12, \"Count\": 598}, {\"Digit\": 0, \"Participant\": \"Part_7\", \"Time\": 12, \"Count\": 599}, {\"Digit\": 3, \"Participant\": \"Part_7\", \"Time\": 12, \"Count\": 599}, {\"Digit\": 8, \"Participant\": \"Part_7\", \"Time\": 12, \"Count\": 599}, {\"Digit\": 1, \"Participant\": \"Part_0\", \"Time\": 13, \"Count\": 68}, {\"Digit\": 9, \"Participant\": \"Part_0\", \"Time\": 13, \"Count\": 64}, {\"Digit\": 5, \"Participant\": \"Part_0\", \"Time\": 13, \"Count\": 65}, {\"Digit\": 0, \"Participant\": \"Part_0\", \"Time\": 13, \"Count\": 134}, {\"Digit\": 7, \"Participant\": \"Part_0\", \"Time\": 13, \"Count\": 172}, {\"Digit\": 2, \"Participant\": \"Part_0\", \"Time\": 13, \"Count\": 12}, {\"Digit\": 4, \"Participant\": \"Part_1\", \"Time\": 13, \"Count\": 37}, {\"Digit\": 5, \"Participant\": \"Part_1\", \"Time\": 13, \"Count\": 72}, {\"Digit\": 2, \"Participant\": \"Part_1\", \"Time\": 13, \"Count\": 136}, {\"Digit\": 7, \"Participant\": \"Part_1\", \"Time\": 13, \"Count\": 22}, {\"Digit\": 6, \"Participant\": \"Part_1\", \"Time\": 13, \"Count\": 66}, {\"Digit\": 2, \"Participant\": \"Part_2\", \"Time\": 13, \"Count\": 0}, {\"Digit\": 3, \"Participant\": \"Part_2\", \"Time\": 13, \"Count\": 88}, {\"Digit\": 9, \"Participant\": \"Part_2\", \"Time\": 13, \"Count\": 0}, {\"Digit\": 0, \"Participant\": \"Part_2\", \"Time\": 13, \"Count\": 68}, {\"Digit\": 7, \"Participant\": \"Part_2\", \"Time\": 13, \"Count\": 101}, {\"Digit\": 5, \"Participant\": \"Part_2\", \"Time\": 13, \"Count\": 5}, {\"Digit\": 6, \"Participant\": \"Part_2\", \"Time\": 13, \"Count\": 24}, {\"Digit\": 8, \"Participant\": \"Part_2\", \"Time\": 13, \"Count\": 30}, {\"Digit\": 0, \"Participant\": \"Part_3\", \"Time\": 13, \"Count\": 0}, {\"Digit\": 1, \"Participant\": \"Part_3\", \"Time\": 13, \"Count\": 75}, {\"Digit\": 2, \"Participant\": \"Part_3\", \"Time\": 13, \"Count\": 10}, {\"Digit\": 7, \"Participant\": \"Part_3\", \"Time\": 13, \"Count\": 0}, {\"Digit\": 8, \"Participant\": \"Part_3\", \"Time\": 13, \"Count\": 88}, {\"Digit\": 6, \"Participant\": \"Part_3\", \"Time\": 13, \"Count\": 43}, {\"Digit\": 4, \"Participant\": \"Part_3\", \"Time\": 13, \"Count\": 0}, {\"Digit\": 5, \"Participant\": \"Part_3\", \"Time\": 13, \"Count\": 0}, {\"Digit\": 5, \"Participant\": \"Part_4\", \"Time\": 13, \"Count\": 48}, {\"Digit\": 0, \"Participant\": \"Part_4\", \"Time\": 13, \"Count\": 49}, {\"Digit\": 9, \"Participant\": \"Part_4\", \"Time\": 13, \"Count\": 50}, {\"Digit\": 4, \"Participant\": \"Part_4\", \"Time\": 13, \"Count\": 50}, {\"Digit\": 6, \"Participant\": \"Part_4\", \"Time\": 13, \"Count\": 49}, {\"Digit\": 1, \"Participant\": \"Part_4\", \"Time\": 13, \"Count\": 49}, {\"Digit\": 3, \"Participant\": \"Part_4\", \"Time\": 13, \"Count\": 49}, {\"Digit\": 8, \"Participant\": \"Part_4\", \"Time\": 13, \"Count\": 50}, {\"Digit\": 9, \"Participant\": \"Part_5\", \"Time\": 13, \"Count\": 49}, {\"Digit\": 3, \"Participant\": \"Part_5\", \"Time\": 13, \"Count\": 49}, {\"Digit\": 2, \"Participant\": \"Part_5\", \"Time\": 13, \"Count\": 50}, {\"Digit\": 4, \"Participant\": \"Part_5\", \"Time\": 13, \"Count\": 49}, {\"Digit\": 5, \"Participant\": \"Part_5\", \"Time\": 13, \"Count\": 49}, {\"Digit\": 0, \"Participant\": \"Part_5\", \"Time\": 13, \"Count\": 48}, {\"Digit\": 6, \"Participant\": \"Part_5\", \"Time\": 13, \"Count\": 48}, {\"Digit\": 8, \"Participant\": \"Part_5\", \"Time\": 13, \"Count\": 49}, {\"Digit\": 6, \"Participant\": \"Part_6\", \"Time\": 13, \"Count\": 48}, {\"Digit\": 0, \"Participant\": \"Part_6\", \"Time\": 13, \"Count\": 49}, {\"Digit\": 9, \"Participant\": \"Part_6\", \"Time\": 13, \"Count\": 49}, {\"Digit\": 2, \"Participant\": \"Part_6\", \"Time\": 13, \"Count\": 49}, {\"Digit\": 5, \"Participant\": \"Part_6\", \"Time\": 13, \"Count\": 49}, {\"Digit\": 7, \"Participant\": \"Part_6\", \"Time\": 13, \"Count\": 49}, {\"Digit\": 8, \"Participant\": \"Part_6\", \"Time\": 13, \"Count\": 48}, {\"Digit\": 1, \"Participant\": \"Part_6\", \"Time\": 13, \"Count\": 48}, {\"Digit\": 5, \"Participant\": \"Part_7\", \"Time\": 13, \"Count\": 599}, {\"Digit\": 2, \"Participant\": \"Part_7\", \"Time\": 13, \"Count\": 599}, {\"Digit\": 9, \"Participant\": \"Part_7\", \"Time\": 13, \"Count\": 599}, {\"Digit\": 6, \"Participant\": \"Part_7\", \"Time\": 13, \"Count\": 599}, {\"Digit\": 4, \"Participant\": \"Part_7\", \"Time\": 13, \"Count\": 598}, {\"Digit\": 0, \"Participant\": \"Part_7\", \"Time\": 13, \"Count\": 599}, {\"Digit\": 3, \"Participant\": \"Part_7\", \"Time\": 13, \"Count\": 599}, {\"Digit\": 8, \"Participant\": \"Part_7\", \"Time\": 13, \"Count\": 599}, {\"Digit\": 1, \"Participant\": \"Part_0\", \"Time\": 14, \"Count\": 76}, {\"Digit\": 9, \"Participant\": \"Part_0\", \"Time\": 14, \"Count\": 64}, {\"Digit\": 5, \"Participant\": \"Part_0\", \"Time\": 14, \"Count\": 66}, {\"Digit\": 0, \"Participant\": \"Part_0\", \"Time\": 14, \"Count\": 142}, {\"Digit\": 7, \"Participant\": \"Part_0\", \"Time\": 14, \"Count\": 183}, {\"Digit\": 2, \"Participant\": \"Part_0\", \"Time\": 14, \"Count\": 8}, {\"Digit\": 4, \"Participant\": \"Part_1\", \"Time\": 14, \"Count\": 36}, {\"Digit\": 5, \"Participant\": \"Part_1\", \"Time\": 14, \"Count\": 85}, {\"Digit\": 2, \"Participant\": \"Part_1\", \"Time\": 14, \"Count\": 152}, {\"Digit\": 7, \"Participant\": \"Part_1\", \"Time\": 14, \"Count\": 12}, {\"Digit\": 6, \"Participant\": \"Part_1\", \"Time\": 14, \"Count\": 73}, {\"Digit\": 2, \"Participant\": \"Part_2\", \"Time\": 14, \"Count\": 0}, {\"Digit\": 3, \"Participant\": \"Part_2\", \"Time\": 14, \"Count\": 91}, {\"Digit\": 9, \"Participant\": \"Part_2\", \"Time\": 14, \"Count\": 0}, {\"Digit\": 0, \"Participant\": \"Part_2\", \"Time\": 14, \"Count\": 70}, {\"Digit\": 7, \"Participant\": \"Part_2\", \"Time\": 14, \"Count\": 107}, {\"Digit\": 5, \"Participant\": \"Part_2\", \"Time\": 14, \"Count\": 3}, {\"Digit\": 6, \"Participant\": \"Part_2\", \"Time\": 14, \"Count\": 22}, {\"Digit\": 8, \"Participant\": \"Part_2\", \"Time\": 14, \"Count\": 28}, {\"Digit\": 0, \"Participant\": \"Part_3\", \"Time\": 14, \"Count\": 0}, {\"Digit\": 1, \"Participant\": \"Part_3\", \"Time\": 14, \"Count\": 78}, {\"Digit\": 2, \"Participant\": \"Part_3\", \"Time\": 14, \"Count\": 6}, {\"Digit\": 7, \"Participant\": \"Part_3\", \"Time\": 14, \"Count\": 0}, {\"Digit\": 8, \"Participant\": \"Part_3\", \"Time\": 14, \"Count\": 92}, {\"Digit\": 6, \"Participant\": \"Part_3\", \"Time\": 14, \"Count\": 43}, {\"Digit\": 4, \"Participant\": \"Part_3\", \"Time\": 14, \"Count\": 0}, {\"Digit\": 5, \"Participant\": \"Part_3\", \"Time\": 14, \"Count\": 0}, {\"Digit\": 5, \"Participant\": \"Part_4\", \"Time\": 14, \"Count\": 48}, {\"Digit\": 0, \"Participant\": \"Part_4\", \"Time\": 14, \"Count\": 49}, {\"Digit\": 9, \"Participant\": \"Part_4\", \"Time\": 14, \"Count\": 50}, {\"Digit\": 4, \"Participant\": \"Part_4\", \"Time\": 14, \"Count\": 50}, {\"Digit\": 6, \"Participant\": \"Part_4\", \"Time\": 14, \"Count\": 49}, {\"Digit\": 1, \"Participant\": \"Part_4\", \"Time\": 14, \"Count\": 49}, {\"Digit\": 3, \"Participant\": \"Part_4\", \"Time\": 14, \"Count\": 49}, {\"Digit\": 8, \"Participant\": \"Part_4\", \"Time\": 14, \"Count\": 50}, {\"Digit\": 9, \"Participant\": \"Part_5\", \"Time\": 14, \"Count\": 49}, {\"Digit\": 3, \"Participant\": \"Part_5\", \"Time\": 14, \"Count\": 49}, {\"Digit\": 2, \"Participant\": \"Part_5\", \"Time\": 14, \"Count\": 50}, {\"Digit\": 4, \"Participant\": \"Part_5\", \"Time\": 14, \"Count\": 49}, {\"Digit\": 5, \"Participant\": \"Part_5\", \"Time\": 14, \"Count\": 49}, {\"Digit\": 0, \"Participant\": \"Part_5\", \"Time\": 14, \"Count\": 48}, {\"Digit\": 6, \"Participant\": \"Part_5\", \"Time\": 14, \"Count\": 48}, {\"Digit\": 8, \"Participant\": \"Part_5\", \"Time\": 14, \"Count\": 49}, {\"Digit\": 6, \"Participant\": \"Part_6\", \"Time\": 14, \"Count\": 48}, {\"Digit\": 0, \"Participant\": \"Part_6\", \"Time\": 14, \"Count\": 49}, {\"Digit\": 9, \"Participant\": \"Part_6\", \"Time\": 14, \"Count\": 49}, {\"Digit\": 2, \"Participant\": \"Part_6\", \"Time\": 14, \"Count\": 49}, {\"Digit\": 5, \"Participant\": \"Part_6\", \"Time\": 14, \"Count\": 49}, {\"Digit\": 7, \"Participant\": \"Part_6\", \"Time\": 14, \"Count\": 49}, {\"Digit\": 8, \"Participant\": \"Part_6\", \"Time\": 14, \"Count\": 48}, {\"Digit\": 1, \"Participant\": \"Part_6\", \"Time\": 14, \"Count\": 48}, {\"Digit\": 5, \"Participant\": \"Part_7\", \"Time\": 14, \"Count\": 599}, {\"Digit\": 2, \"Participant\": \"Part_7\", \"Time\": 14, \"Count\": 599}, {\"Digit\": 9, \"Participant\": \"Part_7\", \"Time\": 14, \"Count\": 599}, {\"Digit\": 6, \"Participant\": \"Part_7\", \"Time\": 14, \"Count\": 599}, {\"Digit\": 4, \"Participant\": \"Part_7\", \"Time\": 14, \"Count\": 598}, {\"Digit\": 0, \"Participant\": \"Part_7\", \"Time\": 14, \"Count\": 599}, {\"Digit\": 3, \"Participant\": \"Part_7\", \"Time\": 14, \"Count\": 599}, {\"Digit\": 8, \"Participant\": \"Part_7\", \"Time\": 14, \"Count\": 599}, {\"Digit\": 1, \"Participant\": \"Part_0\", \"Time\": 15, \"Count\": 85}, {\"Digit\": 9, \"Participant\": \"Part_0\", \"Time\": 15, \"Count\": 69}, {\"Digit\": 5, \"Participant\": \"Part_0\", \"Time\": 15, \"Count\": 68}, {\"Digit\": 0, \"Participant\": \"Part_0\", \"Time\": 15, \"Count\": 150}, {\"Digit\": 7, \"Participant\": \"Part_0\", \"Time\": 15, \"Count\": 199}, {\"Digit\": 2, \"Participant\": \"Part_0\", \"Time\": 15, \"Count\": 6}, {\"Digit\": 4, \"Participant\": \"Part_1\", \"Time\": 15, \"Count\": 35}, {\"Digit\": 5, \"Participant\": \"Part_1\", \"Time\": 15, \"Count\": 70}, {\"Digit\": 2, \"Participant\": \"Part_1\", \"Time\": 15, \"Count\": 156}, {\"Digit\": 7, \"Participant\": \"Part_1\", \"Time\": 15, \"Count\": 14}, {\"Digit\": 6, \"Participant\": \"Part_1\", \"Time\": 15, \"Count\": 69}, {\"Digit\": 2, \"Participant\": \"Part_2\", \"Time\": 15, \"Count\": 0}, {\"Digit\": 3, \"Participant\": \"Part_2\", \"Time\": 15, \"Count\": 94}, {\"Digit\": 9, \"Participant\": \"Part_2\", \"Time\": 15, \"Count\": 0}, {\"Digit\": 0, \"Participant\": \"Part_2\", \"Time\": 15, \"Count\": 72}, {\"Digit\": 7, \"Participant\": \"Part_2\", \"Time\": 15, \"Count\": 112}, {\"Digit\": 5, \"Participant\": \"Part_2\", \"Time\": 15, \"Count\": 1}, {\"Digit\": 6, \"Participant\": \"Part_2\", \"Time\": 15, \"Count\": 20}, {\"Digit\": 8, \"Participant\": \"Part_2\", \"Time\": 15, \"Count\": 26}, {\"Digit\": 0, \"Participant\": \"Part_3\", \"Time\": 15, \"Count\": 0}, {\"Digit\": 1, \"Participant\": \"Part_3\", \"Time\": 15, \"Count\": 79}, {\"Digit\": 2, \"Participant\": \"Part_3\", \"Time\": 15, \"Count\": 3}, {\"Digit\": 7, \"Participant\": \"Part_3\", \"Time\": 15, \"Count\": 0}, {\"Digit\": 8, \"Participant\": \"Part_3\", \"Time\": 15, \"Count\": 94}, {\"Digit\": 6, \"Participant\": \"Part_3\", \"Time\": 15, \"Count\": 41}, {\"Digit\": 4, \"Participant\": \"Part_3\", \"Time\": 15, \"Count\": 0}, {\"Digit\": 5, \"Participant\": \"Part_3\", \"Time\": 15, \"Count\": 0}, {\"Digit\": 5, \"Participant\": \"Part_4\", \"Time\": 15, \"Count\": 48}, {\"Digit\": 0, \"Participant\": \"Part_4\", \"Time\": 15, \"Count\": 49}, {\"Digit\": 9, \"Participant\": \"Part_4\", \"Time\": 15, \"Count\": 50}, {\"Digit\": 4, \"Participant\": \"Part_4\", \"Time\": 15, \"Count\": 50}, {\"Digit\": 6, \"Participant\": \"Part_4\", \"Time\": 15, \"Count\": 49}, {\"Digit\": 1, \"Participant\": \"Part_4\", \"Time\": 15, \"Count\": 49}, {\"Digit\": 3, \"Participant\": \"Part_4\", \"Time\": 15, \"Count\": 49}, {\"Digit\": 8, \"Participant\": \"Part_4\", \"Time\": 15, \"Count\": 50}, {\"Digit\": 9, \"Participant\": \"Part_5\", \"Time\": 15, \"Count\": 49}, {\"Digit\": 3, \"Participant\": \"Part_5\", \"Time\": 15, \"Count\": 49}, {\"Digit\": 2, \"Participant\": \"Part_5\", \"Time\": 15, \"Count\": 50}, {\"Digit\": 4, \"Participant\": \"Part_5\", \"Time\": 15, \"Count\": 49}, {\"Digit\": 5, \"Participant\": \"Part_5\", \"Time\": 15, \"Count\": 49}, {\"Digit\": 0, \"Participant\": \"Part_5\", \"Time\": 15, \"Count\": 48}, {\"Digit\": 6, \"Participant\": \"Part_5\", \"Time\": 15, \"Count\": 48}, {\"Digit\": 8, \"Participant\": \"Part_5\", \"Time\": 15, \"Count\": 49}, {\"Digit\": 6, \"Participant\": \"Part_6\", \"Time\": 15, \"Count\": 48}, {\"Digit\": 0, \"Participant\": \"Part_6\", \"Time\": 15, \"Count\": 49}, {\"Digit\": 9, \"Participant\": \"Part_6\", \"Time\": 15, \"Count\": 49}, {\"Digit\": 2, \"Participant\": \"Part_6\", \"Time\": 15, \"Count\": 49}, {\"Digit\": 5, \"Participant\": \"Part_6\", \"Time\": 15, \"Count\": 49}, {\"Digit\": 7, \"Participant\": \"Part_6\", \"Time\": 15, \"Count\": 49}, {\"Digit\": 8, \"Participant\": \"Part_6\", \"Time\": 15, \"Count\": 48}, {\"Digit\": 1, \"Participant\": \"Part_6\", \"Time\": 15, \"Count\": 48}, {\"Digit\": 5, \"Participant\": \"Part_7\", \"Time\": 15, \"Count\": 599}, {\"Digit\": 2, \"Participant\": \"Part_7\", \"Time\": 15, \"Count\": 599}, {\"Digit\": 9, \"Participant\": \"Part_7\", \"Time\": 15, \"Count\": 599}, {\"Digit\": 6, \"Participant\": \"Part_7\", \"Time\": 15, \"Count\": 599}, {\"Digit\": 4, \"Participant\": \"Part_7\", \"Time\": 15, \"Count\": 598}, {\"Digit\": 0, \"Participant\": \"Part_7\", \"Time\": 15, \"Count\": 599}, {\"Digit\": 3, \"Participant\": \"Part_7\", \"Time\": 15, \"Count\": 599}, {\"Digit\": 8, \"Participant\": \"Part_7\", \"Time\": 15, \"Count\": 599}, {\"Digit\": 1, \"Participant\": \"Part_0\", \"Time\": 16, \"Count\": 91}, {\"Digit\": 9, \"Participant\": \"Part_0\", \"Time\": 16, \"Count\": 70}, {\"Digit\": 5, \"Participant\": \"Part_0\", \"Time\": 16, \"Count\": 70}, {\"Digit\": 0, \"Participant\": \"Part_0\", \"Time\": 16, \"Count\": 159}, {\"Digit\": 7, \"Participant\": \"Part_0\", \"Time\": 16, \"Count\": 214}, {\"Digit\": 2, \"Participant\": \"Part_0\", \"Time\": 16, \"Count\": 4}, {\"Digit\": 4, \"Participant\": \"Part_1\", \"Time\": 16, \"Count\": 34}, {\"Digit\": 5, \"Participant\": \"Part_1\", \"Time\": 16, \"Count\": 91}, {\"Digit\": 2, \"Participant\": \"Part_1\", \"Time\": 16, \"Count\": 178}, {\"Digit\": 7, \"Participant\": \"Part_1\", \"Time\": 16, \"Count\": 23}, {\"Digit\": 6, \"Participant\": \"Part_1\", \"Time\": 16, \"Count\": 74}, {\"Digit\": 2, \"Participant\": \"Part_2\", \"Time\": 16, \"Count\": 0}, {\"Digit\": 3, \"Participant\": \"Part_2\", \"Time\": 16, \"Count\": 98}, {\"Digit\": 9, \"Participant\": \"Part_2\", \"Time\": 16, \"Count\": 0}, {\"Digit\": 0, \"Participant\": \"Part_2\", \"Time\": 16, \"Count\": 74}, {\"Digit\": 7, \"Participant\": \"Part_2\", \"Time\": 16, \"Count\": 119}, {\"Digit\": 5, \"Participant\": \"Part_2\", \"Time\": 16, \"Count\": 0}, {\"Digit\": 6, \"Participant\": \"Part_2\", \"Time\": 16, \"Count\": 18}, {\"Digit\": 8, \"Participant\": \"Part_2\", \"Time\": 16, \"Count\": 26}, {\"Digit\": 0, \"Participant\": \"Part_3\", \"Time\": 16, \"Count\": 0}, {\"Digit\": 1, \"Participant\": \"Part_3\", \"Time\": 16, \"Count\": 82}, {\"Digit\": 2, \"Participant\": \"Part_3\", \"Time\": 16, \"Count\": 0}, {\"Digit\": 7, \"Participant\": \"Part_3\", \"Time\": 16, \"Count\": 0}, {\"Digit\": 8, \"Participant\": \"Part_3\", \"Time\": 16, \"Count\": 98}, {\"Digit\": 6, \"Participant\": \"Part_3\", \"Time\": 16, \"Count\": 42}, {\"Digit\": 4, \"Participant\": \"Part_3\", \"Time\": 16, \"Count\": 0}, {\"Digit\": 5, \"Participant\": \"Part_3\", \"Time\": 16, \"Count\": 0}, {\"Digit\": 5, \"Participant\": \"Part_4\", \"Time\": 16, \"Count\": 48}, {\"Digit\": 0, \"Participant\": \"Part_4\", \"Time\": 16, \"Count\": 49}, {\"Digit\": 9, \"Participant\": \"Part_4\", \"Time\": 16, \"Count\": 50}, {\"Digit\": 4, \"Participant\": \"Part_4\", \"Time\": 16, \"Count\": 50}, {\"Digit\": 6, \"Participant\": \"Part_4\", \"Time\": 16, \"Count\": 49}, {\"Digit\": 1, \"Participant\": \"Part_4\", \"Time\": 16, \"Count\": 49}, {\"Digit\": 3, \"Participant\": \"Part_4\", \"Time\": 16, \"Count\": 49}, {\"Digit\": 8, \"Participant\": \"Part_4\", \"Time\": 16, \"Count\": 50}, {\"Digit\": 9, \"Participant\": \"Part_5\", \"Time\": 16, \"Count\": 49}, {\"Digit\": 3, \"Participant\": \"Part_5\", \"Time\": 16, \"Count\": 49}, {\"Digit\": 2, \"Participant\": \"Part_5\", \"Time\": 16, \"Count\": 50}, {\"Digit\": 4, \"Participant\": \"Part_5\", \"Time\": 16, \"Count\": 49}, {\"Digit\": 5, \"Participant\": \"Part_5\", \"Time\": 16, \"Count\": 49}, {\"Digit\": 0, \"Participant\": \"Part_5\", \"Time\": 16, \"Count\": 48}, {\"Digit\": 6, \"Participant\": \"Part_5\", \"Time\": 16, \"Count\": 48}, {\"Digit\": 8, \"Participant\": \"Part_5\", \"Time\": 16, \"Count\": 49}, {\"Digit\": 6, \"Participant\": \"Part_6\", \"Time\": 16, \"Count\": 48}, {\"Digit\": 0, \"Participant\": \"Part_6\", \"Time\": 16, \"Count\": 49}, {\"Digit\": 9, \"Participant\": \"Part_6\", \"Time\": 16, \"Count\": 49}, {\"Digit\": 2, \"Participant\": \"Part_6\", \"Time\": 16, \"Count\": 49}, {\"Digit\": 5, \"Participant\": \"Part_6\", \"Time\": 16, \"Count\": 49}, {\"Digit\": 7, \"Participant\": \"Part_6\", \"Time\": 16, \"Count\": 49}, {\"Digit\": 8, \"Participant\": \"Part_6\", \"Time\": 16, \"Count\": 48}, {\"Digit\": 1, \"Participant\": \"Part_6\", \"Time\": 16, \"Count\": 48}, {\"Digit\": 5, \"Participant\": \"Part_7\", \"Time\": 16, \"Count\": 599}, {\"Digit\": 2, \"Participant\": \"Part_7\", \"Time\": 16, \"Count\": 599}, {\"Digit\": 9, \"Participant\": \"Part_7\", \"Time\": 16, \"Count\": 599}, {\"Digit\": 6, \"Participant\": \"Part_7\", \"Time\": 16, \"Count\": 599}, {\"Digit\": 4, \"Participant\": \"Part_7\", \"Time\": 16, \"Count\": 598}, {\"Digit\": 0, \"Participant\": \"Part_7\", \"Time\": 16, \"Count\": 599}, {\"Digit\": 3, \"Participant\": \"Part_7\", \"Time\": 16, \"Count\": 599}, {\"Digit\": 8, \"Participant\": \"Part_7\", \"Time\": 16, \"Count\": 599}, {\"Digit\": 1, \"Participant\": \"Part_0\", \"Time\": 17, \"Count\": 89}, {\"Digit\": 9, \"Participant\": \"Part_0\", \"Time\": 17, \"Count\": 70}, {\"Digit\": 5, \"Participant\": \"Part_0\", \"Time\": 17, \"Count\": 72}, {\"Digit\": 0, \"Participant\": \"Part_0\", \"Time\": 17, \"Count\": 167}, {\"Digit\": 7, \"Participant\": \"Part_0\", \"Time\": 17, \"Count\": 227}, {\"Digit\": 2, \"Participant\": \"Part_0\", \"Time\": 17, \"Count\": 3}, {\"Digit\": 4, \"Participant\": \"Part_1\", \"Time\": 17, \"Count\": 33}, {\"Digit\": 5, \"Participant\": \"Part_1\", \"Time\": 17, \"Count\": 77}, {\"Digit\": 2, \"Participant\": \"Part_1\", \"Time\": 17, \"Count\": 182}, {\"Digit\": 7, \"Participant\": \"Part_1\", \"Time\": 17, \"Count\": 25}, {\"Digit\": 6, \"Participant\": \"Part_1\", \"Time\": 17, \"Count\": 75}, {\"Digit\": 2, \"Participant\": \"Part_2\", \"Time\": 17, \"Count\": 0}, {\"Digit\": 3, \"Participant\": \"Part_2\", \"Time\": 17, \"Count\": 101}, {\"Digit\": 9, \"Participant\": \"Part_2\", \"Time\": 17, \"Count\": 0}, {\"Digit\": 0, \"Participant\": \"Part_2\", \"Time\": 17, \"Count\": 74}, {\"Digit\": 7, \"Participant\": \"Part_2\", \"Time\": 17, \"Count\": 124}, {\"Digit\": 5, \"Participant\": \"Part_2\", \"Time\": 17, \"Count\": 0}, {\"Digit\": 6, \"Participant\": \"Part_2\", \"Time\": 17, \"Count\": 16}, {\"Digit\": 8, \"Participant\": \"Part_2\", \"Time\": 17, \"Count\": 23}, {\"Digit\": 0, \"Participant\": \"Part_3\", \"Time\": 17, \"Count\": 0}, {\"Digit\": 1, \"Participant\": \"Part_3\", \"Time\": 17, \"Count\": 84}, {\"Digit\": 2, \"Participant\": \"Part_3\", \"Time\": 17, \"Count\": 0}, {\"Digit\": 7, \"Participant\": \"Part_3\", \"Time\": 17, \"Count\": 0}, {\"Digit\": 8, \"Participant\": \"Part_3\", \"Time\": 17, \"Count\": 100}, {\"Digit\": 6, \"Participant\": \"Part_3\", \"Time\": 17, \"Count\": 40}, {\"Digit\": 4, \"Participant\": \"Part_3\", \"Time\": 17, \"Count\": 0}, {\"Digit\": 5, \"Participant\": \"Part_3\", \"Time\": 17, \"Count\": 0}, {\"Digit\": 5, \"Participant\": \"Part_4\", \"Time\": 17, \"Count\": 48}, {\"Digit\": 0, \"Participant\": \"Part_4\", \"Time\": 17, \"Count\": 49}, {\"Digit\": 9, \"Participant\": \"Part_4\", \"Time\": 17, \"Count\": 50}, {\"Digit\": 4, \"Participant\": \"Part_4\", \"Time\": 17, \"Count\": 50}, {\"Digit\": 6, \"Participant\": \"Part_4\", \"Time\": 17, \"Count\": 49}, {\"Digit\": 1, \"Participant\": \"Part_4\", \"Time\": 17, \"Count\": 49}, {\"Digit\": 3, \"Participant\": \"Part_4\", \"Time\": 17, \"Count\": 49}, {\"Digit\": 8, \"Participant\": \"Part_4\", \"Time\": 17, \"Count\": 50}, {\"Digit\": 9, \"Participant\": \"Part_5\", \"Time\": 17, \"Count\": 49}, {\"Digit\": 3, \"Participant\": \"Part_5\", \"Time\": 17, \"Count\": 49}, {\"Digit\": 2, \"Participant\": \"Part_5\", \"Time\": 17, \"Count\": 50}, {\"Digit\": 4, \"Participant\": \"Part_5\", \"Time\": 17, \"Count\": 49}, {\"Digit\": 5, \"Participant\": \"Part_5\", \"Time\": 17, \"Count\": 49}, {\"Digit\": 0, \"Participant\": \"Part_5\", \"Time\": 17, \"Count\": 48}, {\"Digit\": 6, \"Participant\": \"Part_5\", \"Time\": 17, \"Count\": 48}, {\"Digit\": 8, \"Participant\": \"Part_5\", \"Time\": 17, \"Count\": 49}, {\"Digit\": 6, \"Participant\": \"Part_6\", \"Time\": 17, \"Count\": 48}, {\"Digit\": 0, \"Participant\": \"Part_6\", \"Time\": 17, \"Count\": 49}, {\"Digit\": 9, \"Participant\": \"Part_6\", \"Time\": 17, \"Count\": 49}, {\"Digit\": 2, \"Participant\": \"Part_6\", \"Time\": 17, \"Count\": 49}, {\"Digit\": 5, \"Participant\": \"Part_6\", \"Time\": 17, \"Count\": 49}, {\"Digit\": 7, \"Participant\": \"Part_6\", \"Time\": 17, \"Count\": 49}, {\"Digit\": 8, \"Participant\": \"Part_6\", \"Time\": 17, \"Count\": 48}, {\"Digit\": 1, \"Participant\": \"Part_6\", \"Time\": 17, \"Count\": 48}, {\"Digit\": 5, \"Participant\": \"Part_7\", \"Time\": 17, \"Count\": 599}, {\"Digit\": 2, \"Participant\": \"Part_7\", \"Time\": 17, \"Count\": 599}, {\"Digit\": 9, \"Participant\": \"Part_7\", \"Time\": 17, \"Count\": 599}, {\"Digit\": 6, \"Participant\": \"Part_7\", \"Time\": 17, \"Count\": 599}, {\"Digit\": 4, \"Participant\": \"Part_7\", \"Time\": 17, \"Count\": 598}, {\"Digit\": 0, \"Participant\": \"Part_7\", \"Time\": 17, \"Count\": 599}, {\"Digit\": 3, \"Participant\": \"Part_7\", \"Time\": 17, \"Count\": 599}, {\"Digit\": 8, \"Participant\": \"Part_7\", \"Time\": 17, \"Count\": 599}, {\"Digit\": 1, \"Participant\": \"Part_0\", \"Time\": 18, \"Count\": 84}, {\"Digit\": 9, \"Participant\": \"Part_0\", \"Time\": 18, \"Count\": 74}, {\"Digit\": 5, \"Participant\": \"Part_0\", \"Time\": 18, \"Count\": 74}, {\"Digit\": 0, \"Participant\": \"Part_0\", \"Time\": 18, \"Count\": 176}, {\"Digit\": 7, \"Participant\": \"Part_0\", \"Time\": 18, \"Count\": 247}, {\"Digit\": 2, \"Participant\": \"Part_0\", \"Time\": 18, \"Count\": 2}, {\"Digit\": 4, \"Participant\": \"Part_1\", \"Time\": 18, \"Count\": 32}, {\"Digit\": 5, \"Participant\": \"Part_1\", \"Time\": 18, \"Count\": 88}, {\"Digit\": 2, \"Participant\": \"Part_1\", \"Time\": 18, \"Count\": 202}, {\"Digit\": 7, \"Participant\": \"Part_1\", \"Time\": 18, \"Count\": 14}, {\"Digit\": 6, \"Participant\": \"Part_1\", \"Time\": 18, \"Count\": 74}, {\"Digit\": 2, \"Participant\": \"Part_2\", \"Time\": 18, \"Count\": 0}, {\"Digit\": 3, \"Participant\": \"Part_2\", \"Time\": 18, \"Count\": 105}, {\"Digit\": 9, \"Participant\": \"Part_2\", \"Time\": 18, \"Count\": 0}, {\"Digit\": 0, \"Participant\": \"Part_2\", \"Time\": 18, \"Count\": 76}, {\"Digit\": 7, \"Participant\": \"Part_2\", \"Time\": 18, \"Count\": 131}, {\"Digit\": 5, \"Participant\": \"Part_2\", \"Time\": 18, \"Count\": 0}, {\"Digit\": 6, \"Participant\": \"Part_2\", \"Time\": 18, \"Count\": 14}, {\"Digit\": 8, \"Participant\": \"Part_2\", \"Time\": 18, \"Count\": 22}, {\"Digit\": 0, \"Participant\": \"Part_3\", \"Time\": 18, \"Count\": 0}, {\"Digit\": 1, \"Participant\": \"Part_3\", \"Time\": 18, \"Count\": 85}, {\"Digit\": 2, \"Participant\": \"Part_3\", \"Time\": 18, \"Count\": 0}, {\"Digit\": 7, \"Participant\": \"Part_3\", \"Time\": 18, \"Count\": 0}, {\"Digit\": 8, \"Participant\": \"Part_3\", \"Time\": 18, \"Count\": 104}, {\"Digit\": 6, \"Participant\": \"Part_3\", \"Time\": 18, \"Count\": 40}, {\"Digit\": 4, \"Participant\": \"Part_3\", \"Time\": 18, \"Count\": 0}, {\"Digit\": 5, \"Participant\": \"Part_3\", \"Time\": 18, \"Count\": 0}, {\"Digit\": 5, \"Participant\": \"Part_4\", \"Time\": 18, \"Count\": 48}, {\"Digit\": 0, \"Participant\": \"Part_4\", \"Time\": 18, \"Count\": 49}, {\"Digit\": 9, \"Participant\": \"Part_4\", \"Time\": 18, \"Count\": 50}, {\"Digit\": 4, \"Participant\": \"Part_4\", \"Time\": 18, \"Count\": 50}, {\"Digit\": 6, \"Participant\": \"Part_4\", \"Time\": 18, \"Count\": 49}, {\"Digit\": 1, \"Participant\": \"Part_4\", \"Time\": 18, \"Count\": 49}, {\"Digit\": 3, \"Participant\": \"Part_4\", \"Time\": 18, \"Count\": 49}, {\"Digit\": 8, \"Participant\": \"Part_4\", \"Time\": 18, \"Count\": 50}, {\"Digit\": 9, \"Participant\": \"Part_5\", \"Time\": 18, \"Count\": 49}, {\"Digit\": 3, \"Participant\": \"Part_5\", \"Time\": 18, \"Count\": 49}, {\"Digit\": 2, \"Participant\": \"Part_5\", \"Time\": 18, \"Count\": 50}, {\"Digit\": 4, \"Participant\": \"Part_5\", \"Time\": 18, \"Count\": 49}, {\"Digit\": 5, \"Participant\": \"Part_5\", \"Time\": 18, \"Count\": 49}, {\"Digit\": 0, \"Participant\": \"Part_5\", \"Time\": 18, \"Count\": 48}, {\"Digit\": 6, \"Participant\": \"Part_5\", \"Time\": 18, \"Count\": 48}, {\"Digit\": 8, \"Participant\": \"Part_5\", \"Time\": 18, \"Count\": 49}, {\"Digit\": 6, \"Participant\": \"Part_6\", \"Time\": 18, \"Count\": 48}, {\"Digit\": 0, \"Participant\": \"Part_6\", \"Time\": 18, \"Count\": 49}, {\"Digit\": 9, \"Participant\": \"Part_6\", \"Time\": 18, \"Count\": 49}, {\"Digit\": 2, \"Participant\": \"Part_6\", \"Time\": 18, \"Count\": 49}, {\"Digit\": 5, \"Participant\": \"Part_6\", \"Time\": 18, \"Count\": 49}, {\"Digit\": 7, \"Participant\": \"Part_6\", \"Time\": 18, \"Count\": 49}, {\"Digit\": 8, \"Participant\": \"Part_6\", \"Time\": 18, \"Count\": 48}, {\"Digit\": 1, \"Participant\": \"Part_6\", \"Time\": 18, \"Count\": 48}, {\"Digit\": 5, \"Participant\": \"Part_7\", \"Time\": 18, \"Count\": 599}, {\"Digit\": 2, \"Participant\": \"Part_7\", \"Time\": 18, \"Count\": 599}, {\"Digit\": 9, \"Participant\": \"Part_7\", \"Time\": 18, \"Count\": 599}, {\"Digit\": 6, \"Participant\": \"Part_7\", \"Time\": 18, \"Count\": 599}, {\"Digit\": 4, \"Participant\": \"Part_7\", \"Time\": 18, \"Count\": 598}, {\"Digit\": 0, \"Participant\": \"Part_7\", \"Time\": 18, \"Count\": 599}, {\"Digit\": 3, \"Participant\": \"Part_7\", \"Time\": 18, \"Count\": 599}, {\"Digit\": 8, \"Participant\": \"Part_7\", \"Time\": 18, \"Count\": 599}, {\"Digit\": 1, \"Participant\": \"Part_0\", \"Time\": 19, \"Count\": 79}, {\"Digit\": 9, \"Participant\": \"Part_0\", \"Time\": 19, \"Count\": 76}, {\"Digit\": 5, \"Participant\": \"Part_0\", \"Time\": 19, \"Count\": 76}, {\"Digit\": 0, \"Participant\": \"Part_0\", \"Time\": 19, \"Count\": 186}, {\"Digit\": 7, \"Participant\": \"Part_0\", \"Time\": 19, \"Count\": 262}, {\"Digit\": 2, \"Participant\": \"Part_0\", \"Time\": 19, \"Count\": 0}, {\"Digit\": 4, \"Participant\": \"Part_1\", \"Time\": 19, \"Count\": 31}, {\"Digit\": 5, \"Participant\": \"Part_1\", \"Time\": 19, \"Count\": 90}, {\"Digit\": 2, \"Participant\": \"Part_1\", \"Time\": 19, \"Count\": 217}, {\"Digit\": 7, \"Participant\": \"Part_1\", \"Time\": 19, \"Count\": 3}, {\"Digit\": 6, \"Participant\": \"Part_1\", \"Time\": 19, \"Count\": 80}, {\"Digit\": 2, \"Participant\": \"Part_2\", \"Time\": 19, \"Count\": 0}, {\"Digit\": 3, \"Participant\": \"Part_2\", \"Time\": 19, \"Count\": 108}, {\"Digit\": 9, \"Participant\": \"Part_2\", \"Time\": 19, \"Count\": 0}, {\"Digit\": 0, \"Participant\": \"Part_2\", \"Time\": 19, \"Count\": 78}, {\"Digit\": 7, \"Participant\": \"Part_2\", \"Time\": 19, \"Count\": 138}, {\"Digit\": 5, \"Participant\": \"Part_2\", \"Time\": 19, \"Count\": 0}, {\"Digit\": 6, \"Participant\": \"Part_2\", \"Time\": 19, \"Count\": 12}, {\"Digit\": 8, \"Participant\": \"Part_2\", \"Time\": 19, \"Count\": 21}, {\"Digit\": 0, \"Participant\": \"Part_3\", \"Time\": 19, \"Count\": 0}, {\"Digit\": 1, \"Participant\": \"Part_3\", \"Time\": 19, \"Count\": 88}, {\"Digit\": 2, \"Participant\": \"Part_3\", \"Time\": 19, \"Count\": 0}, {\"Digit\": 7, \"Participant\": \"Part_3\", \"Time\": 19, \"Count\": 0}, {\"Digit\": 8, \"Participant\": \"Part_3\", \"Time\": 19, \"Count\": 107}, {\"Digit\": 6, \"Participant\": \"Part_3\", \"Time\": 19, \"Count\": 40}, {\"Digit\": 4, \"Participant\": \"Part_3\", \"Time\": 19, \"Count\": 0}, {\"Digit\": 5, \"Participant\": \"Part_3\", \"Time\": 19, \"Count\": 0}, {\"Digit\": 5, \"Participant\": \"Part_4\", \"Time\": 19, \"Count\": 48}, {\"Digit\": 0, \"Participant\": \"Part_4\", \"Time\": 19, \"Count\": 49}, {\"Digit\": 9, \"Participant\": \"Part_4\", \"Time\": 19, \"Count\": 50}, {\"Digit\": 4, \"Participant\": \"Part_4\", \"Time\": 19, \"Count\": 50}, {\"Digit\": 6, \"Participant\": \"Part_4\", \"Time\": 19, \"Count\": 49}, {\"Digit\": 1, \"Participant\": \"Part_4\", \"Time\": 19, \"Count\": 49}, {\"Digit\": 3, \"Participant\": \"Part_4\", \"Time\": 19, \"Count\": 49}, {\"Digit\": 8, \"Participant\": \"Part_4\", \"Time\": 19, \"Count\": 50}, {\"Digit\": 9, \"Participant\": \"Part_5\", \"Time\": 19, \"Count\": 49}, {\"Digit\": 3, \"Participant\": \"Part_5\", \"Time\": 19, \"Count\": 49}, {\"Digit\": 2, \"Participant\": \"Part_5\", \"Time\": 19, \"Count\": 50}, {\"Digit\": 4, \"Participant\": \"Part_5\", \"Time\": 19, \"Count\": 49}, {\"Digit\": 5, \"Participant\": \"Part_5\", \"Time\": 19, \"Count\": 49}, {\"Digit\": 0, \"Participant\": \"Part_5\", \"Time\": 19, \"Count\": 48}, {\"Digit\": 6, \"Participant\": \"Part_5\", \"Time\": 19, \"Count\": 48}, {\"Digit\": 8, \"Participant\": \"Part_5\", \"Time\": 19, \"Count\": 49}, {\"Digit\": 6, \"Participant\": \"Part_6\", \"Time\": 19, \"Count\": 48}, {\"Digit\": 0, \"Participant\": \"Part_6\", \"Time\": 19, \"Count\": 49}, {\"Digit\": 9, \"Participant\": \"Part_6\", \"Time\": 19, \"Count\": 49}, {\"Digit\": 2, \"Participant\": \"Part_6\", \"Time\": 19, \"Count\": 49}, {\"Digit\": 5, \"Participant\": \"Part_6\", \"Time\": 19, \"Count\": 49}, {\"Digit\": 7, \"Participant\": \"Part_6\", \"Time\": 19, \"Count\": 49}, {\"Digit\": 8, \"Participant\": \"Part_6\", \"Time\": 19, \"Count\": 48}, {\"Digit\": 1, \"Participant\": \"Part_6\", \"Time\": 19, \"Count\": 48}, {\"Digit\": 5, \"Participant\": \"Part_7\", \"Time\": 19, \"Count\": 599}, {\"Digit\": 2, \"Participant\": \"Part_7\", \"Time\": 19, \"Count\": 599}, {\"Digit\": 9, \"Participant\": \"Part_7\", \"Time\": 19, \"Count\": 599}, {\"Digit\": 6, \"Participant\": \"Part_7\", \"Time\": 19, \"Count\": 599}, {\"Digit\": 4, \"Participant\": \"Part_7\", \"Time\": 19, \"Count\": 598}, {\"Digit\": 0, \"Participant\": \"Part_7\", \"Time\": 19, \"Count\": 599}, {\"Digit\": 3, \"Participant\": \"Part_7\", \"Time\": 19, \"Count\": 599}, {\"Digit\": 8, \"Participant\": \"Part_7\", \"Time\": 19, \"Count\": 599}, {\"Digit\": 1, \"Participant\": \"Part_0\", \"Time\": 20, \"Count\": 81}, {\"Digit\": 9, \"Participant\": \"Part_0\", \"Time\": 20, \"Count\": 76}, {\"Digit\": 5, \"Participant\": \"Part_0\", \"Time\": 20, \"Count\": 78}, {\"Digit\": 0, \"Participant\": \"Part_0\", \"Time\": 20, \"Count\": 195}, {\"Digit\": 7, \"Participant\": \"Part_0\", \"Time\": 20, \"Count\": 284}, {\"Digit\": 2, \"Participant\": \"Part_0\", \"Time\": 20, \"Count\": 0}, {\"Digit\": 4, \"Participant\": \"Part_1\", \"Time\": 20, \"Count\": 30}, {\"Digit\": 5, \"Participant\": \"Part_1\", \"Time\": 20, \"Count\": 83}, {\"Digit\": 2, \"Participant\": \"Part_1\", \"Time\": 20, \"Count\": 230}, {\"Digit\": 7, \"Participant\": \"Part_1\", \"Time\": 20, \"Count\": 2}, {\"Digit\": 6, \"Participant\": \"Part_1\", \"Time\": 20, \"Count\": 77}, {\"Digit\": 2, \"Participant\": \"Part_2\", \"Time\": 20, \"Count\": 0}, {\"Digit\": 3, \"Participant\": \"Part_2\", \"Time\": 20, \"Count\": 112}, {\"Digit\": 9, \"Participant\": \"Part_2\", \"Time\": 20, \"Count\": 0}, {\"Digit\": 0, \"Participant\": \"Part_2\", \"Time\": 20, \"Count\": 80}, {\"Digit\": 7, \"Participant\": \"Part_2\", \"Time\": 20, \"Count\": 145}, {\"Digit\": 5, \"Participant\": \"Part_2\", \"Time\": 20, \"Count\": 0}, {\"Digit\": 6, \"Participant\": \"Part_2\", \"Time\": 20, \"Count\": 10}, {\"Digit\": 8, \"Participant\": \"Part_2\", \"Time\": 20, \"Count\": 20}, {\"Digit\": 0, \"Participant\": \"Part_3\", \"Time\": 20, \"Count\": 0}, {\"Digit\": 1, \"Participant\": \"Part_3\", \"Time\": 20, \"Count\": 89}, {\"Digit\": 2, \"Participant\": \"Part_3\", \"Time\": 20, \"Count\": 0}, {\"Digit\": 7, \"Participant\": \"Part_3\", \"Time\": 20, \"Count\": 0}, {\"Digit\": 8, \"Participant\": \"Part_3\", \"Time\": 20, \"Count\": 109}, {\"Digit\": 6, \"Participant\": \"Part_3\", \"Time\": 20, \"Count\": 39}, {\"Digit\": 4, \"Participant\": \"Part_3\", \"Time\": 20, \"Count\": 0}, {\"Digit\": 5, \"Participant\": \"Part_3\", \"Time\": 20, \"Count\": 0}, {\"Digit\": 5, \"Participant\": \"Part_4\", \"Time\": 20, \"Count\": 48}, {\"Digit\": 0, \"Participant\": \"Part_4\", \"Time\": 20, \"Count\": 49}, {\"Digit\": 9, \"Participant\": \"Part_4\", \"Time\": 20, \"Count\": 50}, {\"Digit\": 4, \"Participant\": \"Part_4\", \"Time\": 20, \"Count\": 50}, {\"Digit\": 6, \"Participant\": \"Part_4\", \"Time\": 20, \"Count\": 49}, {\"Digit\": 1, \"Participant\": \"Part_4\", \"Time\": 20, \"Count\": 49}, {\"Digit\": 3, \"Participant\": \"Part_4\", \"Time\": 20, \"Count\": 49}, {\"Digit\": 8, \"Participant\": \"Part_4\", \"Time\": 20, \"Count\": 50}, {\"Digit\": 9, \"Participant\": \"Part_5\", \"Time\": 20, \"Count\": 49}, {\"Digit\": 3, \"Participant\": \"Part_5\", \"Time\": 20, \"Count\": 49}, {\"Digit\": 2, \"Participant\": \"Part_5\", \"Time\": 20, \"Count\": 50}, {\"Digit\": 4, \"Participant\": \"Part_5\", \"Time\": 20, \"Count\": 49}, {\"Digit\": 5, \"Participant\": \"Part_5\", \"Time\": 20, \"Count\": 49}, {\"Digit\": 0, \"Participant\": \"Part_5\", \"Time\": 20, \"Count\": 48}, {\"Digit\": 6, \"Participant\": \"Part_5\", \"Time\": 20, \"Count\": 48}, {\"Digit\": 8, \"Participant\": \"Part_5\", \"Time\": 20, \"Count\": 49}, {\"Digit\": 6, \"Participant\": \"Part_6\", \"Time\": 20, \"Count\": 48}, {\"Digit\": 0, \"Participant\": \"Part_6\", \"Time\": 20, \"Count\": 49}, {\"Digit\": 9, \"Participant\": \"Part_6\", \"Time\": 20, \"Count\": 49}, {\"Digit\": 2, \"Participant\": \"Part_6\", \"Time\": 20, \"Count\": 49}, {\"Digit\": 5, \"Participant\": \"Part_6\", \"Time\": 20, \"Count\": 49}, {\"Digit\": 7, \"Participant\": \"Part_6\", \"Time\": 20, \"Count\": 49}, {\"Digit\": 8, \"Participant\": \"Part_6\", \"Time\": 20, \"Count\": 48}, {\"Digit\": 1, \"Participant\": \"Part_6\", \"Time\": 20, \"Count\": 48}, {\"Digit\": 5, \"Participant\": \"Part_7\", \"Time\": 20, \"Count\": 599}, {\"Digit\": 2, \"Participant\": \"Part_7\", \"Time\": 20, \"Count\": 599}, {\"Digit\": 9, \"Participant\": \"Part_7\", \"Time\": 20, \"Count\": 599}, {\"Digit\": 6, \"Participant\": \"Part_7\", \"Time\": 20, \"Count\": 599}, {\"Digit\": 4, \"Participant\": \"Part_7\", \"Time\": 20, \"Count\": 598}, {\"Digit\": 0, \"Participant\": \"Part_7\", \"Time\": 20, \"Count\": 599}, {\"Digit\": 3, \"Participant\": \"Part_7\", \"Time\": 20, \"Count\": 599}, {\"Digit\": 8, \"Participant\": \"Part_7\", \"Time\": 20, \"Count\": 599}]}}, {\"mode\": \"vega-lite\"});\n",
       "</script>"
      ],
      "text/plain": [
       "alt.HConcatChart(...)"
      ]
     },
     "execution_count": 168,
     "metadata": {},
     "output_type": "execute_result"
    }
   ],
   "source": [
    "import altair as alt\n",
    "\n",
    "def plot_mnist_distribution(plot_data, plot_width=800, plot_height=400):\n",
    "    \"\"\"\n",
    "    Plot the MNIST distribution using a bar chart and heatmap, distributing the plot size\n",
    "    between the bar chart and heatmap.\n",
    "\n",
    "    Parameters:\n",
    "    - plot_data: DataFrame with the MNIST data\n",
    "    - plot_width: Total width of the final plot (default: 800)\n",
    "    - plot_height: Total height of the final plot (default: 400)\n",
    "    \"\"\"\n",
    "\n",
    "    # Create a slider for selecting 'Time'\n",
    "    time_slider = alt.binding_range(\n",
    "        min=plot_data['Time'].min(), \n",
    "        max=plot_data['Time'].max(), \n",
    "        step=1, \n",
    "        name=\"Select Time: \"\n",
    "    )\n",
    "    time_param = alt.selection_point(bind=time_slider, fields=['Time'], value = plot_data['Time'].min())\n",
    "\n",
    "    # Altair selection object for interactive filtering\n",
    "    bar_point = alt.selection_point(encodings=['x'])\n",
    "    client_selection = alt.selection_point(encodings=['y'])\n",
    "    \n",
    "    # Calculate the split dimensions for the two charts\n",
    "    bar_width = plot_width * 0.4   # 40% of the width for the bar chart\n",
    "    heatmap_width = plot_width * 0.6  # 60% of the width for the heatmap\n",
    "    bar_height = plot_height       # Full height for the bar chart\n",
    "    heatmap_height = plot_height   # Full height for the heatmap\n",
    "    \n",
    "    # Heatmap (Digit vs. Participant) filtered by selected Time\n",
    "    heatmap = alt.Chart(plot_data).mark_rect().encode(\n",
    "        x=alt.X('Digit:O', title=\"MNIST Digit (0-9)\"),\n",
    "        y=alt.Y('Participant:N', title=\"Participants\"),\n",
    "        color = alt.condition(\n",
    "                bar_point, \n",
    "                alt.Color('Count:Q', scale=alt.Scale(scheme='greenblue'), title=\"Total Count\", legend=alt.Legend(orient=\"top\")),  \n",
    "                alt.ColorValue(\"grey\")  # Non-selected values will be grey\n",
    "            ),\n",
    "        tooltip=[alt.Tooltip('Digit:O', title=\"Digit\"),\n",
    "                 alt.Tooltip('Participant:N', title=\"Participant\"),\n",
    "                 alt.Tooltip('Count:Q', title=\"Total Count\")]\n",
    "    ).transform_filter(\n",
    "        time_param\n",
    "    ).add_params(bar_point, client_selection, time_param).properties(width=heatmap_width, height=heatmap_height)\n",
    "    \n",
    "    # Overlay points for highlighting\n",
    "    highlight_points = heatmap.mark_point().encode(\n",
    "        color=alt.ColorValue('black'),\n",
    "        size=alt.Size('Count:Q', title=\"Selected Images\")\n",
    "    ).transform_filter(\n",
    "        bar_point\n",
    "    ).transform_filter(\n",
    "        client_selection\n",
    "    )\n",
    "    \n",
    "    \n",
    "    # Bar chart (Total images per client_selectionicipant) filtered by selected Time\n",
    "    bar_chart = alt.Chart(plot_data).mark_bar().encode(\n",
    "        x=\"Participant:N\",\n",
    "        y=\"sum(Count):Q\",\n",
    "        color=alt.condition(bar_point, alt.ColorValue(\"steelblue\"), alt.ColorValue(\"grey\"))\n",
    "    ).transform_filter(\n",
    "        time_param\n",
    "    ).add_params(bar_point).properties(width=bar_width, height=bar_height)\n",
    "\n",
    "\n",
    "    # Create an Altair line chart with markers\n",
    "    line_chart = alt.Chart(plot_data).mark_line().encode(\n",
    "        x='Time:O',  # Ordinal axis for time\n",
    "        y='Count:Q',  # Quantitative axis for process value\n",
    "        color=alt.Color('Digit:O', title=\"Stoc.Process\"),\n",
    "        tooltip=['Digit', 'Time', 'Count']\n",
    "    ).properties(\n",
    "        title=\"Process over Time\",\n",
    "        width=300,\n",
    "        height=plot_height\n",
    "    ).transform_filter(\n",
    "        bar_point\n",
    "    ).transform_filter(\n",
    "        client_selection\n",
    "    )\n",
    "    \n",
    "    # Add markers (circles) at data points\n",
    "    marker_chart = alt.Chart(plot_data).mark_circle(size=50).encode(\n",
    "        x='Time:O',\n",
    "        y='Count:Q',\n",
    "        color=alt.Color('Digit:O', title=\"Stoc.Process\"),\n",
    "        tooltip=['Digit', 'Time', 'Count']\n",
    "    ).transform_filter(\n",
    "        bar_point\n",
    "    ).transform_filter(\n",
    "        client_selection\n",
    "    )\n",
    "    \n",
    "    # Overlay the markers on top of the line chart\n",
    "    chart = line_chart + marker_chart\n",
    "    \n",
    "    # Combine the charts horizontally\n",
    "    final_chart = alt.hconcat(\n",
    "        bar_chart,\n",
    "        heatmap + highlight_points,\n",
    "        chart\n",
    "    ).resolve_legend(\n",
    "        color=\"independent\",\n",
    "        size=\"independent\"\n",
    "    )\n",
    "\n",
    "    return final_chart\n",
    "\n",
    "# Example of using the function with custom plot size\n",
    "final_chart = plot_mnist_distribution(plot_data=df_plot, plot_width=350, plot_height=250)\n",
    "final_chart"
   ]
  },
  {
   "cell_type": "code",
   "execution_count": 170,
   "id": "370852a0-6ca2-4066-856f-e1fe1d72442b",
   "metadata": {},
   "outputs": [
    {
     "data": {
      "text/plain": [
       "{1152,\n",
       " 1625,\n",
       " 2539,\n",
       " 5978,\n",
       " 6207,\n",
       " 6619,\n",
       " 7506,\n",
       " 9196,\n",
       " 11091,\n",
       " 11605,\n",
       " 12457,\n",
       " 14258,\n",
       " 14472,\n",
       " 14649,\n",
       " 14722,\n",
       " 16043,\n",
       " 17738,\n",
       " 18858,\n",
       " 19166,\n",
       " 19550,\n",
       " 19822,\n",
       " 21273,\n",
       " 21658,\n",
       " 22857,\n",
       " 23589,\n",
       " 24952,\n",
       " 26183,\n",
       " 26298,\n",
       " 28131,\n",
       " 29250,\n",
       " 30088,\n",
       " 34623,\n",
       " 39710,\n",
       " 40390,\n",
       " 40418,\n",
       " 40633,\n",
       " 42217,\n",
       " 42764,\n",
       " 44121,\n",
       " 47000,\n",
       " 47166,\n",
       " 47599,\n",
       " 51348,\n",
       " 53344,\n",
       " 54368,\n",
       " 54783,\n",
       " 57202,\n",
       " 57843,\n",
       " 58819,\n",
       " 59337}"
      ]
     },
     "execution_count": 170,
     "metadata": {},
     "output_type": "execute_result"
    }
   ],
   "source": [
    "from torch.utils.data import DataLoader, SubsetRandomSampler\n",
    "\n",
    "\n",
    "train_sampler = SubsetRandomSampler(federation[-2].get_sample_label(0, 0))\n",
    "\n",
    "DataLoader(train_dataset, batch_size=64, sampler=train_sampler)"
   ]
  },
  {
   "cell_type": "code",
   "execution_count": null,
   "id": "ad0e952f-729e-4338-ae2e-6ad716ae7a19",
   "metadata": {},
   "outputs": [],
   "source": []
  }
 ],
 "metadata": {
  "kernelspec": {
   "display_name": "Python 3 (ipykernel)",
   "language": "python",
   "name": "python3"
  },
  "language_info": {
   "codemirror_mode": {
    "name": "ipython",
    "version": 3
   },
   "file_extension": ".py",
   "mimetype": "text/x-python",
   "name": "python",
   "nbconvert_exporter": "python",
   "pygments_lexer": "ipython3",
   "version": "3.11.5"
  },
  "widgets": {
   "application/vnd.jupyter.widget-state+json": {
    "state": {},
    "version_major": 2,
    "version_minor": 0
   }
  }
 },
 "nbformat": 4,
 "nbformat_minor": 5
}
